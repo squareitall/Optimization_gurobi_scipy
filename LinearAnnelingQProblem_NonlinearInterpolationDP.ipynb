{
  "nbformat": 4,
  "nbformat_minor": 0,
  "metadata": {
    "colab": {
      "name": "Assignment4.ipynb",
      "provenance": []
    },
    "kernelspec": {
      "name": "python3",
      "display_name": "Python 3"
    },
    "language_info": {
      "name": "python"
    }
  },
  "cells": [
    {
      "cell_type": "markdown",
      "source": [
        "# QUESTION 1\n",
        "Linear Annealed Policy \n",
        ">> Applied on Epsilon Bandit Problem"
      ],
      "metadata": {
        "id": "sh-6DNw_iASf"
      }
    },
    {
      "cell_type": "code",
      "execution_count": null,
      "metadata": {
        "id": "__6363ZAEtDI"
      },
      "outputs": [],
      "source": [
        "import numpy as np\n",
        "import numpy.random as npr\n",
        "\n",
        "import matplotlib.pyplot as plt"
      ]
    },
    {
      "cell_type": "code",
      "source": [
        "#Intialization of class parameters \n",
        "lt_u = np.array([1,2,3,4])\n",
        "lt_std = np.array([1,2,3,4])\n",
        "n_arms = len(lt_u)\n"
      ],
      "metadata": {
        "id": "mJJ5UCb5E0gy"
      },
      "execution_count": null,
      "outputs": []
    },
    {
      "cell_type": "code",
      "source": [
        "#Parameters sfor this method are pulls,epsilon,decrement rate and stop_value \n",
        "n_pulls = 500\n",
        "epsilon=0.95\n",
        "decrement_rate=None\n",
        "\n",
        "stop_value=None\n",
        "\n",
        "def estimate_reward(n_pulls,epsilon,decrement_rate=None,stop_value=None):\n",
        "  global n_arms,lt_u,lt_std\n",
        "  lt_reward=np.zeros(shape=(n_arms))\n",
        "  lt_pulls=np.zeros(shape=(n_arms))\n",
        "\n",
        "  total_reward=0\n",
        "\n",
        "  for pull in range(n_pulls):\n",
        "    bandit_chosen=None\n",
        "    current_probability=npr.random()\n",
        "\n",
        "    #Select the arm\n",
        "    if current_probability<epsilon:\n",
        "      #Explore\n",
        "      temp_arm=npr.choice(range(n_arms))\n",
        "    else:\n",
        "      temp_arm=np.argmax(lt_reward)\n",
        "\n",
        "    #Sidebar activity of decreasing epsilon for next pull\n",
        "    if decrement_rate:\n",
        "      if not stop_value:\n",
        "        #Assign kr agr stop value assigned nahi hai toh\n",
        "        stop_value=0.01\n",
        "      if epsilon>(stop_value+decrement_rate):\n",
        "        epsilon-=decrement_rate\n",
        "\n",
        "    #Estimate reward\n",
        "    pull_reward=npr.normal(\n",
        "        loc=lt_u[temp_arm],scale=lt_std[temp_arm]\n",
        "                          )\n",
        "\n",
        "    #Update the state variables\n",
        "    old_average_reward=lt_reward[temp_arm]\n",
        "    new_average_reward=((lt_pulls[temp_arm]*old_average_reward)+pull_reward)/(lt_pulls[temp_arm]+1)\n",
        "\n",
        "    lt_reward[temp_arm]=new_average_reward\n",
        "    lt_pulls[temp_arm]+=1\n",
        "\n",
        "    #Cache your reward\n",
        "    total_reward+=pull_reward\n",
        "\n",
        "  return total_reward"
      ],
      "metadata": {
        "id": "4LlzfpNTFkOV"
      },
      "execution_count": null,
      "outputs": []
    },
    {
      "cell_type": "code",
      "source": [
        "estimate_reward(n_pulls=500,\n",
        "                epsilon=0.95,\n",
        "                decrement_rate=0.05,\n",
        "                stop_value=0.05)"
      ],
      "metadata": {
        "colab": {
          "base_uri": "https://localhost:8080/"
        },
        "id": "atcHWsRXQSez",
        "outputId": "155aa48e-79ec-4cde-9103-6616e3c38413"
      },
      "execution_count": null,
      "outputs": [
        {
          "output_type": "execute_result",
          "data": {
            "text/plain": [
              "1822.169315887552"
            ]
          },
          "metadata": {},
          "execution_count": 4
        }
      ]
    },
    {
      "cell_type": "code",
      "source": [
        "#Can be ABC abstract class that takes a function that can always be simulated\n",
        "\n",
        "# def simulate_results(n_sims,verbose=True):\n",
        "verbose=True\n",
        "n_sims=5000\n",
        "from collections import defaultdict\n",
        "\n",
        "avg_reward=0\n",
        "\n",
        "if verbose:\n",
        "  dict_store=defaultdict(float)\n",
        "\n",
        "for sim in range(n_sims):\n",
        "  temp_reward=estimate_reward(n_pulls=500,\n",
        "                epsilon=0.95,\n",
        "                decrement_rate=0.05,\n",
        "                stop_value=0.05)\n",
        "  reward_tillSim=avg_reward*(max(sim,0))\n",
        "  rewardSum=reward_tillSim+temp_reward\n",
        "\n",
        "  avg_reward=rewardSum/(sim+1)\n",
        "\n",
        "  if verbose:\n",
        "    dict_store[sim]=temp_reward\n",
        "\n",
        "\n"
      ],
      "metadata": {
        "id": "kKpDbwvEMPYm"
      },
      "execution_count": null,
      "outputs": []
    },
    {
      "cell_type": "code",
      "source": [
        "plt.plot(list(dict_store.values()))\n",
        "avg_reward"
      ],
      "metadata": {
        "colab": {
          "base_uri": "https://localhost:8080/",
          "height": 284
        },
        "id": "MUOiJ6PMVPR9",
        "outputId": "96155ded-1528-4ce7-c6d6-00a7200c6a8c"
      },
      "execution_count": null,
      "outputs": [
        {
          "output_type": "execute_result",
          "data": {
            "text/plain": [
              "1802.3644216988034"
            ]
          },
          "metadata": {},
          "execution_count": 6
        },
        {
          "output_type": "display_data",
          "data": {
            "text/plain": [
              "<Figure size 432x288 with 1 Axes>"
            ],
            "image/png": "[encoded data removed]"
          },
          "metadata": {
            "needs_background": "light"
          }
        }
      ]
    },
    {
      "cell_type": "code",
      "source": [
        "dict_strategies={'A': {'n_pulls': 500,\n",
        "                      'epsilon':1,\n",
        "                      'decrement_rate':(0.5/100),\n",
        "                      'stop_value':0.25\n",
        "                      },\n",
        "                 'B': {'n_pulls': 500,\n",
        "                      'epsilon':0.5,\n",
        "                      'decrement_rate':(1/100),\n",
        "                      'stop_value':0.05\n",
        "                      },\n",
        "                 'C': {'n_pulls': 500,\n",
        "                      'epsilon':0.9,\n",
        "                      'decrement_rate':(0.5/100),\n",
        "                      'stop_value':0.1\n",
        "                      },\n",
        "                 'D': {'n_pulls': 500,\n",
        "                      'epsilon':0.75,\n",
        "                      'decrement_rate':(1/100),\n",
        "                      'stop_value':0.15\n",
        "                      },\n",
        "                 'E': {'n_pulls': 500,\n",
        "                      'epsilon':0.15,\n",
        "                      'decrement_rate':None,\n",
        "                      'stop_value':None\n",
        "                      }\n",
        "                }\n",
        "dict_strategies.keys()"
      ],
      "metadata": {
        "colab": {
          "base_uri": "https://localhost:8080/"
        },
        "id": "99PBSZO3Xm6T",
        "outputId": "a574a057-fb56-4dcd-c04b-608fe9a3ebae"
      },
      "execution_count": null,
      "outputs": [
        {
          "output_type": "execute_result",
          "data": {
            "text/plain": [
              "dict_keys(['A', 'B', 'C', 'D', 'E'])"
            ]
          },
          "metadata": {},
          "execution_count": 7
        }
      ]
    },
    {
      "cell_type": "code",
      "source": [
        "verbose=True\n",
        "n_sims=5000\n",
        "from collections import defaultdict\n",
        "\n",
        "def simulate_activity(n_sims,dict_specifications,verbose=False):\n",
        "\n",
        "  avg_reward=0\n",
        "  if verbose:\n",
        "    dict_store=defaultdict(float)\n",
        "\n",
        "  for sim in range(n_sims):\n",
        "    temp_reward=estimate_reward(\n",
        "        *list(dict_specifications.values())\n",
        "    )\n",
        "    reward_tillSim=avg_reward*(max(sim,0))\n",
        "    rewardSum=reward_tillSim+temp_reward\n",
        "\n",
        "    avg_reward=rewardSum/(sim+1)\n",
        "\n",
        "    if verbose:\n",
        "      dict_store[sim]=temp_reward\n",
        "  if verbose:\n",
        "    return(avg_reward,dict_store)\n",
        "  return avg_reward\n",
        "# simulate_activity(5,dict_strategies['A'])"
      ],
      "metadata": {
        "id": "s2afol-qajjD"
      },
      "execution_count": null,
      "outputs": []
    },
    {
      "cell_type": "code",
      "source": [
        "for k,val in dict_strategies.items():\n",
        "  strategy_simulated_award=simulate_activity(5000,\n",
        "                                             val\n",
        "                                             )\n",
        "  \n",
        "  dict_strategies[k]['strategy_simulated_award']=strategy_simulated_award\n",
        "  print(k,strategy_simulated_award,sep='-->')\n"
      ],
      "metadata": {
        "colab": {
          "base_uri": "https://localhost:8080/"
        },
        "id": "TqLUju6CcI3M",
        "outputId": "8cea9129-6934-496c-fc1e-be24149ef12e"
      },
      "execution_count": null,
      "outputs": [
        {
          "output_type": "stream",
          "name": "stdout",
          "text": [
            "A-->1697.6769464243516\n",
            "B-->1799.6646176518805\n",
            "C-->1782.5031650796204\n",
            "D-->1786.671183317738\n",
            "E-->1750.6939705320117\n"
          ]
        }
      ]
    },
    {
      "cell_type": "code",
      "source": [
        "# for k,val in dict_strategies.items():\n",
        "#   strategy_simulated_award=simulate_activity(5000,\n",
        "#                                              val\n",
        "#                                              )\n",
        "  \n",
        "#   dict_strategies[k]['strategy_simulated_award']=strategy_simulated_award\n",
        "#   print(k,strategy_simulated_award,sep='-->')\n"
      ],
      "metadata": {
        "id": "NaAHJQi5dwGs"
      },
      "execution_count": null,
      "outputs": []
    },
    {
      "cell_type": "code",
      "source": [
        "for k,val in dict_strategies.items():\n",
        "  strategy_simulated_award,strategy_dict_scores=simulate_activity(5000,\n",
        "                                             val,verbose=True\n",
        "                                             )\n",
        "  \n",
        "  dict_strategies[k]['strategy_simulated_award']=strategy_simulated_award\n",
        "  dict_strategies[k]['strategy_dict_scores']=strategy_dict_scores\n",
        "  print(k,strategy_simulated_award,sep='-->')\n"
      ],
      "metadata": {
        "colab": {
          "base_uri": "https://localhost:8080/",
          "height": 372
        },
        "id": "qmOEEeSxfRlm",
        "outputId": "1acdec03-0485-4a0f-dc6d-c6a46106eb65"
      },
      "execution_count": null,
      "outputs": [
        {
          "output_type": "error",
          "ename": "TypeError",
          "evalue": "ignored",
          "traceback": [
            "\u001b[0;31m---------------------------------------------------------------------------\u001b[0m",
            "\u001b[0;31mTypeError\u001b[0m                                 Traceback (most recent call last)",
            "\u001b[0;32m<ipython-input-11-52290136d496>\u001b[0m in \u001b[0;36m<module>\u001b[0;34m()\u001b[0m\n\u001b[1;32m      1\u001b[0m \u001b[0;32mfor\u001b[0m \u001b[0mk\u001b[0m\u001b[0;34m,\u001b[0m\u001b[0mval\u001b[0m \u001b[0;32min\u001b[0m \u001b[0mdict_strategies\u001b[0m\u001b[0;34m.\u001b[0m\u001b[0mitems\u001b[0m\u001b[0;34m(\u001b[0m\u001b[0;34m)\u001b[0m\u001b[0;34m:\u001b[0m\u001b[0;34m\u001b[0m\u001b[0;34m\u001b[0m\u001b[0m\n\u001b[1;32m      2\u001b[0m   strategy_simulated_award,strategy_dict_scores=simulate_activity(5000,\n\u001b[0;32m----> 3\u001b[0;31m                                              \u001b[0mval\u001b[0m\u001b[0;34m,\u001b[0m\u001b[0mverbose\u001b[0m\u001b[0;34m=\u001b[0m\u001b[0;32mTrue\u001b[0m\u001b[0;34m\u001b[0m\u001b[0;34m\u001b[0m\u001b[0m\n\u001b[0m\u001b[1;32m      4\u001b[0m                                              )\n\u001b[1;32m      5\u001b[0m \u001b[0;34m\u001b[0m\u001b[0m\n",
            "\u001b[0;32m<ipython-input-8-d443aea85f06>\u001b[0m in \u001b[0;36msimulate_activity\u001b[0;34m(n_sims, dict_specifications, verbose)\u001b[0m\n\u001b[1;32m     11\u001b[0m   \u001b[0;32mfor\u001b[0m \u001b[0msim\u001b[0m \u001b[0;32min\u001b[0m \u001b[0mrange\u001b[0m\u001b[0;34m(\u001b[0m\u001b[0mn_sims\u001b[0m\u001b[0;34m)\u001b[0m\u001b[0;34m:\u001b[0m\u001b[0;34m\u001b[0m\u001b[0;34m\u001b[0m\u001b[0m\n\u001b[1;32m     12\u001b[0m     temp_reward=estimate_reward(\n\u001b[0;32m---> 13\u001b[0;31m         \u001b[0;34m*\u001b[0m\u001b[0mlist\u001b[0m\u001b[0;34m(\u001b[0m\u001b[0mdict_specifications\u001b[0m\u001b[0;34m.\u001b[0m\u001b[0mvalues\u001b[0m\u001b[0;34m(\u001b[0m\u001b[0;34m)\u001b[0m\u001b[0;34m)\u001b[0m\u001b[0;34m\u001b[0m\u001b[0;34m\u001b[0m\u001b[0m\n\u001b[0m\u001b[1;32m     14\u001b[0m     )\n\u001b[1;32m     15\u001b[0m     \u001b[0mreward_tillSim\u001b[0m\u001b[0;34m=\u001b[0m\u001b[0mavg_reward\u001b[0m\u001b[0;34m*\u001b[0m\u001b[0;34m(\u001b[0m\u001b[0mmax\u001b[0m\u001b[0;34m(\u001b[0m\u001b[0msim\u001b[0m\u001b[0;34m,\u001b[0m\u001b[0;36m0\u001b[0m\u001b[0;34m)\u001b[0m\u001b[0;34m)\u001b[0m\u001b[0;34m\u001b[0m\u001b[0;34m\u001b[0m\u001b[0m\n",
            "\u001b[0;31mTypeError\u001b[0m: estimate_reward() takes from 2 to 4 positional arguments but 5 were given"
          ]
        }
      ]
    },
    {
      "cell_type": "code",
      "source": [
        "# f,ax\n",
        "import pandas as pd\n",
        "pd.concat([pd.Series(dict_strategies[k]['strategy_dict_scores']) for k in dict_strategies.keys()],\n",
        "          axis=1).boxplot(figsize=(20,8))"
      ],
      "metadata": {
        "id": "2Jjl0qxPgeFn"
      },
      "execution_count": null,
      "outputs": []
    },
    {
      "cell_type": "markdown",
      "source": [
        "## Rough WORK"
      ],
      "metadata": {
        "id": "wiSjRShxLxKI"
      }
    },
    {
      "cell_type": "code",
      "source": [
        "lt_ch=[npr.choice(range(n_arms)) for _ in range(1000)]\n",
        "plt.hist(lt_ch)"
      ],
      "metadata": {
        "id": "gtaDF_CMLwDi"
      },
      "execution_count": null,
      "outputs": []
    },
    {
      "cell_type": "code",
      "source": [
        "# lt_reward\n",
        "# estimate_reward(\n",
        "#     *list(dict_strategies['A'].values())\n",
        "#             )"
      ],
      "metadata": {
        "id": "WT6QxnrCLwJz"
      },
      "execution_count": null,
      "outputs": []
    },
    {
      "cell_type": "code",
      "source": [
        "plt.boxplot(list(dict_strategies[k]['strategy_dict_scores'].values()))"
      ],
      "metadata": {
        "id": "lWNqMqABgxx-"
      },
      "execution_count": null,
      "outputs": []
    },
    {
      "cell_type": "markdown",
      "source": [
        "## Reference"
      ],
      "metadata": {
        "id": "v4F3uirSS9Hm"
      }
    },
    {
      "cell_type": "code",
      "source": [
        "# https://docs.python.org/3/library/abc.html"
      ],
      "metadata": {
        "id": "6YuWwOk4S8hU"
      },
      "execution_count": null,
      "outputs": []
    },
    {
      "cell_type": "code",
      "source": [
        ""
      ],
      "metadata": {
        "id": "qBofwHQoS_D2"
      },
      "execution_count": null,
      "outputs": []
    },
    {
      "cell_type": "markdown",
      "source": [
        "# Question 2\n"
      ],
      "metadata": {
        "id": "q8X1ETjiikDd"
      }
    },
    {
      "cell_type": "code",
      "source": [
        "import numpy as np\n",
        "\n",
        "from scipy.optimize import minimize\n",
        "from scipy.interpolate import CubicSpline"
      ],
      "metadata": {
        "id": "VwXCWwgnUgXo"
      },
      "execution_count": 1,
      "outputs": []
    },
    {
      "cell_type": "code",
      "source": [
        "price = 1 \n",
        "M=100 \n",
        "delta = 0.9 \n",
        "T=15 \n",
        "\n",
        "sValues = np.arange(M+1) \n",
        "tValues = np.arange(T+1)\n",
        "\n",
        "sN=len(sValues) # how many s and t values are there?\n",
        "tN=len(tValues)\n"
      ],
      "metadata": {
        "id": "85LJjxZJii9t"
      },
      "execution_count": 56,
      "outputs": []
    },
    {
      "cell_type": "code",
      "source": [
        "V=np.zeros((sN,tN)) \n",
        "U=np.zeros((sN,tN))"
      ],
      "metadata": {
        "id": "dx3kzozZijCK"
      },
      "execution_count": 57,
      "outputs": []
    },
    {
      "cell_type": "code",
      "source": [
        "\n",
        "\n",
        "for ti in reversed(range(tN-1)):\n",
        "  spline_interpolator=CubicSpline(x=np.arange(M+1),\n",
        "                                  y=V[:,ti+1])\n",
        "  print(spline_interpolator(1.5))\n",
        "  for si in range(sN): \n",
        "    t=tValues[ti] \n",
        "    ore_state=sValues[si] \n",
        "    def objective(x):    \n",
        "      return -1*(price*x - (x**2)/(1+ore_state) + delta*spline_interpolator(ore_state-x))\n",
        "\n",
        "    opt=minimize(objective,ore_state/2,\n",
        "          bounds=[(0,ore_state)]) \n",
        "\n",
        "    V[si,ti] = -1*opt.fun[0]\n",
        "    U[si,ti] = opt.x[0]\n"
      ],
      "metadata": {
        "colab": {
          "base_uri": "https://localhost:8080/"
        },
        "id": "eZXDu5e1cci7",
        "outputId": "9ccb14ed-cd00-47b9-d75e-9aa140c51619"
      },
      "execution_count": 66,
      "outputs": [
        {
          "output_type": "stream",
          "name": "stdout",
          "text": [
            "0.0\n",
            "0.6364382938682638\n",
            "0.8974556373457556\n",
            "0.9906464258510354\n",
            "1.0277772158892735\n",
            "1.0427039675427703\n",
            "1.0482761602546669\n",
            "1.0499781616887056\n",
            "1.0502152475928916\n",
            "1.0500035788788935\n",
            "1.049731164053017\n",
            "1.049516743940758\n",
            "1.049375825692236\n",
            "1.0492924748360055\n",
            "1.0492468349711426\n"
          ]
        }
      ]
    },
    {
      "cell_type": "code",
      "source": [
        "s=M # at the initial time there are 100 tons of ore\n",
        "for t in range(T):\n",
        "    si=s\n",
        "    print(\"Year: \", t , \", Init Ore: \",s, \", Mine: \", U[si,t],sep='')\n",
        "    s=int(s-U[si,t]) # remove this amount from the mine\n"
      ],
      "metadata": {
        "colab": {
          "base_uri": "https://localhost:8080/"
        },
        "id": "MsEoAgkAgV5H",
        "outputId": "66ba1c34-169b-4cf4-b1ad-16d36e4cc871"
      },
      "execution_count": 67,
      "outputs": [
        {
          "output_type": "stream",
          "name": "stdout",
          "text": [
            "Year: 0, Init Ore: 100, Mine: 24.30773764397713\n",
            "Year: 1, Init Ore: 75, Mine: 18.304956878770227\n",
            "Year: 2, Init Ore: 56, Mine: 13.743477658003783\n",
            "Year: 3, Init Ore: 42, Mine: 10.384399708527658\n",
            "Year: 4, Init Ore: 31, Mine: 7.744190567901369\n",
            "Year: 5, Init Ore: 23, Mine: 5.826333529362794\n",
            "Year: 6, Init Ore: 17, Mine: 4.389416847908784\n",
            "Year: 7, Init Ore: 12, Mine: 3.184656457422294\n",
            "Year: 8, Init Ore: 8, Mine: 2.209737698369163\n",
            "Year: 9, Init Ore: 5, Mine: 1.4643975984514257\n",
            "Year: 10, Init Ore: 3, Mine: 0.9570863335748457\n",
            "Year: 11, Init Ore: 2, Mine: 0.7093138807080316\n",
            "Year: 12, Init Ore: 1, Mine: 0.43517411995252464\n",
            "Year: 13, Init Ore: 0, Mine: 0.0\n",
            "Year: 14, Init Ore: 0, Mine: 0.0\n"
          ]
        }
      ]
    },
    {
      "cell_type": "code",
      "source": [
        "V[M,0]-58.113941952344646"
      ],
      "metadata": {
        "colab": {
          "base_uri": "https://localhost:8080/"
        },
        "id": "s-In8SDEemm7",
        "outputId": "119a48a7-28c2-4454-e942-7ef315b1bca2"
      },
      "execution_count": 69,
      "outputs": [
        {
          "output_type": "execute_result",
          "data": {
            "text/plain": [
              "0.043821225242872686"
            ]
          },
          "metadata": {},
          "execution_count": 69
        }
      ]
    },
    {
      "cell_type": "markdown",
      "source": [
        "# Rough WORK"
      ],
      "metadata": {
        "id": "pRnLfsswVmHL"
      }
    },
    {
      "cell_type": "code",
      "source": [
        "spline_interpolator=CubicSpline([1,2,3],[10,20,30])\n",
        "spline_interpolator(1.5)"
      ],
      "metadata": {
        "id": "BsR6bOa0ijHS",
        "colab": {
          "base_uri": "https://localhost:8080/"
        },
        "outputId": "e8e67d73-6b0e-42cf-be42-687a45701347"
      },
      "execution_count": 5,
      "outputs": [
        {
          "output_type": "execute_result",
          "data": {
            "text/plain": [
              "array(15.)"
            ]
          },
          "metadata": {},
          "execution_count": 5
        }
      ]
    },
    {
      "cell_type": "code",
      "source": [
        "np.arange(t)*t\n",
        "spline_iterpolator=CubicSpline(np.arange(t),np.arange(t)+t)\n",
        "spline_iterpolator(1.5)"
      ],
      "metadata": {
        "colab": {
          "base_uri": "https://localhost:8080/"
        },
        "id": "bUvRxWnJatMO",
        "outputId": "b92587f1-ea04-48bc-d8b1-9638f38304eb"
      },
      "execution_count": 32,
      "outputs": [
        {
          "output_type": "execute_result",
          "data": {
            "text/plain": [
              "array(10.5)"
            ]
          },
          "metadata": {},
          "execution_count": 32
        }
      ]
    },
    {
      "cell_type": "code",
      "source": [
        "ore_state=1\n",
        "time_state=10#This will detremine the interpolator that we intend to use \n",
        "\n",
        "def objective(x):    \n",
        "  return -1*(price*x - (x**2)/(1+ore_state) + delta*spline_iterpolator(ore_state-x))\n",
        "\n",
        "lt_cache=[]\n",
        "\n",
        "for t in range(2,time_state):\n",
        "  spline_iterpolator=CubicSpline(np.arange(t),np.arange(t)+t)\n",
        "  print(spline_iterpolator(1.5))\n",
        "\n",
        "  \n",
        "  opt=minimize(objective,ore_state/2,\n",
        "          bounds=[(0,ore_state)]) \n",
        "  lt_cache.append(opt.x[0])\n",
        "\n"
      ],
      "metadata": {
        "colab": {
          "base_uri": "https://localhost:8080/"
        },
        "id": "9XgY0JmcVom_",
        "outputId": "6f013b26-308b-4144-e74f-34c88979dfd1"
      },
      "execution_count": 38,
      "outputs": [
        {
          "output_type": "stream",
          "name": "stdout",
          "text": [
            "3.5\n",
            "4.5\n",
            "5.5\n",
            "6.5\n",
            "7.5\n",
            "8.5\n",
            "9.5\n",
            "10.5\n"
          ]
        }
      ]
    },
    {
      "cell_type": "code",
      "source": [
        "lt_cache"
      ],
      "metadata": {
        "colab": {
          "base_uri": "https://localhost:8080/"
        },
        "id": "ZmoFtW0oZoVt",
        "outputId": "47611bc3-aaf7-4496-bd05-67d0b2abf4cf"
      },
      "execution_count": 39,
      "outputs": [
        {
          "output_type": "execute_result",
          "data": {
            "text/plain": [
              "[0.10000001131277259,\n",
              " 0.10000001131277259,\n",
              " 0.10000005572169357,\n",
              " 0.10000005572169357,\n",
              " 0.09999987808600963,\n",
              " 0.0999999669038516,\n",
              " 0.0999999669038516,\n",
              " 0.0999999669038516]"
            ]
          },
          "metadata": {},
          "execution_count": 39
        }
      ]
    },
    {
      "cell_type": "code",
      "source": [
        "-1*opt.fun[0]"
      ],
      "metadata": {
        "colab": {
          "base_uri": "https://localhost:8080/"
        },
        "id": "IPZ2Ku3UZ_fq",
        "outputId": "f90c9c67-7c88-4c25-98e6-4b9952490ee8"
      },
      "execution_count": 43,
      "outputs": [
        {
          "output_type": "execute_result",
          "data": {
            "text/plain": [
              "9.005"
            ]
          },
          "metadata": {},
          "execution_count": 43
        }
      ]
    },
    {
      "cell_type": "code",
      "source": [
        ""
      ],
      "metadata": {
        "id": "NM1FqyUcdudj"
      },
      "execution_count": null,
      "outputs": []
    }
  ]
}