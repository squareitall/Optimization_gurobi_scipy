{
  "nbformat": 4,
  "nbformat_minor": 0,
  "metadata": {
    "colab": {
      "name": "Opti_HW2.ipynb",
      "provenance": [],
      "collapsed_sections": []
    },
    "kernelspec": {
      "name": "python3",
      "display_name": "Python 3"
    },
    "language_info": {
      "name": "python"
    }
  },
  "cells": [
    {
      "cell_type": "code",
      "source": [
        "! pip install gurobipy"
      ],
      "metadata": {
        "colab": {
          "base_uri": "https://localhost:8080/"
        },
        "id": "zH3ygzytpGnw",
        "outputId": "a2ecfde4-27b0-4bd2-a389-37c04caf932a"
      },
      "execution_count": null,
      "outputs": [
        {
          "output_type": "stream",
          "name": "stdout",
          "text": [
            "Requirement already satisfied: gurobipy in /usr/local/lib/python3.7/dist-packages (9.5.0)\n"
          ]
        }
      ]
    },
    {
      "cell_type": "code",
      "source": [
        "import numpy as np\n",
        "import gurobipy as gp\n",
        "import pandas as pd"
      ],
      "metadata": {
        "id": "rCBQOlRWpGF0"
      },
      "execution_count": null,
      "outputs": []
    },
    {
      "cell_type": "code",
      "source": [
        "df=pd.read_csv('hw2_demand.csv')\n",
        "demand_values=df.values\n",
        "df.head()\n"
      ],
      "metadata": {
        "colab": {
          "base_uri": "https://localhost:8080/",
          "height": 206
        },
        "id": "BJXD8ge4pGC7",
        "outputId": "358db245-7cbb-4d7f-9c4d-883b22724e9f"
      },
      "execution_count": null,
      "outputs": [
        {
          "output_type": "execute_result",
          "data": {
            "text/html": [
              "\n",
              "  <div id=\"df-666e41a6-3095-4a87-a672-b78925f6e655\">\n",
              "    <div class=\"colab-df-container\">\n",
              "      <div>\n",
              "<style scoped>\n",
              "    .dataframe tbody tr th:only-of-type {\n",
              "        vertical-align: middle;\n",
              "    }\n",
              "\n",
              "    .dataframe tbody tr th {\n",
              "        vertical-align: top;\n",
              "    }\n",
              "\n",
              "    .dataframe thead th {\n",
              "        text-align: right;\n",
              "    }\n",
              "</style>\n",
              "<table border=\"1\" class=\"dataframe\">\n",
              "  <thead>\n",
              "    <tr style=\"text-align: right;\">\n",
              "      <th></th>\n",
              "      <th>X1</th>\n",
              "      <th>X2</th>\n",
              "      <th>X3</th>\n",
              "      <th>X4</th>\n",
              "      <th>X5</th>\n",
              "    </tr>\n",
              "  </thead>\n",
              "  <tbody>\n",
              "    <tr>\n",
              "      <th>0</th>\n",
              "      <td>19</td>\n",
              "      <td>1358</td>\n",
              "      <td>95</td>\n",
              "      <td>65</td>\n",
              "      <td>4994</td>\n",
              "    </tr>\n",
              "    <tr>\n",
              "      <th>1</th>\n",
              "      <td>31</td>\n",
              "      <td>734</td>\n",
              "      <td>153</td>\n",
              "      <td>106</td>\n",
              "      <td>1711</td>\n",
              "    </tr>\n",
              "    <tr>\n",
              "      <th>2</th>\n",
              "      <td>45</td>\n",
              "      <td>732</td>\n",
              "      <td>198</td>\n",
              "      <td>348</td>\n",
              "      <td>205</td>\n",
              "    </tr>\n",
              "    <tr>\n",
              "      <th>3</th>\n",
              "      <td>1</td>\n",
              "      <td>57</td>\n",
              "      <td>64</td>\n",
              "      <td>89</td>\n",
              "      <td>278</td>\n",
              "    </tr>\n",
              "    <tr>\n",
              "      <th>4</th>\n",
              "      <td>180</td>\n",
              "      <td>316</td>\n",
              "      <td>277</td>\n",
              "      <td>176</td>\n",
              "      <td>46</td>\n",
              "    </tr>\n",
              "  </tbody>\n",
              "</table>\n",
              "</div>\n",
              "      <button class=\"colab-df-convert\" onclick=\"convertToInteractive('df-666e41a6-3095-4a87-a672-b78925f6e655')\"\n",
              "              title=\"Convert this dataframe to an interactive table.\"\n",
              "              style=\"display:none;\">\n",
              "        \n",
              "  <svg xmlns=\"http://www.w3.org/2000/svg\" height=\"24px\"viewBox=\"0 0 24 24\"\n",
              "       width=\"24px\">\n",
              "    <path d=\"M0 0h24v24H0V0z\" fill=\"none\"/>\n",
              "    <path d=\"M18.56 5.44l.94 2.06.94-2.06 2.06-.94-2.06-.94-.94-2.06-.94 2.06-2.06.94zm-11 1L8.5 8.5l.94-2.06 2.06-.94-2.06-.94L8.5 2.5l-.94 2.06-2.06.94zm10 10l.94 2.06.94-2.06 2.06-.94-2.06-.94-.94-2.06-.94 2.06-2.06.94z\"/><path d=\"M17.41 7.96l-1.37-1.37c-.4-.4-.92-.59-1.43-.59-.52 0-1.04.2-1.43.59L10.3 9.45l-7.72 7.72c-.78.78-.78 2.05 0 2.83L4 21.41c.39.39.9.59 1.41.59.51 0 1.02-.2 1.41-.59l7.78-7.78 2.81-2.81c.8-.78.8-2.07 0-2.86zM5.41 20L4 18.59l7.72-7.72 1.47 1.35L5.41 20z\"/>\n",
              "  </svg>\n",
              "      </button>\n",
              "      \n",
              "  <style>\n",
              "    .colab-df-container {\n",
              "      display:flex;\n",
              "      flex-wrap:wrap;\n",
              "      gap: 12px;\n",
              "    }\n",
              "\n",
              "    .colab-df-convert {\n",
              "      background-color: #E8F0FE;\n",
              "      border: none;\n",
              "      border-radius: 50%;\n",
              "      cursor: pointer;\n",
              "      display: none;\n",
              "      fill: #1967D2;\n",
              "      height: 32px;\n",
              "      padding: 0 0 0 0;\n",
              "      width: 32px;\n",
              "    }\n",
              "\n",
              "    .colab-df-convert:hover {\n",
              "      background-color: #E2EBFA;\n",
              "      box-shadow: 0px 1px 2px rgba(60, 64, 67, 0.3), 0px 1px 3px 1px rgba(60, 64, 67, 0.15);\n",
              "      fill: #174EA6;\n",
              "    }\n",
              "\n",
              "    [theme=dark] .colab-df-convert {\n",
              "      background-color: #3B4455;\n",
              "      fill: #D2E3FC;\n",
              "    }\n",
              "\n",
              "    [theme=dark] .colab-df-convert:hover {\n",
              "      background-color: #434B5C;\n",
              "      box-shadow: 0px 1px 3px 1px rgba(0, 0, 0, 0.15);\n",
              "      filter: drop-shadow(0px 1px 2px rgba(0, 0, 0, 0.3));\n",
              "      fill: #FFFFFF;\n",
              "    }\n",
              "  </style>\n",
              "\n",
              "      <script>\n",
              "        const buttonEl =\n",
              "          document.querySelector('#df-666e41a6-3095-4a87-a672-b78925f6e655 button.colab-df-convert');\n",
              "        buttonEl.style.display =\n",
              "          google.colab.kernel.accessAllowed ? 'block' : 'none';\n",
              "\n",
              "        async function convertToInteractive(key) {\n",
              "          const element = document.querySelector('#df-666e41a6-3095-4a87-a672-b78925f6e655');\n",
              "          const dataTable =\n",
              "            await google.colab.kernel.invokeFunction('convertToInteractive',\n",
              "                                                     [key], {});\n",
              "          if (!dataTable) return;\n",
              "\n",
              "          const docLinkHtml = 'Like what you see? Visit the ' +\n",
              "            '<a target=\"_blank\" href=https://colab.research.google.com/notebooks/data_table.ipynb>data table notebook</a>'\n",
              "            + ' to learn more about interactive tables.';\n",
              "          element.innerHTML = '';\n",
              "          dataTable['output_type'] = 'display_data';\n",
              "          await google.colab.output.renderOutput(dataTable, element);\n",
              "          const docLink = document.createElement('div');\n",
              "          docLink.innerHTML = docLinkHtml;\n",
              "          element.appendChild(docLink);\n",
              "        }\n",
              "      </script>\n",
              "    </div>\n",
              "  </div>\n",
              "  "
            ],
            "text/plain": [
              "    X1    X2   X3   X4    X5\n",
              "0   19  1358   95   65  4994\n",
              "1   31   734  153  106  1711\n",
              "2   45   732  198  348   205\n",
              "3    1    57   64   89   278\n",
              "4  180   316  277  176    46"
            ]
          },
          "metadata": {},
          "execution_count": 3
        }
      ]
    },
    {
      "cell_type": "code",
      "source": [
        "n_h_vars=demand_values.ravel().shape[0]\n",
        "n_days=df.shape[0]\n"
      ],
      "metadata": {
        "id": "keTOOimrvwCN"
      },
      "execution_count": null,
      "outputs": []
    },
    {
      "cell_type": "markdown",
      "source": [
        "We will have 5 sets of printing based decision variables additionally we will have 5 sets of profits for each day\n",
        "Thus in totatlity we will have 5 +5*50 decision variables that we can run our optimization on\n",
        "\n",
        "\n",
        "Previosuly we have solved problem for 1 news vendor \n",
        "We can use the same desin flow with a 5 unit based slider to solve this 5 newsvendor problem\n",
        "\n",
        "Let five newspapers be A,B,C,D and E\n",
        "I propose \n",
        "\"\"\"\n",
        "h1A, h1B,h1C,h1D,h1E\n",
        "h2A,h2B....\n",
        "\n",
        "\n",
        "\n",
        "h100A,h100B,h100C,h100D,h100E\n",
        "qa,qb,qc,qd,qe\n",
        "\"\"\"\n",
        "\n",
        "\n",
        "\n",
        "The number of days will change from 25 to 50 \n",
        "Also 5 consecutive variables will be updated each time\n"
      ],
      "metadata": {
        "id": "J2i0kge3t6Hz"
      }
    },
    {
      "cell_type": "markdown",
      "source": [
        "# Formulation of objective"
      ],
      "metadata": {
        "id": "mGx7UN2axSL5"
      }
    },
    {
      "cell_type": "code",
      "source": [
        "obj = np.zeros(n_h_vars+5)\n",
        "obj[:-5] = 1.0/n_days"
      ],
      "metadata": {
        "id": "IgnAezebpF9z"
      },
      "execution_count": null,
      "outputs": []
    },
    {
      "cell_type": "markdown",
      "source": [
        "# Lower Bounds"
      ],
      "metadata": {
        "id": "A4OxTujtxUvQ"
      }
    },
    {
      "cell_type": "code",
      "source": [
        "lb = np.zeros(n_h_vars+5)\n",
        "lb[:-5] = -np.inf "
      ],
      "metadata": {
        "id": "TmNfZKqipF7b"
      },
      "execution_count": null,
      "outputs": []
    },
    {
      "cell_type": "markdown",
      "source": [
        "# Constraint Design Matrix\n",
        "\n",
        "We will have 2 bounding constraint for each of the 5 profit values and these cosntraints will be applied for every 50 days\n",
        "\n",
        "Therefore we will have 2*5*50=500 constraints applied across all the 50*5 +5 decision variables "
      ],
      "metadata": {
        "id": "j5X5xv7fxZuy"
      }
    },
    {
      "cell_type": "code",
      "source": [
        "A=np.zeros((2*n_h_vars,n_h_vars+5))\n",
        "# A.shape\n",
        "\n",
        "cp_arr=[0.50, 0.50, 0.25, 0.75, 0.25]\n",
        "sp_arr=[1.25,1.20,0.50,1.50,0.60]\n",
        "\n",
        "rhs = np.zeros(2*n_h_vars)\n",
        "direction = np.array(['<']*(2*n_h_vars))\n"
      ],
      "metadata": {
        "id": "uIjnShtmpF4_"
      },
      "execution_count": null,
      "outputs": []
    },
    {
      "cell_type": "markdown",
      "source": [
        "hi<s_P*demand_i-c_p*I_will_print_i if I_will_print_i>demand_i\n",
        "hi<s_p*I_will_print_i -c_P*I_will_print_i if I_will_print_i<=demand_i\n",
        "\n",
        "1st Constraint\n",
        "hi + c_P*I_will_print_i <=s_P*demand_i\n",
        "\n",
        "2nd Constraint\n",
        "hi +  c_P*I_will_print_i -  s_P*I_will_print_i <=0\n"
      ],
      "metadata": {
        "id": "7SKSifBl1Dvt"
      }
    },
    {
      "cell_type": "markdown",
      "source": [
        "# Thought process\n"
      ],
      "metadata": {
        "id": "ifUSQrIE12dY"
      }
    },
    {
      "cell_type": "code",
      "source": [
        "# But here we will have to update 5 constraints at a times as the design of the matrix is so that 5 d_vars associated with profit are assembeled together\n",
        "\n",
        "r=0#Lets just update the first five*2 =10 constraints out of 500 ones\n",
        "#This will only require 1st day demand and repsective cost_prices and selling prices\n",
        "\n",
        "# A[2*r,[0,r+1]] = [cost,1] # location 1 is q, location r+1 is this h\n",
        "# rhs[2*r] = price*demand_df.demand[r]\n",
        "\n",
        "# A[2*r+1,[0,r+1]] = [cost-price,1]\n",
        "# rhs[2*r+1] = 0"
      ],
      "metadata": {
        "id": "tyJP0EfWpF2u"
      },
      "execution_count": null,
      "outputs": []
    },
    {
      "cell_type": "code",
      "source": [
        "A=np.zeros((2*n_h_vars,n_h_vars+5))\n",
        "\n",
        "for r in range(50):\n",
        "  odd=2*r+1\n",
        "  even=2*r\n",
        "  # print(even,odd,sep='-->',end='\\n')\n",
        "  day_even=even*5\n",
        "\n",
        "  for first_i in range(5):\n",
        "    #1st series of constraints\n",
        "    A[day_even+first_i,[5*r+first_i,250+first_i]] = [1,cp_arr[first_i]] \n",
        "    rhs[day_even+first_i] = sp_arr[first_i]*demand_values[r,first_i]\n",
        "  day_odd=odd*5\n",
        "  for second_i in range(5):\n",
        "    #1st series of constraints\n",
        "    A[day_odd+second_i,[5*r+second_i,250+second_i]] = [1,cp_arr[second_i]-sp_arr[second_i]]\n",
        "    rhs[day_odd+second_i] = 0\n"
      ],
      "metadata": {
        "id": "jg5Wff_P1wC4"
      },
      "execution_count": null,
      "outputs": []
    },
    {
      "cell_type": "code",
      "source": [
        "row_indices=np.arange(20)\n",
        "col_idx=np.array([250+i for i in range(5)])#+list(range(10)))\n",
        "A[row_indices.reshape(-1,1),col_idx]"
      ],
      "metadata": {
        "colab": {
          "base_uri": "https://localhost:8080/"
        },
        "id": "y6pm6YGDpFz-",
        "outputId": "5e99e2f4-82cd-45fe-c0cd-b992329c994c"
      },
      "execution_count": null,
      "outputs": [
        {
          "output_type": "execute_result",
          "data": {
            "text/plain": [
              "array([[ 0.5 ,  0.  ,  0.  ,  0.  ,  0.  ],\n",
              "       [ 0.  ,  0.5 ,  0.  ,  0.  ,  0.  ],\n",
              "       [ 0.  ,  0.  ,  0.25,  0.  ,  0.  ],\n",
              "       [ 0.  ,  0.  ,  0.  ,  0.75,  0.  ],\n",
              "       [ 0.  ,  0.  ,  0.  ,  0.  ,  0.25],\n",
              "       [-0.75,  0.  ,  0.  ,  0.  ,  0.  ],\n",
              "       [ 0.  , -0.7 ,  0.  ,  0.  ,  0.  ],\n",
              "       [ 0.  ,  0.  , -0.25,  0.  ,  0.  ],\n",
              "       [ 0.  ,  0.  ,  0.  , -0.75,  0.  ],\n",
              "       [ 0.  ,  0.  ,  0.  ,  0.  , -0.35],\n",
              "       [ 0.5 ,  0.  ,  0.  ,  0.  ,  0.  ],\n",
              "       [ 0.  ,  0.5 ,  0.  ,  0.  ,  0.  ],\n",
              "       [ 0.  ,  0.  ,  0.25,  0.  ,  0.  ],\n",
              "       [ 0.  ,  0.  ,  0.  ,  0.75,  0.  ],\n",
              "       [ 0.  ,  0.  ,  0.  ,  0.  ,  0.25],\n",
              "       [-0.75,  0.  ,  0.  ,  0.  ,  0.  ],\n",
              "       [ 0.  , -0.7 ,  0.  ,  0.  ,  0.  ],\n",
              "       [ 0.  ,  0.  , -0.25,  0.  ,  0.  ],\n",
              "       [ 0.  ,  0.  ,  0.  , -0.75,  0.  ],\n",
              "       [ 0.  ,  0.  ,  0.  ,  0.  , -0.35]])"
            ]
          },
          "metadata": {},
          "execution_count": 29
        }
      ]
    },
    {
      "cell_type": "code",
      "source": [
        "A"
      ],
      "metadata": {
        "colab": {
          "base_uri": "https://localhost:8080/"
        },
        "id": "DBUVAJkHEHof",
        "outputId": "96127cff-7eaf-40a5-c779-0427aa978bc1"
      },
      "execution_count": null,
      "outputs": [
        {
          "output_type": "execute_result",
          "data": {
            "text/plain": [
              "array([[ 1.  ,  0.  ,  0.  , ...,  0.  ,  0.  ,  0.  ],\n",
              "       [ 0.  ,  1.  ,  0.  , ...,  0.  ,  0.  ,  0.  ],\n",
              "       [ 0.  ,  0.  ,  1.  , ...,  0.25,  0.  ,  0.  ],\n",
              "       ...,\n",
              "       [ 0.  ,  0.  ,  0.  , ..., -0.25,  0.  ,  0.  ],\n",
              "       [ 0.  ,  0.  ,  0.  , ...,  0.  , -0.75,  0.  ],\n",
              "       [ 0.  ,  0.  ,  0.  , ...,  0.  ,  0.  , -0.35]])"
            ]
          },
          "metadata": {},
          "execution_count": 30
        }
      ]
    },
    {
      "cell_type": "code",
      "source": [
        "spMod = gp.Model()\n",
        "spMod_x = spMod.addMVar(len(obj),lb=lb) # tell the model how many variables there are\n",
        "# must define the variables before adding constraints because variables go into the constraints\n",
        "spMod_con = spMod.addMConstrs(A, spMod_x, direction, rhs) # NAME THE CONSTRAINTS!!! so we can get information about them later!\n",
        "spMod.setMObjective(None,obj,0,sense=gp.GRB.MAXIMIZE) # add the objective to the model...we'll talk about the None and the 0\n",
        "\n",
        "spMod.Params.OutputFlag = 0 # tell gurobi to shut up!!\n",
        "spMod.optimize()\n"
      ],
      "metadata": {
        "id": "sWS9ipwkpFdt"
      },
      "execution_count": null,
      "outputs": []
    },
    {
      "cell_type": "code",
      "source": [
        "spMod_x.x[-5:]"
      ],
      "metadata": {
        "colab": {
          "base_uri": "https://localhost:8080/"
        },
        "id": "66c6klebDR2X",
        "outputId": "9a24b2f0-10ef-4938-8e6c-08090559f874"
      },
      "execution_count": null,
      "outputs": [
        {
          "output_type": "execute_result",
          "data": {
            "text/plain": [
              "array([ 76., 462., 205., 123., 422.])"
            ]
          },
          "metadata": {},
          "execution_count": 33
        }
      ]
    },
    {
      "cell_type": "code",
      "source": [
        "spMod.objval"
      ],
      "metadata": {
        "colab": {
          "base_uri": "https://localhost:8080/"
        },
        "id": "Xg9J4dPUDR-p",
        "outputId": "8e25b320-52ab-45da-8c79-889ab05fe0d0"
      },
      "execution_count": null,
      "outputs": [
        {
          "output_type": "execute_result",
          "data": {
            "text/plain": [
              "336.9889999999998"
            ]
          },
          "metadata": {},
          "execution_count": 34
        }
      ]
    },
    {
      "cell_type": "code",
      "source": [
        ""
      ],
      "metadata": {
        "id": "YcotoWecIZ1z"
      },
      "execution_count": null,
      "outputs": []
    },
    {
      "cell_type": "code",
      "source": [
        "q=spMod_x.x[-5:]\n",
        "optimal_demand_each_day=np.minimum(demand_values,q)\n",
        "\n",
        "np.mean(np.sum(optimal_demand_each_day*sp_arr-cp_arr*q,axis=1))"
      ],
      "metadata": {
        "colab": {
          "base_uri": "https://localhost:8080/"
        },
        "id": "2uE2RjqNICIM",
        "outputId": "3c5161dd-8c6e-4a8c-e5d8-de26087cc188"
      },
      "execution_count": null,
      "outputs": [
        {
          "output_type": "execute_result",
          "data": {
            "text/plain": [
              "336.9889999999999"
            ]
          },
          "metadata": {},
          "execution_count": 54
        }
      ]
    },
    {
      "cell_type": "code",
      "source": [
        "numsold = np.minimum(spMod_x.x[0],demand_df.demand) # on each day, how many did we actually sell\n",
        "np.mean(price*numsold - cost*spMod_x.x[0]) "
      ],
      "metadata": {
        "id": "lu0WRVgbIAg-"
      },
      "execution_count": null,
      "outputs": []
    },
    {
      "cell_type": "markdown",
      "source": [
        "ANS 4)"
      ],
      "metadata": {
        "id": "GSWgOH3_pDc_"
      }
    },
    {
      "cell_type": "code",
      "execution_count": null,
      "metadata": {
        "id": "K6OKJVGjtB9j"
      },
      "outputs": [],
      "source": [
        "import numpy as np\n",
        "import numpy.random as npr\n",
        "\n"
      ]
    },
    {
      "cell_type": "code",
      "source": [
        "def calculate_profit():\n",
        "  process_1=npr.normal(loc=10,scale=3,size=100)\n",
        "  process_2=npr.normal(loc=5,scale=2,size=200)\n",
        "\n",
        "  cost_price=100*10+200*5\n",
        "\n",
        "  total_chips=np.concatenate([process_1,process_2])\n",
        "\n",
        "  S_P=np.where(total_chips>=7,15,8)\n",
        "  selling_price=np.sum(S_P)\n",
        "\n",
        "  profit=selling_price-cost_price\n",
        "  return profit\n",
        "p_lt=[]\n",
        "for _ in range(10000):\n",
        "  p_instance=calculate_profit()\n",
        "  p_lt.append(p_instance)\n",
        "\n"
      ],
      "metadata": {
        "id": "13wtujDstFik"
      },
      "execution_count": null,
      "outputs": []
    },
    {
      "cell_type": "code",
      "source": [
        "import matplotlib.pyplot as plt\n",
        "plt.hist(p_lt,bins=100)"
      ],
      "metadata": {
        "colab": {
          "base_uri": "https://localhost:8080/",
          "height": 742
        },
        "id": "nYybX7LMtM-1",
        "outputId": "17af2340-1f16-4d72-9241-9d5b9e0c8ebc"
      },
      "execution_count": null,
      "outputs": [
        {
          "output_type": "execute_result",
          "data": {
            "text/plain": [
              "(array([  3.,   0.,   2.,   0.,   1.,   0.,   2.,   0.,  13.,   0.,  11.,\n",
              "          0.,   0.,  28.,   0.,  46.,   0.,  46.,   0.,  88.,   0.,  89.,\n",
              "          0., 160.,   0.,   0., 204.,   0., 229.,   0., 323.,   0., 344.,\n",
              "          0., 397.,   0., 475.,   0.,   0., 518.,   0., 587.,   0., 609.,\n",
              "          0., 618.,   0., 671.,   0.,   0., 605.,   0., 616.,   0., 558.,\n",
              "          0., 494.,   0., 396.,   0., 404.,   0.,   0., 332.,   0., 272.,\n",
              "          0., 226.,   0., 185.,   0., 132.,   0.,  90.,   0.,   0.,  62.,\n",
              "          0.,  54.,   0.,  40.,   0.,  21.,   0.,  18.,   0.,   9.,   0.,\n",
              "          0.,  10.,   0.,   6.,   0.,   3.,   0.,   1.,   0.,   0.,   0.,\n",
              "          2.]),\n",
              " array([1058.  , 1061.22, 1064.44, 1067.66, 1070.88, 1074.1 , 1077.32,\n",
              "        1080.54, 1083.76, 1086.98, 1090.2 , 1093.42, 1096.64, 1099.86,\n",
              "        1103.08, 1106.3 , 1109.52, 1112.74, 1115.96, 1119.18, 1122.4 ,\n",
              "        1125.62, 1128.84, 1132.06, 1135.28, 1138.5 , 1141.72, 1144.94,\n",
              "        1148.16, 1151.38, 1154.6 , 1157.82, 1161.04, 1164.26, 1167.48,\n",
              "        1170.7 , 1173.92, 1177.14, 1180.36, 1183.58, 1186.8 , 1190.02,\n",
              "        1193.24, 1196.46, 1199.68, 1202.9 , 1206.12, 1209.34, 1212.56,\n",
              "        1215.78, 1219.  , 1222.22, 1225.44, 1228.66, 1231.88, 1235.1 ,\n",
              "        1238.32, 1241.54, 1244.76, 1247.98, 1251.2 , 1254.42, 1257.64,\n",
              "        1260.86, 1264.08, 1267.3 , 1270.52, 1273.74, 1276.96, 1280.18,\n",
              "        1283.4 , 1286.62, 1289.84, 1293.06, 1296.28, 1299.5 , 1302.72,\n",
              "        1305.94, 1309.16, 1312.38, 1315.6 , 1318.82, 1322.04, 1325.26,\n",
              "        1328.48, 1331.7 , 1334.92, 1338.14, 1341.36, 1344.58, 1347.8 ,\n",
              "        1351.02, 1354.24, 1357.46, 1360.68, 1363.9 , 1367.12, 1370.34,\n",
              "        1373.56, 1376.78, 1380.  ]),\n",
              " <a list of 100 Patch objects>)"
            ]
          },
          "metadata": {},
          "execution_count": 16
        },
        {
          "output_type": "display_data",
          "data": {
            "image/png": "[encoded data removed]",
            "text/plain": [
              "<Figure size 432x288 with 1 Axes>"
            ]
          },
          "metadata": {
            "needs_background": "light"
          }
        }
      ]
    },
    {
      "cell_type": "code",
      "source": [
        "np.std(p_lt),np.mean(p_lt)"
      ],
      "metadata": {
        "colab": {
          "base_uri": "https://localhost:8080/"
        },
        "id": "rNz3dD6UtVFj",
        "outputId": "f66679a3-db21-4094-b397-d90c9e57f368"
      },
      "execution_count": null,
      "outputs": [
        {
          "output_type": "execute_result",
          "data": {
            "text/plain": [
              "(44.03916506202178, 1210.8492)"
            ]
          },
          "metadata": {},
          "execution_count": 17
        }
      ]
    },
    {
      "cell_type": "markdown",
      "source": [
        "# ROUGH WORK"
      ],
      "metadata": {
        "id": "Xzyqjw9C4rCB"
      }
    },
    {
      "cell_type": "code",
      "source": [
        "temp=np.arange(500)\n",
        "for r in range(n_days):\n",
        "  even=2*r\n",
        "  odd=2*r+1\n",
        "  print('even',temp[5*even:5*even+5])\n",
        "  print('odd_',odd,temp[5*odd:5*odd+5])\n",
        "  if r==2:\n",
        "    break"
      ],
      "metadata": {
        "id": "-KUqeWkRunbP",
        "colab": {
          "base_uri": "https://localhost:8080/"
        },
        "outputId": "2895687a-56dc-408c-f9cd-fc4b2164f7b5"
      },
      "execution_count": null,
      "outputs": [
        {
          "output_type": "stream",
          "name": "stdout",
          "text": [
            "even [0 1 2 3 4]\n",
            "odd_ 1 [5 6 7 8 9]\n",
            "even [10 11 12 13 14]\n",
            "odd_ 3 [15 16 17 18 19]\n",
            "even [20 21 22 23 24]\n",
            "odd_ 5 [25 26 27 28 29]\n"
          ]
        }
      ]
    },
    {
      "cell_type": "code",
      "source": [
        "  # hi_to_deal_with=5*r\n",
        "\n",
        "  # first_five=A[5*even:5*even+5,:]\n",
        "  # second_five=A[5*odd:5*odd+5,:]\n",
        "  break\n",
        "\n",
        "\n",
        "  # print('even',temp[5*even:5*even+5])\n",
        "  # print('odd_',odd,temp[5*odd:5*odd+5])\n",
        "  # if r==2:\n",
        "  #   break"
      ],
      "metadata": {
        "colab": {
          "base_uri": "https://localhost:8080/",
          "height": 134
        },
        "id": "C2M2XzWp8c1y",
        "outputId": "fbd6750f-6881-4b4a-8534-02d9db038d15"
      },
      "execution_count": null,
      "outputs": [
        {
          "output_type": "error",
          "ename": "SyntaxError",
          "evalue": "ignored",
          "traceback": [
            "\u001b[0;36m  File \u001b[0;32m\"<ipython-input-19-d1245a0b4da8>\"\u001b[0;36m, line \u001b[0;32m5\u001b[0m\n\u001b[0;31m    break\u001b[0m\n\u001b[0m         ^\u001b[0m\n\u001b[0;31mSyntaxError\u001b[0m\u001b[0;31m:\u001b[0m 'break' outside loop\n"
          ]
        }
      ]
    },
    {
      "cell_type": "code",
      "source": [
        "# temp[np.index()]"
      ],
      "metadata": {
        "id": "r80pwQzi8hKk"
      },
      "execution_count": null,
      "outputs": []
    }
  ]
}