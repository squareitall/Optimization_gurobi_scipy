{
  "nbformat": 4,
  "nbformat_minor": 0,
  "metadata": {
    "colab": {
      "name": "Project2_Optimization2_AirPriceBooking.ipynb",
      "provenance": []
    },
    "kernelspec": {
      "name": "python3",
      "display_name": "Python 3"
    },
    "language_info": {
      "name": "python"
    }
  },
  "cells": [
    {
      "cell_type": "code",
      "execution_count": 1,
      "metadata": {
        "id": "EWlZAdSmh0cK"
      },
      "outputs": [],
      "source": [
        "import numpy as np\n",
        "import pandas as pd\n",
        "\n",
        "import matplotlib.pyplot as plt\n",
        "import seaborn as sns"
      ]
    },
    {
      "cell_type": "markdown",
      "source": [
        "Two pronged/step problem with two independent distribution to solve\n",
        "\n",
        "1) Pricing distribution for the coach and First class compartments are independent of each other so those can be solved independently as two separate DPs\n",
        "\n",
        "2) We intend to come up with a best strategy for maximizing the revenue problem\n",
        "\n",
        "3) For the entire solution space (time from 0 to 365 days and seats availaibe) we intend to only consider the revenue section of the problem \n",
        "\n",
        "\n",
        "\n",
        "> As the cost (overbooking cost) section of the problem will only surface on the 0th day \n",
        "\n",
        "\n",
        "I will start with solving the two separate DP for coach and first class compartment \n",
        "\n"
      ],
      "metadata": {
        "id": "ftu8cJw8iDsX"
      }
    },
    {
      "cell_type": "markdown",
      "source": [
        "# COACH Compartment \n",
        "\n",
        "Specifications\n",
        "\n",
        "<table>\n",
        " <tr>\n",
        " <th>Price</th>\n",
        " <th>Probability of selling</th>\n",
        " <th>Probability of not selling</th>\n",
        " </tr>\n",
        "\n",
        " <tr>\n",
        " <th>350 H</th>\n",
        " <td>0.3</td>\n",
        " <td>0.7</td>\n",
        " </tr>\n",
        "\n",
        " <tr>\n",
        " <th>300 L</th>\n",
        " <td>0.65</td>\n",
        " <td>0.35</td>\n",
        " </tr>\n",
        "\n",
        "\n",
        " </table>\n",
        " </tr>\n",
        "\n",
        " Number of seats = 100\n",
        " Number of days=365\n",
        " Overbooking allowed =5 \n",
        "\n",
        " Therefore seat will have a domain of 100 to 1 + 0,-1,-2,-3,-4\n",
        "\n",
        "\n",
        "\n",
        " # First Class\n",
        "\n",
        "Specifications\n",
        "\n",
        "<table>\n",
        " <tr>\n",
        " <th>Price</th>\n",
        " <th>Probability of selling</th>\n",
        " <th>Probability of not selling</th>\n",
        " </tr>\n",
        "\n",
        " <tr>\n",
        " <th>425 H</th>\n",
        " <td>0.08</td>\n",
        " <td>0.92</td>\n",
        " </tr>\n",
        "\n",
        " <tr>\n",
        " <th>500 L</th>\n",
        " <td>0.04</td>\n",
        " <td>0.96</td>\n",
        " </tr>\n",
        "\n",
        "\n",
        " </table>\n",
        " </tr>\n",
        "\n",
        " Number of seats = 20\n",
        " Number of days=365\n",
        "\n"
      ],
      "metadata": {
        "id": "ykOsCxlwkHwe"
      }
    },
    {
      "cell_type": "code",
      "source": [
        ""
      ],
      "metadata": {
        "id": "Xxf9ABKiCnXD"
      },
      "execution_count": 18,
      "outputs": []
    },
    {
      "cell_type": "code",
      "source": [
        "overbooking_coach=5\n",
        "overbooking_firstClass=0\n",
        "\n",
        "flight_specifics={\n",
        "    'coach': dict(\n",
        "        priceL = 300,\n",
        "        priceH = 350,\n",
        "        pL = [0.3,0.7], \n",
        "        pH = [0.6,0.4], \n",
        "        seats=100,\n",
        "        days=365,\n",
        "        overbooking=overbooking_coach\n",
        "        ),\n",
        "\n",
        "    'firstClass':dict(\n",
        "        priceL = 425,\n",
        "        priceH = 500,\n",
        "        pL = [0.08,0.92],\n",
        "        pH = [0.04,0.96],\n",
        "        seats=20,\n",
        "        days=365,\n",
        "        overbooking=overbooking_firstClass        \n",
        "                    )}\n",
        "pd.DataFrame(flight_specifics)"
      ],
      "metadata": {
        "colab": {
          "base_uri": "https://localhost:8080/",
          "height": 268
        },
        "id": "5vAPZKeIChma",
        "outputId": "d04c5b89-acaa-4073-e0e1-3390ea4516e6"
      },
      "execution_count": 21,
      "outputs": [
        {
          "output_type": "execute_result",
          "data": {
            "text/plain": [
              "                  coach    firstClass\n",
              "priceL              300           425\n",
              "priceH              350           500\n",
              "pL           [0.3, 0.7]  [0.08, 0.92]\n",
              "pH           [0.6, 0.4]  [0.04, 0.96]\n",
              "seats               100            20\n",
              "days                365           365\n",
              "overbooking           5             0"
            ],
            "text/html": [
              "\n",
              "  <div id=\"df-45434e8d-d04f-4559-9597-93349b980ead\">\n",
              "    <div class=\"colab-df-container\">\n",
              "      <div>\n",
              "<style scoped>\n",
              "    .dataframe tbody tr th:only-of-type {\n",
              "        vertical-align: middle;\n",
              "    }\n",
              "\n",
              "    .dataframe tbody tr th {\n",
              "        vertical-align: top;\n",
              "    }\n",
              "\n",
              "    .dataframe thead th {\n",
              "        text-align: right;\n",
              "    }\n",
              "</style>\n",
              "<table border=\"1\" class=\"dataframe\">\n",
              "  <thead>\n",
              "    <tr style=\"text-align: right;\">\n",
              "      <th></th>\n",
              "      <th>coach</th>\n",
              "      <th>firstClass</th>\n",
              "    </tr>\n",
              "  </thead>\n",
              "  <tbody>\n",
              "    <tr>\n",
              "      <th>priceL</th>\n",
              "      <td>300</td>\n",
              "      <td>425</td>\n",
              "    </tr>\n",
              "    <tr>\n",
              "      <th>priceH</th>\n",
              "      <td>350</td>\n",
              "      <td>500</td>\n",
              "    </tr>\n",
              "    <tr>\n",
              "      <th>pL</th>\n",
              "      <td>[0.3, 0.7]</td>\n",
              "      <td>[0.08, 0.92]</td>\n",
              "    </tr>\n",
              "    <tr>\n",
              "      <th>pH</th>\n",
              "      <td>[0.6, 0.4]</td>\n",
              "      <td>[0.04, 0.96]</td>\n",
              "    </tr>\n",
              "    <tr>\n",
              "      <th>seats</th>\n",
              "      <td>100</td>\n",
              "      <td>20</td>\n",
              "    </tr>\n",
              "    <tr>\n",
              "      <th>days</th>\n",
              "      <td>365</td>\n",
              "      <td>365</td>\n",
              "    </tr>\n",
              "    <tr>\n",
              "      <th>overbooking</th>\n",
              "      <td>5</td>\n",
              "      <td>0</td>\n",
              "    </tr>\n",
              "  </tbody>\n",
              "</table>\n",
              "</div>\n",
              "      <button class=\"colab-df-convert\" onclick=\"convertToInteractive('df-45434e8d-d04f-4559-9597-93349b980ead')\"\n",
              "              title=\"Convert this dataframe to an interactive table.\"\n",
              "              style=\"display:none;\">\n",
              "        \n",
              "  <svg xmlns=\"http://www.w3.org/2000/svg\" height=\"24px\"viewBox=\"0 0 24 24\"\n",
              "       width=\"24px\">\n",
              "    <path d=\"M0 0h24v24H0V0z\" fill=\"none\"/>\n",
              "    <path d=\"M18.56 5.44l.94 2.06.94-2.06 2.06-.94-2.06-.94-.94-2.06-.94 2.06-2.06.94zm-11 1L8.5 8.5l.94-2.06 2.06-.94-2.06-.94L8.5 2.5l-.94 2.06-2.06.94zm10 10l.94 2.06.94-2.06 2.06-.94-2.06-.94-.94-2.06-.94 2.06-2.06.94z\"/><path d=\"M17.41 7.96l-1.37-1.37c-.4-.4-.92-.59-1.43-.59-.52 0-1.04.2-1.43.59L10.3 9.45l-7.72 7.72c-.78.78-.78 2.05 0 2.83L4 21.41c.39.39.9.59 1.41.59.51 0 1.02-.2 1.41-.59l7.78-7.78 2.81-2.81c.8-.78.8-2.07 0-2.86zM5.41 20L4 18.59l7.72-7.72 1.47 1.35L5.41 20z\"/>\n",
              "  </svg>\n",
              "      </button>\n",
              "      \n",
              "  <style>\n",
              "    .colab-df-container {\n",
              "      display:flex;\n",
              "      flex-wrap:wrap;\n",
              "      gap: 12px;\n",
              "    }\n",
              "\n",
              "    .colab-df-convert {\n",
              "      background-color: #E8F0FE;\n",
              "      border: none;\n",
              "      border-radius: 50%;\n",
              "      cursor: pointer;\n",
              "      display: none;\n",
              "      fill: #1967D2;\n",
              "      height: 32px;\n",
              "      padding: 0 0 0 0;\n",
              "      width: 32px;\n",
              "    }\n",
              "\n",
              "    .colab-df-convert:hover {\n",
              "      background-color: #E2EBFA;\n",
              "      box-shadow: 0px 1px 2px rgba(60, 64, 67, 0.3), 0px 1px 3px 1px rgba(60, 64, 67, 0.15);\n",
              "      fill: #174EA6;\n",
              "    }\n",
              "\n",
              "    [theme=dark] .colab-df-convert {\n",
              "      background-color: #3B4455;\n",
              "      fill: #D2E3FC;\n",
              "    }\n",
              "\n",
              "    [theme=dark] .colab-df-convert:hover {\n",
              "      background-color: #434B5C;\n",
              "      box-shadow: 0px 1px 3px 1px rgba(0, 0, 0, 0.15);\n",
              "      filter: drop-shadow(0px 1px 2px rgba(0, 0, 0, 0.3));\n",
              "      fill: #FFFFFF;\n",
              "    }\n",
              "  </style>\n",
              "\n",
              "      <script>\n",
              "        const buttonEl =\n",
              "          document.querySelector('#df-45434e8d-d04f-4559-9597-93349b980ead button.colab-df-convert');\n",
              "        buttonEl.style.display =\n",
              "          google.colab.kernel.accessAllowed ? 'block' : 'none';\n",
              "\n",
              "        async function convertToInteractive(key) {\n",
              "          const element = document.querySelector('#df-45434e8d-d04f-4559-9597-93349b980ead');\n",
              "          const dataTable =\n",
              "            await google.colab.kernel.invokeFunction('convertToInteractive',\n",
              "                                                     [key], {});\n",
              "          if (!dataTable) return;\n",
              "\n",
              "          const docLinkHtml = 'Like what you see? Visit the ' +\n",
              "            '<a target=\"_blank\" href=https://colab.research.google.com/notebooks/data_table.ipynb>data table notebook</a>'\n",
              "            + ' to learn more about interactive tables.';\n",
              "          element.innerHTML = '';\n",
              "          dataTable['output_type'] = 'display_data';\n",
              "          await google.colab.output.renderOutput(dataTable, element);\n",
              "          const docLink = document.createElement('div');\n",
              "          docLink.innerHTML = docLinkHtml;\n",
              "          element.appendChild(docLink);\n",
              "        }\n",
              "      </script>\n",
              "    </div>\n",
              "  </div>\n",
              "  "
            ]
          },
          "metadata": {},
          "execution_count": 21
        }
      ]
    },
    {
      "cell_type": "code",
      "source": [
        "flight_specifics['coach']"
      ],
      "metadata": {
        "colab": {
          "base_uri": "https://localhost:8080/"
        },
        "id": "Z2VEqb-TDXpc",
        "outputId": "acaa89c1-46a9-447c-a76a-af6487a02797"
      },
      "execution_count": 23,
      "outputs": [
        {
          "output_type": "execute_result",
          "data": {
            "text/plain": [
              "{'days': 365,\n",
              " 'overbooking': 5,\n",
              " 'pH': [0.6, 0.4],\n",
              " 'pL': [0.3, 0.7],\n",
              " 'priceH': 350,\n",
              " 'priceL': 300,\n",
              " 'seats': 100}"
            ]
          },
          "metadata": {},
          "execution_count": 23
        }
      ]
    },
    {
      "cell_type": "code",
      "source": [
        "def generate_choiceLattice(dict_specific,delta=1/(1+15/365)):\n",
        "  priceL = dict_specific['priceL']\n",
        "  priceH = dict_specific['priceH']\n",
        "  pL = dict_specific['pL']\n",
        "  pH = dict_specific['pH']\n",
        "\n",
        "  delta = delta\n",
        "\n",
        "  overbooking=dict_specific['overbooking']\n",
        "  M = dict_specific['seats'] + overbooking\n",
        "  T = dict_specific['days'] \n",
        "\n",
        "  sValues = np.arange(M+1) \n",
        "  tValues = np.arange(T+1) \n",
        "  sN = len(sValues)\n",
        "  tN = len(tValues)\n",
        "\n",
        "  V = np.zeros((sN,tN)) \n",
        "  U = np.zeros((sN,tN)) \n",
        "\n",
        "  V[:,tN-1] = 0 \n",
        "  U[:,tN-1] =0\n",
        "\n",
        "  for t in reversed(range(tN-1)):\n",
        "    for s in range(sN):\n",
        "      if s==0: \n",
        "        V[s,t]=0 \n",
        "        U[s,t]=3 \n",
        "      else:\n",
        "        valueL = pL[1]*priceL + delta* (pL[0]*V[s,t+1] + pL[1]*V[s-1,t+1])\n",
        "        valueH = pH[1]*priceH + delta* (pH[0]*V[s,t+1] + pH[1]*V[s-1,t+1]) \n",
        "\n",
        "        V[s,t]=max(valueL,valueH) \n",
        "        U[s,t]=np.argmax([valueL,valueH])+1 \n",
        "  return (V,U)\n",
        "\n",
        "\n",
        "v,u=generate_choiceLattice(flight_specifics['coach'])\n",
        "flight_specifics['coach']['v']=v\n",
        "flight_specifics['coach']['u']=u\n",
        "\n",
        "\n",
        "v,u=generate_choiceLattice(flight_specifics['firstClass'])\n",
        "flight_specifics['firstClass']['v']=v\n",
        "flight_specifics['firstClass']['u']=u\n",
        "\n",
        "\n",
        "# flight_specifics\n",
        "# flight_specifics['firstClass']['v'].shape"
      ],
      "metadata": {
        "colab": {
          "base_uri": "https://localhost:8080/"
        },
        "id": "isSUY4fiE6kn",
        "outputId": "d047b032-9d70-443a-d399-94f485098ae7"
      },
      "execution_count": 27,
      "outputs": [
        {
          "output_type": "execute_result",
          "data": {
            "text/plain": [
              "(21, 366)"
            ]
          },
          "metadata": {},
          "execution_count": 27
        }
      ]
    },
    {
      "cell_type": "code",
      "source": [
        "flight_specifics['coach'].keys()"
      ],
      "metadata": {
        "colab": {
          "base_uri": "https://localhost:8080/"
        },
        "id": "Mb5s4DxkIh8F",
        "outputId": "eb801987-9ab8-4a86-ec25-12db12e7349f"
      },
      "execution_count": 28,
      "outputs": [
        {
          "output_type": "execute_result",
          "data": {
            "text/plain": [
              "dict_keys(['priceL', 'priceH', 'pL', 'pH', 'seats', 'days', 'overbooking', 'v', 'u'])"
            ]
          },
          "metadata": {},
          "execution_count": 28
        }
      ]
    },
    {
      "cell_type": "code",
      "source": [
        "def simulate_revenue(dict_specifics,delta=1/(1+15/365)):\n",
        "  s = dict_specifics['seats']+dict_specifics['overbooking']\n",
        "  tN=dict_specifics['days']\n",
        "  U=dict_specifics['u']\n",
        "  V=dict_specifics['v']\n",
        "\n",
        "  priceL = dict_specifics['priceL']\n",
        "  priceH = dict_specifics['priceH']\n",
        "  pL = dict_specifics['pL']\n",
        "  pH = dict_specifics['pH']\n",
        "\n",
        "  total_rev = 0 \n",
        "  seats_left_vec = np.zeros(tN) # store how many seats\n",
        "  revenue_vec = np.zeros(tN)\n",
        "  price_vec = np.zeros(tN)\n",
        "  \n",
        "\n",
        "\n",
        "  for t in range(tN): \n",
        "      opt_price = U[s,t] \n",
        "      price_vec[t] = opt_price\n",
        "      if opt_price == 1: \n",
        "          prob_sale = pL[0] \n",
        "          actual_price = priceL \n",
        "      elif opt_price == 2: \n",
        "          prob_sale = pH[0]\n",
        "          actual_price = priceH\n",
        "      else: \n",
        "          prob_sale = 0\n",
        "          actual_price = 0\n",
        "\n",
        "      sale = int(np.random.random(1)<prob_sale) \n",
        "      # print(sale)\n",
        "      \n",
        "      s = int(s - sale) #seats being reduced\n",
        "      total_rev = total_rev + sale*actual_price*delta**(t-1) \n",
        "      seats_left_vec[t] = s \n",
        "      revenue_vec[t] = total_rev\n",
        "  revenue_vec=np.array(revenue_vec)\n",
        "  seats_left_vec=np.array(seats_left_vec)\n",
        "  return (seats_left_vec,revenue_vec)"
      ],
      "metadata": {
        "id": "YsZ-MUldHFbb"
      },
      "execution_count": 52,
      "outputs": []
    },
    {
      "cell_type": "code",
      "source": [
        "coach_seats,coach_revenue=simulate_revenue(flight_specifics['coach'])\n",
        "plt.plot(coach_seats)\n",
        "\n",
        "\n",
        "# np.where(coach_seats==5)\n",
        "# np.max(coach_seats)\n",
        "np.where(coach_seats==0)[0][0],np.where(coach_seats==5)[0][0]"
      ],
      "metadata": {
        "colab": {
          "base_uri": "https://localhost:8080/",
          "height": 284
        },
        "id": "rVyv7tT9HFhB",
        "outputId": "d37c3a6d-a7dd-47eb-edac-c6d742fb0cd9"
      },
      "execution_count": 53,
      "outputs": [
        {
          "output_type": "execute_result",
          "data": {
            "text/plain": [
              "(336, 325)"
            ]
          },
          "metadata": {},
          "execution_count": 53
        },
        {
          "output_type": "display_data",
          "data": {
            "text/plain": [
              "<Figure size 432x288 with 1 Axes>"
            ],
            "image/png": "[encoded data removed]"
          },
          "metadata": {
            "needs_background": "light"
          }
        }
      ]
    },
    {
      "cell_type": "code",
      "source": [
        "firstClass_seats,firstClass_revenue=simulate_revenue(flight_specifics['firstClass'])\n",
        "plt.plot(firstClass_seats)\n",
        "\n",
        "try:\n",
        "  np.where(firstClass_seats==0)[0][0]\n",
        "except:\n",
        "  print(f'seats_left= {firstClass_seats[-1]}')"
      ],
      "metadata": {
        "colab": {
          "base_uri": "https://localhost:8080/",
          "height": 284
        },
        "id": "WIQFucB7L6hO",
        "outputId": "a2dafa9e-29b3-44df-f733-40cc83591d0e"
      },
      "execution_count": 57,
      "outputs": [
        {
          "output_type": "stream",
          "name": "stdout",
          "text": [
            "seats_left= 2.0\n"
          ]
        },
        {
          "output_type": "display_data",
          "data": {
            "text/plain": [
              "<Figure size 432x288 with 1 Axes>"
            ],
            "image/png": "[encoded data removed]"
          },
          "metadata": {
            "needs_background": "light"
          }
        }
      ]
    },
    {
      "cell_type": "code",
      "source": [
        ""
      ],
      "metadata": {
        "id": "WtLNqY5WHFnN"
      },
      "execution_count": null,
      "outputs": []
    },
    {
      "cell_type": "code",
      "source": [
        ""
      ],
      "metadata": {
        "id": "yGIGGaONHFsr"
      },
      "execution_count": null,
      "outputs": []
    },
    {
      "cell_type": "code",
      "source": [
        ""
      ],
      "metadata": {
        "id": "KIze01zQHFxs"
      },
      "execution_count": null,
      "outputs": []
    },
    {
      "cell_type": "code",
      "source": [
        ""
      ],
      "metadata": {
        "id": "EDAeguJPHF2r"
      },
      "execution_count": null,
      "outputs": []
    },
    {
      "cell_type": "code",
      "source": [
        ""
      ],
      "metadata": {
        "id": "QJFaps2AHF8b"
      },
      "execution_count": null,
      "outputs": []
    },
    {
      "cell_type": "markdown",
      "source": [
        "# ROUGH SPACE"
      ],
      "metadata": {
        "id": "75Zpu25IG0aq"
      }
    },
    {
      "cell_type": "code",
      "source": [
        "V = np.zeros((sN,tN)) \n",
        "U = np.zeros((sN,tN)) \n",
        "\n",
        "# boundary/terminal condition\n",
        "V[:,tN-1] = 0 # when the flight takes off you can't make any more money\n",
        "U[:,tN-1] = 0 # 0 is the value for no tickets for sale\n"
      ],
      "metadata": {
        "id": "Hk93wuSbn-ia"
      },
      "execution_count": 4,
      "outputs": []
    },
    {
      "cell_type": "code",
      "source": [
        "for t in reversed(range(tN-1)):\n",
        "    for s in range(sN):\n",
        "        if s==0: \n",
        "            V[s,t]=0 \n",
        "            U[s,t]=3 \n",
        "        else:\n",
        "            valueL = pL[1]*priceL + delta* (pL[0]*V[s,t+1] + pL[1]*V[s-1,t+1])\n",
        "            valueH = pH[1]*priceH + delta* (pH[0]*V[s,t+1] + pH[1]*V[s-1,t+1]) \n",
        "\n",
        "            V[s,t]=max(valueL,valueH) \n",
        "            U[s,t]=np.argmax([valueL,valueH])+1 \n"
      ],
      "metadata": {
        "id": "dgDc9uC1n-n3"
      },
      "execution_count": 5,
      "outputs": []
    },
    {
      "cell_type": "code",
      "source": [
        "U[:10]"
      ],
      "metadata": {
        "colab": {
          "base_uri": "https://localhost:8080/"
        },
        "id": "jbpQZqTXn-tt",
        "outputId": "3601a4be-6fec-424f-ac6d-5e86873e34d2"
      },
      "execution_count": 6,
      "outputs": [
        {
          "output_type": "execute_result",
          "data": {
            "text/plain": [
              "array([[3., 3., 3., ..., 3., 3., 0.],\n",
              "       [2., 2., 2., ..., 1., 1., 0.],\n",
              "       [2., 2., 2., ..., 1., 1., 0.],\n",
              "       ...,\n",
              "       [1., 1., 1., ..., 1., 1., 0.],\n",
              "       [1., 1., 1., ..., 1., 1., 0.],\n",
              "       [1., 1., 1., ..., 1., 1., 0.]])"
            ]
          },
          "metadata": {},
          "execution_count": 6
        }
      ]
    },
    {
      "cell_type": "code",
      "source": [
        "# U[\n",
        "# np.where(U==3)\n",
        "  # ]\n",
        "from copy import deepcopy\n",
        "\n",
        "v_coach=deepcopy(V)\n",
        "u_coach=deepcopy(U)\n"
      ],
      "metadata": {
        "id": "pTfJGr2on-zX"
      },
      "execution_count": 13,
      "outputs": []
    },
    {
      "cell_type": "markdown",
      "source": [
        ""
      ],
      "metadata": {
        "id": "E93TLDV7AtX6"
      }
    },
    {
      "cell_type": "code",
      "source": [
        "priceL = 425\n",
        "priceH = 500\n",
        "pL = [0.08,0.92] \n",
        "pH = [0.04,0.96] \n",
        "\n",
        "delta = 1/(1+15/365) #0.96\n",
        "\n",
        "overbooking=0\n",
        "M = 20 + overbooking\n",
        "T = 365 \n",
        "\n",
        "sValues = np.arange(M+1) #0 and other seats that are allowed\n",
        "tValues = np.arange(T+1) \n",
        "sN = len(sValues)\n",
        "tN = len(tValues)"
      ],
      "metadata": {
        "id": "b21SFtswAsbo"
      },
      "execution_count": 14,
      "outputs": []
    },
    {
      "cell_type": "code",
      "source": [
        "for t in reversed(range(tN-1)):\n",
        "    for s in range(sN):\n",
        "        if s==0: \n",
        "            V[s,t]=0 \n",
        "            U[s,t]=3 \n",
        "        else:\n",
        "            valueL = pL[1]*priceL + delta* (pL[0]*V[s,t+1] + pL[1]*V[s-1,t+1])\n",
        "            valueH = pH[1]*priceH + delta* (pH[0]*V[s,t+1] + pH[1]*V[s-1,t+1]) \n",
        "\n",
        "            V[s,t]=max(valueL,valueH) \n",
        "            U[s,t]=np.argmax([valueL,valueH])+1 \n"
      ],
      "metadata": {
        "id": "vaCjdkhcAshC"
      },
      "execution_count": 15,
      "outputs": []
    },
    {
      "cell_type": "code",
      "source": [
        "U"
      ],
      "metadata": {
        "colab": {
          "base_uri": "https://localhost:8080/"
        },
        "id": "DVAw7x5FAsnZ",
        "outputId": "28e449c9-2f3e-477e-d1cc-fe1c22399d43"
      },
      "execution_count": 16,
      "outputs": [
        {
          "output_type": "execute_result",
          "data": {
            "text/plain": [
              "array([[3., 3., 3., ..., 3., 3., 0.],\n",
              "       [2., 2., 2., ..., 2., 2., 0.],\n",
              "       [2., 2., 2., ..., 2., 2., 0.],\n",
              "       ...,\n",
              "       [1., 1., 1., ..., 1., 1., 0.],\n",
              "       [1., 1., 1., ..., 1., 1., 0.],\n",
              "       [1., 1., 1., ..., 1., 1., 0.]])"
            ]
          },
          "metadata": {},
          "execution_count": 16
        }
      ]
    },
    {
      "cell_type": "code",
      "source": [
        "v_firstClass=deepcopy(V)\n",
        "u_firstClass=deepcopy(U)"
      ],
      "metadata": {
        "id": "W6F8ijKuBeRi"
      },
      "execution_count": 17,
      "outputs": []
    },
    {
      "cell_type": "code",
      "source": [
        ""
      ],
      "metadata": {
        "id": "DdYpQfjVBejr"
      },
      "execution_count": null,
      "outputs": []
    },
    {
      "cell_type": "code",
      "source": [
        ""
      ],
      "metadata": {
        "id": "3i1lb6D5Bepm"
      },
      "execution_count": null,
      "outputs": []
    },
    {
      "cell_type": "markdown",
      "source": [
        ""
      ],
      "metadata": {
        "id": "PiWbOzc4ns90"
      }
    },
    {
      "cell_type": "code",
      "source": [
        "1/(1+15/365)"
      ],
      "metadata": {
        "colab": {
          "base_uri": "https://localhost:8080/"
        },
        "id": "MTAlsRyrmpPb",
        "outputId": "66af6572-c29b-4d22-bf3b-33afd82eb647"
      },
      "execution_count": 7,
      "outputs": [
        {
          "output_type": "execute_result",
          "data": {
            "text/plain": [
              "0.9605263157894738"
            ]
          },
          "metadata": {},
          "execution_count": 7
        }
      ]
    },
    {
      "cell_type": "code",
      "source": [
        "np.flip(np.arange(0,-5,-1))"
      ],
      "metadata": {
        "colab": {
          "base_uri": "https://localhost:8080/"
        },
        "id": "fWXpFNVcmrsK",
        "outputId": "d790f280-c01c-4cdc-93f4-bcec354107a1"
      },
      "execution_count": 8,
      "outputs": [
        {
          "output_type": "execute_result",
          "data": {
            "text/plain": [
              "array([-4, -3, -2, -1,  0])"
            ]
          },
          "metadata": {},
          "execution_count": 8
        }
      ]
    },
    {
      "cell_type": "code",
      "source": [
        ""
      ],
      "metadata": {
        "id": "pUN0L6SAmyQx"
      },
      "execution_count": 8,
      "outputs": []
    }
  ]
}