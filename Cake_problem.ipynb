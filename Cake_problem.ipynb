{
  "nbformat": 4,
  "nbformat_minor": 0,
  "metadata": {
    "colab": {
      "name": "Cake_problem.ipynb",
      "provenance": []
    },
    "kernelspec": {
      "name": "python3",
      "display_name": "Python 3"
    },
    "language_info": {
      "name": "python"
    }
  },
  "cells": [
    {
      "cell_type": "code",
      "source": [
        "import numpy as np"
      ],
      "metadata": {
        "id": "0X1TZVod_Y9u"
      },
      "execution_count": 1,
      "outputs": []
    },
    {
      "cell_type": "code",
      "execution_count": 2,
      "metadata": {
        "colab": {
          "base_uri": "https://localhost:8080/",
          "height": 35
        },
        "id": "VD_GXT31_SDl",
        "outputId": "ebb0b78f-7dd9-4268-9e4d-459ad2729e3e"
      },
      "outputs": [
        {
          "output_type": "execute_result",
          "data": {
            "text/plain": [
              "'\\nwith df AS (\\n    SELECT *,\\n    ROW_NUMBER() OVER (ORDER BY RANDOM()) AS rn\\n\\n    from \"veraset\".\"veraset_visits_classified_users\"\\n    and segmentation_id=1 and \\n    segment_id in (193,119)\\n    )\\n    '"
            ],
            "application/vnd.google.colaboratory.intrinsic+json": {
              "type": "string"
            }
          },
          "metadata": {},
          "execution_count": 2
        }
      ],
      "source": [
        "segment_id=[193,119]\n",
        "temp_substr='('\n",
        "temp_substr+=','.join(map(str,segment_id))\n",
        "temp_substr+=')'\n",
        "\n",
        "str1=f\"\"\"\n",
        "with df AS (\n",
        "    SELECT *,\n",
        "    ROW_NUMBER() OVER (ORDER BY RANDOM()) AS rn\n",
        "\n",
        "    from \"veraset\".\"veraset_visits_classified_users\"\n",
        "    and segmentation_id=1 and \n",
        "    segment_id in {temp_substr}\n",
        "    )\n",
        "    \"\"\"\n",
        "str1"
      ]
    },
    {
      "cell_type": "code",
      "source": [
        "years=3\n",
        "cakes=5\n",
        "# we will let yr 0 and yr 4 be in the cache as the stop criterion is set on t=4 yr and we intend to maintain consistency while caching yr and cakes based reward\n",
        "\n",
        "cache=np.zeros(shape=(\n",
        "    years+2,cakes+1\n",
        "))#cake 6 nahi chahiye but year 4 chahiye to formulate the stop criterion\n"
      ],
      "metadata": {
        "id": "SGn_nCX2CrRb"
      },
      "execution_count": 3,
      "outputs": []
    },
    {
      "cell_type": "code",
      "source": [
        "def reward(c,d):\n",
        "  return (pow(0.7,d-1)*(pow(c,1/2)))\n",
        "\n",
        "state_value=np.zeros(shape=(years+2,cakes+1))-1\n",
        "\n",
        "for t in [3,2,1]:\n",
        "  for ck in range(1,5+1):\n",
        "    # rewrd---compute reward from stop criterion and chk all possible values of states and cache the statistic, here maximum, of all those possible answers\n",
        "    lt_rewards=[]\n",
        "    for ck_consumed in range(ck+1):#I can consume 0,1 till all the cakes\n",
        "      temp_reward=reward(ck_consumed,t) + cache[t+1,ck-ck_consumed]\n",
        "      lt_rewards.append(temp_reward)\n",
        "    lt_rewards=np.asarray(lt_rewards)\n",
        "    cache[t,ck]=np.max(lt_rewards)\n",
        "    state_value[t,ck]=np.argmax(lt_rewards)\n",
        "\n",
        "\n"
      ],
      "metadata": {
        "id": "BX7gbY57Djx_"
      },
      "execution_count": 16,
      "outputs": []
    },
    {
      "cell_type": "code",
      "source": [
        "import matplotlib.pyplot as plt\n",
        "import seaborn as sns\n",
        "\n",
        "# plt.figure(figsize=(20,8))\n",
        "f,ax=plt.subplots(1,2,figsize=(30,10))\n",
        "\n",
        "sns.heatmap(cache,annot=True,ax=ax[0])\n",
        "sns.heatmap(state_value,annot=True,ax=ax[1])"
      ],
      "metadata": {
        "id": "rOF-r8rJDkSL",
        "colab": {
          "base_uri": "https://localhost:8080/",
          "height": 612
        },
        "outputId": "6709e4e5-fefc-4397-8a4d-90f3abd731ab"
      },
      "execution_count": 19,
      "outputs": [
        {
          "output_type": "execute_result",
          "data": {
            "text/plain": [
              "<matplotlib.axes._subplots.AxesSubplot at 0x7fc6f8d64550>"
            ]
          },
          "metadata": {},
          "execution_count": 19
        },
        {
          "output_type": "display_data",
          "data": {
            "text/plain": [
              "<Figure size 2160x720 with 4 Axes>"
            ],
            "image/png": "[encoded data removed]"
          },
          "metadata": {
            "needs_background": "light"
          }
        }
      ]
    },
    {
      "cell_type": "code",
      "source": [
        "total_reward=0\n",
        "ck_avail=cakes#On day 1 we have 5 cakes availaible\n",
        "for t in range(1,4):\n",
        "  print('reward on day {} is {} by consuming {} cakes'.format(t,cache[t,ck_avail],state_value[t,ck_avail]))\n",
        "  total_reward+=cache[t,ck_avail]\n",
        "  ck_avail=int(ck_avail-state_value[t,ck_avail])\n",
        "  \n",
        "\n",
        "\n"
      ],
      "metadata": {
        "colab": {
          "base_uri": "https://localhost:8080/"
        },
        "id": "wrX_dtaygB5L",
        "outputId": "94e3f2a0-a749-429c-d8c4-651445685fdc"
      },
      "execution_count": 30,
      "outputs": [
        {
          "output_type": "stream",
          "name": "stdout",
          "text": [
            "reward on day 1 is 2.922050807568877 by consuming 3.0 cakes\n",
            "reward on day 2 is 1.19 by consuming 1.0 cakes\n",
            "reward on day 3 is 0.48999999999999994 by consuming 1.0 cakes\n"
          ]
        }
      ]
    },
    {
      "cell_type": "code",
      "source": [
        "total_reward"
      ],
      "metadata": {
        "colab": {
          "base_uri": "https://localhost:8080/"
        },
        "id": "AWXygvDsiuhH",
        "outputId": "179f5ab0-c12a-4eaf-f074-8e327626edfc"
      },
      "execution_count": 31,
      "outputs": [
        {
          "output_type": "execute_result",
          "data": {
            "text/plain": [
              "4.602050807568878"
            ]
          },
          "metadata": {},
          "execution_count": 31
        }
      ]
    },
    {
      "cell_type": "code",
      "source": [
        "# [i for i in range(-100)]"
      ],
      "metadata": {
        "colab": {
          "base_uri": "https://localhost:8080/"
        },
        "id": "yRYEIyUJi77H",
        "outputId": "405fcf3c-371e-4e64-e2ce-91d069d35fba"
      },
      "execution_count": 34,
      "outputs": [
        {
          "output_type": "execute_result",
          "data": {
            "text/plain": [
              "[]"
            ]
          },
          "metadata": {},
          "execution_count": 34
        }
      ]
    },
    {
      "cell_type": "code",
      "source": [
        ""
      ],
      "metadata": {
        "id": "PkQER2xNjJY3"
      },
      "execution_count": 32,
      "outputs": []
    },
    {
      "cell_type": "code",
      "source": [
        ""
      ],
      "metadata": {
        "id": "sS4ZAZNdjPPW"
      },
      "execution_count": null,
      "outputs": []
    }
  ]
}