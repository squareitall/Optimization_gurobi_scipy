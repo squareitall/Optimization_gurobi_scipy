{
  "nbformat": 4,
  "nbformat_minor": 0,
  "metadata": {
    "colab": {
      "name": "LongestSteakofaNumber_Simulation.ipynb",
      "provenance": []
    },
    "kernelspec": {
      "name": "python3",
      "display_name": "Python 3"
    },
    "language_info": {
      "name": "python"
    }
  },
  "cells": [
    {
      "cell_type": "code",
      "execution_count": 1,
      "metadata": {
        "id": "Pellw1bpDziv"
      },
      "outputs": [],
      "source": [
        "import numpy as np\n",
        "import pandas as pd\n",
        "import matplotlib.pyplot as plt\n",
        "\n",
        "\n",
        "import numpy.random as npr"
      ]
    },
    {
      "cell_type": "markdown",
      "source": [
        "Simulate choosing 4 consecutive heads from the 15 coin tosses\n",
        "\n",
        "15 coin tosses will generate 15 results \n",
        "This generally follows a binomial distribution \n",
        "\n",
        "But we wish to have all the results listed and not just how many positive we had so we will simulate this random picking using choice class of npr that supports any discrete distribution"
      ],
      "metadata": {
        "id": "d_vE26FQENvC"
      }
    },
    {
      "cell_type": "code",
      "source": [
        "temp_event=npr.choice(['Heads','Tails'],size=15,p=[0.5,0.5])\n",
        "#I will try to formulate Kandane backed code that will try to find the longest streak of heads\n",
        "\n",
        "def generate_sequence():\n",
        "  temp_event=npr.choice(['Heads','Tails'],size=15,p=[0.5,0.5])\n",
        "  return temp_event\n",
        "\n",
        "def compute_streak(temp_event):\n",
        "  local_sum=0\n",
        "  global_sum=0\n",
        "  for i in temp_event:\n",
        "    if i=='Heads':\n",
        "      local_sum+=1\n",
        "    if i=='Tails':\n",
        "      local_sum=0#streak gets broken and local_sum terminates \n",
        "    \n",
        "    if local_sum>global_sum:\n",
        "      global_sum=local_sum\n",
        "  return global_sum\n",
        "\n",
        "compute_streak(temp_event)"
      ],
      "metadata": {
        "colab": {
          "base_uri": "https://localhost:8080/"
        },
        "id": "wdZ6k7l1D9Rn",
        "outputId": "5035f6c9-d135-4fa7-95f7-6ad157797479"
      },
      "execution_count": 8,
      "outputs": [
        {
          "output_type": "execute_result",
          "data": {
            "text/plain": [
              "3"
            ]
          },
          "metadata": {},
          "execution_count": 8
        }
      ]
    },
    {
      "cell_type": "code",
      "source": [
        "from collections import defaultdict\n",
        "cache_of_streak=defaultdict(int)\n",
        "for _ in range(1000):\n",
        "  E=generate_sequence()\n",
        "  hash_streak=compute_streak(E)\n",
        "\n",
        "  cache_of_streak[hash_streak]+=1\n",
        "\n",
        "\n",
        "# plt.plot(cache_of_streak)"
      ],
      "metadata": {
        "id": "-W7WPvpsEtnY"
      },
      "execution_count": 13,
      "outputs": []
    },
    {
      "cell_type": "code",
      "source": [
        "pd.Series(cache_of_streak).sort_index().plot(kind='bar')#kind='hist')"
      ],
      "metadata": {
        "colab": {
          "base_uri": "https://localhost:8080/",
          "height": 285
        },
        "id": "RYbq-94JFfbR",
        "outputId": "80528032-3210-4ce3-952b-2fb855fc463e"
      },
      "execution_count": 26,
      "outputs": [
        {
          "output_type": "execute_result",
          "data": {
            "text/plain": [
              "<matplotlib.axes._subplots.AxesSubplot at 0x7f3f6aa5f290>"
            ]
          },
          "metadata": {},
          "execution_count": 26
        },
        {
          "output_type": "display_data",
          "data": {
            "image/png": "[encoded data removed]",
            "text/plain": [
              "<Figure size 432x288 with 1 Axes>"
            ]
          },
          "metadata": {
            "needs_background": "light"
          }
        }
      ]
    },
    {
      "cell_type": "markdown",
      "source": [
        "# Simulation is all about performing well-designed computation multiple number of times and then interpreting statistical distribution of the generated result \n",
        "\n",
        "\n",
        "Here we formulated an experiment where we tossed the coin 15 number of times and determined the presence of 4-head_streak in the result \n",
        "\n",
        "This is probability based simulation where we create streak using discrete probability distribution \n",
        "Following track and interpret the result"
      ],
      "metadata": {
        "id": "fcGpmYuFLPCc"
      }
    },
    {
      "cell_type": "code",
      "source": [
        ""
      ],
      "metadata": {
        "id": "nRWTVv4QGopA"
      },
      "execution_count": null,
      "outputs": []
    }
  ]
}