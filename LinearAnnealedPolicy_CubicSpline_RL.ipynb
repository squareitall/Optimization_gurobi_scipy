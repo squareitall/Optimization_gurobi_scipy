{
  "nbformat": 4,
  "nbformat_minor": 0,
  "metadata": {
    "colab": {
      "name": "LinearAnnealedPolicy_CubicSpline_RL.ipynb",
      "provenance": [],
      "collapsed_sections": []
    },
    "kernelspec": {
      "name": "python3",
      "display_name": "Python 3"
    },
    "language_info": {
      "name": "python"
    },
    "accelerator": "GPU"
  },
  "cells": [
    {
      "cell_type": "markdown",
      "source": [
        "# QUESTION 1\n",
        "Linear Annealed Policy \n",
        ">> Applied on Epsilon Bandit Problem"
      ],
      "metadata": {
        "id": "sh-6DNw_iASf"
      }
    },
    {
      "cell_type": "code",
      "execution_count": null,
      "metadata": {
        "id": "__6363ZAEtDI"
      },
      "outputs": [],
      "source": [
        "import numpy as np\n",
        "import numpy.random as npr\n",
        "\n",
        "import matplotlib.pyplot as plt"
      ]
    },
    {
      "cell_type": "code",
      "source": [
        "#Intialization of class parameters \n",
        "lt_u = np.array([1,2,3,4])\n",
        "lt_std = np.array([1,2,3,4])\n",
        "n_arms = len(lt_u)\n"
      ],
      "metadata": {
        "id": "mJJ5UCb5E0gy"
      },
      "execution_count": null,
      "outputs": []
    },
    {
      "cell_type": "code",
      "source": [
        "#Parameters sfor this method are pulls,epsilon,decrement rate and stop_value \n",
        "n_pulls = 500\n",
        "epsilon=0.95\n",
        "decrement_rate=None\n",
        "\n",
        "stop_value=None\n",
        "\n",
        "def estimate_reward(n_pulls,epsilon,decrement_rate=None,stop_value=None):\n",
        "  global n_arms,lt_u,lt_std\n",
        "  lt_reward=np.zeros(shape=(n_arms))\n",
        "  lt_pulls=np.zeros(shape=(n_arms))\n",
        "\n",
        "  total_reward=0\n",
        "\n",
        "  for pull in range(n_pulls):\n",
        "    bandit_chosen=None\n",
        "    current_probability=npr.random()\n",
        "\n",
        "    #Select the arm\n",
        "    if current_probability<epsilon:\n",
        "      #Explore\n",
        "      temp_arm=npr.choice(range(n_arms))\n",
        "    else:\n",
        "      temp_arm=np.argmax(lt_reward)\n",
        "\n",
        "    #Sidebar activity of decreasing epsilon for next pull\n",
        "    if decrement_rate:\n",
        "      if not stop_value:\n",
        "        #Assign kr agr stop value assigned nahi hai toh\n",
        "        stop_value=0.01\n",
        "      if epsilon>(stop_value+decrement_rate):\n",
        "        epsilon-=decrement_rate\n",
        "\n",
        "    #Estimate reward\n",
        "    pull_reward=npr.normal(\n",
        "        loc=lt_u[temp_arm],scale=lt_std[temp_arm]\n",
        "                          )\n",
        "\n",
        "    #Update the state variables\n",
        "    old_average_reward=lt_reward[temp_arm]\n",
        "    new_average_reward=((lt_pulls[temp_arm]*old_average_reward)+pull_reward)/(lt_pulls[temp_arm]+1)\n",
        "\n",
        "    lt_reward[temp_arm]=new_average_reward\n",
        "    lt_pulls[temp_arm]+=1\n",
        "\n",
        "    #Cache your reward\n",
        "    total_reward+=pull_reward\n",
        "\n",
        "  return total_reward"
      ],
      "metadata": {
        "id": "4LlzfpNTFkOV"
      },
      "execution_count": null,
      "outputs": []
    },
    {
      "cell_type": "code",
      "source": [
        "estimate_reward(n_pulls=500,\n",
        "                epsilon=0.95,\n",
        "                decrement_rate=0.05,\n",
        "                stop_value=0.05)"
      ],
      "metadata": {
        "colab": {
          "base_uri": "https://localhost:8080/"
        },
        "id": "atcHWsRXQSez",
        "outputId": "155aa48e-79ec-4cde-9103-6616e3c38413"
      },
      "execution_count": null,
      "outputs": [
        {
          "output_type": "execute_result",
          "data": {
            "text/plain": [
              "1822.169315887552"
            ]
          },
          "metadata": {},
          "execution_count": 4
        }
      ]
    },
    {
      "cell_type": "code",
      "source": [
        "#Can be ABC abstract class that takes a function that can always be simulated\n",
        "\n",
        "# def simulate_results(n_sims,verbose=True):\n",
        "verbose=True\n",
        "n_sims=5000\n",
        "from collections import defaultdict\n",
        "\n",
        "avg_reward=0\n",
        "\n",
        "if verbose:\n",
        "  dict_store=defaultdict(float)\n",
        "\n",
        "for sim in range(n_sims):\n",
        "  temp_reward=estimate_reward(n_pulls=500,\n",
        "                epsilon=0.95,\n",
        "                decrement_rate=0.05,\n",
        "                stop_value=0.05)\n",
        "  reward_tillSim=avg_reward*(max(sim,0))\n",
        "  rewardSum=reward_tillSim+temp_reward\n",
        "\n",
        "  avg_reward=rewardSum/(sim+1)\n",
        "\n",
        "  if verbose:\n",
        "    dict_store[sim]=temp_reward\n",
        "\n",
        "\n"
      ],
      "metadata": {
        "id": "kKpDbwvEMPYm"
      },
      "execution_count": null,
      "outputs": []
    },
    {
      "cell_type": "code",
      "source": [
        "plt.plot(list(dict_store.values()))\n",
        "avg_reward"
      ],
      "metadata": {
        "colab": {
          "base_uri": "https://localhost:8080/",
          "height": 284
        },
        "id": "MUOiJ6PMVPR9",
        "outputId": "96155ded-1528-4ce7-c6d6-00a7200c6a8c"
      },
      "execution_count": null,
      "outputs": [
        {
          "output_type": "execute_result",
          "data": {
            "text/plain": [
              "1802.3644216988034"
            ]
          },
          "metadata": {},
          "execution_count": 6
        },
        {
          "output_type": "display_data",
          "data": {
            "text/plain": [
              "<Figure size 432x288 with 1 Axes>"
            ],
            "image/png": "[encoded data removed]"
          },
          "metadata": {
            "needs_background": "light"
          }
        }
      ]
    },
    {
      "cell_type": "code",
      "source": [
        "dict_strategies={'A': {'n_pulls': 500,\n",
        "                      'epsilon':1,\n",
        "                      'decrement_rate':(0.5/100),\n",
        "                      'stop_value':0.25\n",
        "                      },\n",
        "                 'B': {'n_pulls': 500,\n",
        "                      'epsilon':0.5,\n",
        "                      'decrement_rate':(1/100),\n",
        "                      'stop_value':0.05\n",
        "                      },\n",
        "                 'C': {'n_pulls': 500,\n",
        "                      'epsilon':0.9,\n",
        "                      'decrement_rate':(0.5/100),\n",
        "                      'stop_value':0.1\n",
        "                      },\n",
        "                 'D': {'n_pulls': 500,\n",
        "                      'epsilon':0.75,\n",
        "                      'decrement_rate':(1/100),\n",
        "                      'stop_value':0.15\n",
        "                      },\n",
        "                 'E': {'n_pulls': 500,\n",
        "                      'epsilon':0.15,\n",
        "                      'decrement_rate':None,\n",
        "                      'stop_value':None\n",
        "                      }\n",
        "                }\n",
        "dict_strategies.keys()"
      ],
      "metadata": {
        "colab": {
          "base_uri": "https://localhost:8080/"
        },
        "id": "99PBSZO3Xm6T",
        "outputId": "a574a057-fb56-4dcd-c04b-608fe9a3ebae"
      },
      "execution_count": null,
      "outputs": [
        {
          "output_type": "execute_result",
          "data": {
            "text/plain": [
              "dict_keys(['A', 'B', 'C', 'D', 'E'])"
            ]
          },
          "metadata": {},
          "execution_count": 7
        }
      ]
    },
    {
      "cell_type": "code",
      "source": [
        "verbose=True\n",
        "n_sims=5000\n",
        "from collections import defaultdict\n",
        "\n",
        "def simulate_activity(n_sims,dict_specifications,verbose=False):\n",
        "\n",
        "  avg_reward=0\n",
        "  if verbose:\n",
        "    dict_store=defaultdict(float)\n",
        "\n",
        "  for sim in range(n_sims):\n",
        "    temp_reward=estimate_reward(\n",
        "        *list(dict_specifications.values())\n",
        "    )\n",
        "    reward_tillSim=avg_reward*(max(sim,0))\n",
        "    rewardSum=reward_tillSim+temp_reward\n",
        "\n",
        "    avg_reward=rewardSum/(sim+1)\n",
        "\n",
        "    if verbose:\n",
        "      dict_store[sim]=temp_reward\n",
        "  if verbose:\n",
        "    return(avg_reward,dict_store)\n",
        "  return avg_reward\n",
        "# simulate_activity(5,dict_strategies['A'])"
      ],
      "metadata": {
        "id": "s2afol-qajjD"
      },
      "execution_count": null,
      "outputs": []
    },
    {
      "cell_type": "code",
      "source": [
        "for k,val in dict_strategies.items():\n",
        "  strategy_simulated_award=simulate_activity(5000,\n",
        "                                             val\n",
        "                                             )\n",
        "  \n",
        "  dict_strategies[k]['strategy_simulated_award']=strategy_simulated_award\n",
        "  print(k,strategy_simulated_award,sep='-->')\n"
      ],
      "metadata": {
        "colab": {
          "base_uri": "https://localhost:8080/"
        },
        "id": "TqLUju6CcI3M",
        "outputId": "8cea9129-6934-496c-fc1e-be24149ef12e"
      },
      "execution_count": null,
      "outputs": [
        {
          "output_type": "stream",
          "name": "stdout",
          "text": [
            "A-->1697.6769464243516\n",
            "B-->1799.6646176518805\n",
            "C-->1782.5031650796204\n",
            "D-->1786.671183317738\n",
            "E-->1750.6939705320117\n"
          ]
        }
      ]
    },
    {
      "cell_type": "code",
      "source": [
        "# for k,val in dict_strategies.items():\n",
        "#   strategy_simulated_award=simulate_activity(5000,\n",
        "#                                              val\n",
        "#                                              )\n",
        "  \n",
        "#   dict_strategies[k]['strategy_simulated_award']=strategy_simulated_award\n",
        "#   print(k,strategy_simulated_award,sep='-->')\n"
      ],
      "metadata": {
        "id": "NaAHJQi5dwGs"
      },
      "execution_count": null,
      "outputs": []
    },
    {
      "cell_type": "code",
      "source": [
        "for k,val in dict_strategies.items():\n",
        "  strategy_simulated_award,strategy_dict_scores=simulate_activity(5000,\n",
        "                                             val,verbose=True\n",
        "                                             )\n",
        "  \n",
        "  dict_strategies[k]['strategy_simulated_award']=strategy_simulated_award\n",
        "  dict_strategies[k]['strategy_dict_scores']=strategy_dict_scores\n",
        "  print(k,strategy_simulated_award,sep='-->')\n"
      ],
      "metadata": {
        "colab": {
          "base_uri": "https://localhost:8080/",
          "height": 372
        },
        "id": "qmOEEeSxfRlm",
        "outputId": "1acdec03-0485-4a0f-dc6d-c6a46106eb65"
      },
      "execution_count": null,
      "outputs": [
        {
          "output_type": "error",
          "ename": "TypeError",
          "evalue": "ignored",
          "traceback": [
            "\u001b[0;31m---------------------------------------------------------------------------\u001b[0m",
            "\u001b[0;31mTypeError\u001b[0m                                 Traceback (most recent call last)",
            "\u001b[0;32m<ipython-input-11-52290136d496>\u001b[0m in \u001b[0;36m<module>\u001b[0;34m()\u001b[0m\n\u001b[1;32m      1\u001b[0m \u001b[0;32mfor\u001b[0m \u001b[0mk\u001b[0m\u001b[0;34m,\u001b[0m\u001b[0mval\u001b[0m \u001b[0;32min\u001b[0m \u001b[0mdict_strategies\u001b[0m\u001b[0;34m.\u001b[0m\u001b[0mitems\u001b[0m\u001b[0;34m(\u001b[0m\u001b[0;34m)\u001b[0m\u001b[0;34m:\u001b[0m\u001b[0;34m\u001b[0m\u001b[0;34m\u001b[0m\u001b[0m\n\u001b[1;32m      2\u001b[0m   strategy_simulated_award,strategy_dict_scores=simulate_activity(5000,\n\u001b[0;32m----> 3\u001b[0;31m                                              \u001b[0mval\u001b[0m\u001b[0;34m,\u001b[0m\u001b[0mverbose\u001b[0m\u001b[0;34m=\u001b[0m\u001b[0;32mTrue\u001b[0m\u001b[0;34m\u001b[0m\u001b[0;34m\u001b[0m\u001b[0m\n\u001b[0m\u001b[1;32m      4\u001b[0m                                              )\n\u001b[1;32m      5\u001b[0m \u001b[0;34m\u001b[0m\u001b[0m\n",
            "\u001b[0;32m<ipython-input-8-d443aea85f06>\u001b[0m in \u001b[0;36msimulate_activity\u001b[0;34m(n_sims, dict_specifications, verbose)\u001b[0m\n\u001b[1;32m     11\u001b[0m   \u001b[0;32mfor\u001b[0m \u001b[0msim\u001b[0m \u001b[0;32min\u001b[0m \u001b[0mrange\u001b[0m\u001b[0;34m(\u001b[0m\u001b[0mn_sims\u001b[0m\u001b[0;34m)\u001b[0m\u001b[0;34m:\u001b[0m\u001b[0;34m\u001b[0m\u001b[0;34m\u001b[0m\u001b[0m\n\u001b[1;32m     12\u001b[0m     temp_reward=estimate_reward(\n\u001b[0;32m---> 13\u001b[0;31m         \u001b[0;34m*\u001b[0m\u001b[0mlist\u001b[0m\u001b[0;34m(\u001b[0m\u001b[0mdict_specifications\u001b[0m\u001b[0;34m.\u001b[0m\u001b[0mvalues\u001b[0m\u001b[0;34m(\u001b[0m\u001b[0;34m)\u001b[0m\u001b[0;34m)\u001b[0m\u001b[0;34m\u001b[0m\u001b[0;34m\u001b[0m\u001b[0m\n\u001b[0m\u001b[1;32m     14\u001b[0m     )\n\u001b[1;32m     15\u001b[0m     \u001b[0mreward_tillSim\u001b[0m\u001b[0;34m=\u001b[0m\u001b[0mavg_reward\u001b[0m\u001b[0;34m*\u001b[0m\u001b[0;34m(\u001b[0m\u001b[0mmax\u001b[0m\u001b[0;34m(\u001b[0m\u001b[0msim\u001b[0m\u001b[0;34m,\u001b[0m\u001b[0;36m0\u001b[0m\u001b[0;34m)\u001b[0m\u001b[0;34m)\u001b[0m\u001b[0;34m\u001b[0m\u001b[0;34m\u001b[0m\u001b[0m\n",
            "\u001b[0;31mTypeError\u001b[0m: estimate_reward() takes from 2 to 4 positional arguments but 5 were given"
          ]
        }
      ]
    },
    {
      "cell_type": "code",
      "source": [
        "# f,ax\n",
        "import pandas as pd\n",
        "pd.concat([pd.Series(dict_strategies[k]['strategy_dict_scores']) for k in dict_strategies.keys()],\n",
        "          axis=1).boxplot(figsize=(20,8))"
      ],
      "metadata": {
        "id": "2Jjl0qxPgeFn"
      },
      "execution_count": null,
      "outputs": []
    },
    {
      "cell_type": "markdown",
      "source": [
        "## Rough WORK"
      ],
      "metadata": {
        "id": "wiSjRShxLxKI"
      }
    },
    {
      "cell_type": "code",
      "source": [
        "lt_ch=[npr.choice(range(n_arms)) for _ in range(1000)]\n",
        "plt.hist(lt_ch)"
      ],
      "metadata": {
        "id": "gtaDF_CMLwDi"
      },
      "execution_count": null,
      "outputs": []
    },
    {
      "cell_type": "code",
      "source": [
        "# lt_reward\n",
        "# estimate_reward(\n",
        "#     *list(dict_strategies['A'].values())\n",
        "#             )"
      ],
      "metadata": {
        "id": "WT6QxnrCLwJz"
      },
      "execution_count": null,
      "outputs": []
    },
    {
      "cell_type": "code",
      "source": [
        "plt.boxplot(list(dict_strategies[k]['strategy_dict_scores'].values()))"
      ],
      "metadata": {
        "id": "lWNqMqABgxx-"
      },
      "execution_count": null,
      "outputs": []
    },
    {
      "cell_type": "markdown",
      "source": [
        "## Reference"
      ],
      "metadata": {
        "id": "v4F3uirSS9Hm"
      }
    },
    {
      "cell_type": "code",
      "source": [
        "# https://docs.python.org/3/library/abc.html"
      ],
      "metadata": {
        "id": "6YuWwOk4S8hU"
      },
      "execution_count": null,
      "outputs": []
    },
    {
      "cell_type": "code",
      "source": [
        ""
      ],
      "metadata": {
        "id": "qBofwHQoS_D2"
      },
      "execution_count": null,
      "outputs": []
    },
    {
      "cell_type": "markdown",
      "source": [
        "# Question 2\n"
      ],
      "metadata": {
        "id": "q8X1ETjiikDd"
      }
    },
    {
      "cell_type": "code",
      "source": [
        "import numpy as np\n",
        "\n",
        "from scipy.optimize import minimize\n",
        "from scipy.interpolate import CubicSpline"
      ],
      "metadata": {
        "id": "VwXCWwgnUgXo"
      },
      "execution_count": null,
      "outputs": []
    },
    {
      "cell_type": "code",
      "source": [
        "price = 1 \n",
        "M=100 \n",
        "delta = 0.9 \n",
        "T=15 \n",
        "\n",
        "sValues = np.arange(M+1) \n",
        "tValues = np.arange(T+1)\n",
        "\n",
        "sN=len(sValues) # how many s and t values are there?\n",
        "tN=len(tValues)\n"
      ],
      "metadata": {
        "id": "85LJjxZJii9t"
      },
      "execution_count": null,
      "outputs": []
    },
    {
      "cell_type": "code",
      "source": [
        "V=np.zeros((sN,tN)) \n",
        "U=np.zeros((sN,tN))"
      ],
      "metadata": {
        "id": "dx3kzozZijCK"
      },
      "execution_count": null,
      "outputs": []
    },
    {
      "cell_type": "code",
      "source": [
        "\n",
        "\n",
        "for ti in reversed(range(tN-1)):\n",
        "  spline_interpolator=CubicSpline(x=np.arange(M+1),\n",
        "                                  y=V[:,ti+1])\n",
        "  print(spline_interpolator(1.5))\n",
        "  for si in range(sN): \n",
        "    t=tValues[ti] \n",
        "    ore_state=sValues[si] \n",
        "    def objective(x):    \n",
        "      return -1*(price*x - (x**2)/(1+ore_state) + delta*spline_interpolator(ore_state-x))\n",
        "\n",
        "    opt=minimize(objective,ore_state/2,\n",
        "          bounds=[(0,ore_state)]) \n",
        "\n",
        "    V[si,ti] = -1*opt.fun[0]\n",
        "    U[si,ti] = opt.x[0]\n"
      ],
      "metadata": {
        "colab": {
          "base_uri": "https://localhost:8080/"
        },
        "id": "eZXDu5e1cci7",
        "outputId": "9ccb14ed-cd00-47b9-d75e-9aa140c51619"
      },
      "execution_count": null,
      "outputs": [
        {
          "output_type": "stream",
          "name": "stdout",
          "text": [
            "0.0\n",
            "0.6364382938682638\n",
            "0.8974556373457556\n",
            "0.9906464258510354\n",
            "1.0277772158892735\n",
            "1.0427039675427703\n",
            "1.0482761602546669\n",
            "1.0499781616887056\n",
            "1.0502152475928916\n",
            "1.0500035788788935\n",
            "1.049731164053017\n",
            "1.049516743940758\n",
            "1.049375825692236\n",
            "1.0492924748360055\n",
            "1.0492468349711426\n"
          ]
        }
      ]
    },
    {
      "cell_type": "code",
      "source": [
        "s=M # at the initial time there are 100 tons of ore\n",
        "for t in range(T):\n",
        "    si=s\n",
        "    print(\"Year: \", t , \", Init Ore: \",s, \", Mine: \", U[si,t],sep='')\n",
        "    s=int(s-U[si,t]) # remove this amount from the mine\n"
      ],
      "metadata": {
        "colab": {
          "base_uri": "https://localhost:8080/"
        },
        "id": "MsEoAgkAgV5H",
        "outputId": "66ba1c34-169b-4cf4-b1ad-16d36e4cc871"
      },
      "execution_count": null,
      "outputs": [
        {
          "output_type": "stream",
          "name": "stdout",
          "text": [
            "Year: 0, Init Ore: 100, Mine: 24.30773764397713\n",
            "Year: 1, Init Ore: 75, Mine: 18.304956878770227\n",
            "Year: 2, Init Ore: 56, Mine: 13.743477658003783\n",
            "Year: 3, Init Ore: 42, Mine: 10.384399708527658\n",
            "Year: 4, Init Ore: 31, Mine: 7.744190567901369\n",
            "Year: 5, Init Ore: 23, Mine: 5.826333529362794\n",
            "Year: 6, Init Ore: 17, Mine: 4.389416847908784\n",
            "Year: 7, Init Ore: 12, Mine: 3.184656457422294\n",
            "Year: 8, Init Ore: 8, Mine: 2.209737698369163\n",
            "Year: 9, Init Ore: 5, Mine: 1.4643975984514257\n",
            "Year: 10, Init Ore: 3, Mine: 0.9570863335748457\n",
            "Year: 11, Init Ore: 2, Mine: 0.7093138807080316\n",
            "Year: 12, Init Ore: 1, Mine: 0.43517411995252464\n",
            "Year: 13, Init Ore: 0, Mine: 0.0\n",
            "Year: 14, Init Ore: 0, Mine: 0.0\n"
          ]
        }
      ]
    },
    {
      "cell_type": "code",
      "source": [
        "V[M,0]-58.113941952344646"
      ],
      "metadata": {
        "colab": {
          "base_uri": "https://localhost:8080/"
        },
        "id": "s-In8SDEemm7",
        "outputId": "119a48a7-28c2-4454-e942-7ef315b1bca2"
      },
      "execution_count": null,
      "outputs": [
        {
          "output_type": "execute_result",
          "data": {
            "text/plain": [
              "0.043821225242872686"
            ]
          },
          "metadata": {},
          "execution_count": 69
        }
      ]
    },
    {
      "cell_type": "markdown",
      "source": [
        "# Rough WORK"
      ],
      "metadata": {
        "id": "pRnLfsswVmHL"
      }
    },
    {
      "cell_type": "code",
      "source": [
        "spline_interpolator=CubicSpline([1,2,3],[10,20,30])\n",
        "spline_interpolator(1.5)"
      ],
      "metadata": {
        "id": "BsR6bOa0ijHS",
        "colab": {
          "base_uri": "https://localhost:8080/"
        },
        "outputId": "e8e67d73-6b0e-42cf-be42-687a45701347"
      },
      "execution_count": null,
      "outputs": [
        {
          "output_type": "execute_result",
          "data": {
            "text/plain": [
              "array(15.)"
            ]
          },
          "metadata": {},
          "execution_count": 5
        }
      ]
    },
    {
      "cell_type": "code",
      "source": [
        "np.arange(t)*t\n",
        "spline_iterpolator=CubicSpline(np.arange(t),np.arange(t)+t)\n",
        "spline_iterpolator(1.5)"
      ],
      "metadata": {
        "colab": {
          "base_uri": "https://localhost:8080/"
        },
        "id": "bUvRxWnJatMO",
        "outputId": "b92587f1-ea04-48bc-d8b1-9638f38304eb"
      },
      "execution_count": null,
      "outputs": [
        {
          "output_type": "execute_result",
          "data": {
            "text/plain": [
              "array(10.5)"
            ]
          },
          "metadata": {},
          "execution_count": 32
        }
      ]
    },
    {
      "cell_type": "code",
      "source": [
        "ore_state=1\n",
        "time_state=10#This will detremine the interpolator that we intend to use \n",
        "\n",
        "def objective(x):    \n",
        "  return -1*(price*x - (x**2)/(1+ore_state) + delta*spline_iterpolator(ore_state-x))\n",
        "\n",
        "lt_cache=[]\n",
        "\n",
        "for t in range(2,time_state):\n",
        "  spline_iterpolator=CubicSpline(np.arange(t),np.arange(t)+t)\n",
        "  print(spline_iterpolator(1.5))\n",
        "\n",
        "  \n",
        "  opt=minimize(objective,ore_state/2,\n",
        "          bounds=[(0,ore_state)]) \n",
        "  lt_cache.append(opt.x[0])\n",
        "\n"
      ],
      "metadata": {
        "colab": {
          "base_uri": "https://localhost:8080/"
        },
        "id": "9XgY0JmcVom_",
        "outputId": "6f013b26-308b-4144-e74f-34c88979dfd1"
      },
      "execution_count": null,
      "outputs": [
        {
          "output_type": "stream",
          "name": "stdout",
          "text": [
            "3.5\n",
            "4.5\n",
            "5.5\n",
            "6.5\n",
            "7.5\n",
            "8.5\n",
            "9.5\n",
            "10.5\n"
          ]
        }
      ]
    },
    {
      "cell_type": "code",
      "source": [
        "lt_cache"
      ],
      "metadata": {
        "colab": {
          "base_uri": "https://localhost:8080/"
        },
        "id": "ZmoFtW0oZoVt",
        "outputId": "47611bc3-aaf7-4496-bd05-67d0b2abf4cf"
      },
      "execution_count": null,
      "outputs": [
        {
          "output_type": "execute_result",
          "data": {
            "text/plain": [
              "[0.10000001131277259,\n",
              " 0.10000001131277259,\n",
              " 0.10000005572169357,\n",
              " 0.10000005572169357,\n",
              " 0.09999987808600963,\n",
              " 0.0999999669038516,\n",
              " 0.0999999669038516,\n",
              " 0.0999999669038516]"
            ]
          },
          "metadata": {},
          "execution_count": 39
        }
      ]
    },
    {
      "cell_type": "code",
      "source": [
        "-1*opt.fun[0]"
      ],
      "metadata": {
        "colab": {
          "base_uri": "https://localhost:8080/"
        },
        "id": "IPZ2Ku3UZ_fq",
        "outputId": "f90c9c67-7c88-4c25-98e6-4b9952490ee8"
      },
      "execution_count": null,
      "outputs": [
        {
          "output_type": "execute_result",
          "data": {
            "text/plain": [
              "9.005"
            ]
          },
          "metadata": {},
          "execution_count": 43
        }
      ]
    },
    {
      "cell_type": "markdown",
      "source": [
        "# Question 3"
      ],
      "metadata": {
        "id": "RbcmLS1H4nuS"
      }
    },
    {
      "cell_type": "code",
      "source": [
        "import numpy as np\n",
        "import gym\n",
        "import time\n",
        "import tensorflow as tf\n",
        "import matplotlib.pyplot as plt\n",
        "%matplotlib inline"
      ],
      "metadata": {
        "id": "NM1FqyUcdudj"
      },
      "execution_count": null,
      "outputs": []
    },
    {
      "cell_type": "code",
      "source": [
        "from google.colab import drive\n",
        "drive.mount('/content/drive')\n"
      ],
      "metadata": {
        "colab": {
          "base_uri": "https://localhost:8080/"
        },
        "id": "M3CNAx-i4pK0",
        "outputId": "a6e8079a-6e8a-4b91-e1b7-7924e4d367aa"
      },
      "execution_count": null,
      "outputs": [
        {
          "output_type": "stream",
          "name": "stdout",
          "text": [
            "Mounted at /content/drive\n"
          ]
        }
      ]
    },
    {
      "cell_type": "code",
      "source": [
        "!python -m atari_py.import_roms /content/drive/MyDrive/ReinforcementLearning/Roms"
      ],
      "metadata": {
        "colab": {
          "base_uri": "https://localhost:8080/"
        },
        "id": "UQqwX_HL438z",
        "outputId": "95bb2840-2046-447a-f340-ea600b834b09"
      },
      "execution_count": null,
      "outputs": [
        {
          "output_type": "stream",
          "name": "stdout",
          "text": [
            "copying adventure.bin from /content/drive/MyDrive/ReinforcementLearning/Roms/HC ROMS/PAL VERSIONS OF NTSC ORIGINALS/Adventure (1980) (Atari, Warren Robinett) (CX2613, CX2613P) (PAL).bin to /usr/local/lib/python3.7/dist-packages/atari_py/atari_roms/adventure.bin\n",
            "copying pacman.bin from /content/drive/MyDrive/ReinforcementLearning/Roms/HC ROMS/PAL VERSIONS OF NTSC ORIGINALS/Pac-Man (1982) (Atari, Tod Frye) (CX2646) (PAL).bin to /usr/local/lib/python3.7/dist-packages/atari_py/atari_roms/pacman.bin\n",
            "copying keystone_kapers.bin from /content/drive/MyDrive/ReinforcementLearning/Roms/HC ROMS/PAL VERSIONS OF NTSC ORIGINALS/Keystone Kapers - Raueber und Gendarm (1983) (Activision, Garry Kitchen - Ariola) (EAX-025, EAX-025-04I - 711 025-725) (PAL).bin to /usr/local/lib/python3.7/dist-packages/atari_py/atari_roms/keystone_kapers.bin\n",
            "copying king_kong.bin from /content/drive/MyDrive/ReinforcementLearning/Roms/HC ROMS/PAL VERSIONS OF NTSC ORIGINALS/King Kong (1982) (Tigervision - Software Electronics Corporation, Karl T. Olinger - Teldec) (7-001 - 3.60001 VE) (PAL).bin to /usr/local/lib/python3.7/dist-packages/atari_py/atari_roms/king_kong.bin\n",
            "copying laser_gates.bin from /content/drive/MyDrive/ReinforcementLearning/Roms/HC ROMS/PAL VERSIONS OF NTSC ORIGINALS/Laser Gates (AKA Innerspace) (1983) (Imagic, Dan Oliver) (720118-2A, 13208, EIX-007-04I) (PAL).bin to /usr/local/lib/python3.7/dist-packages/atari_py/atari_roms/laser_gates.bin\n",
            "copying sir_lancelot.bin from /content/drive/MyDrive/ReinforcementLearning/Roms/HC ROMS/PAL VERSIONS OF NTSC ORIGINALS/Sir Lancelot (1983) (Xonox - K-Tel Software - Product Guild, Anthony R. Henderson) (99006, 6220) (PAL).bin to /usr/local/lib/python3.7/dist-packages/atari_py/atari_roms/sir_lancelot.bin\n",
            "copying mr_do.bin from /content/drive/MyDrive/ReinforcementLearning/Roms/HC ROMS/PAL VERSIONS OF NTSC ORIGINALS/Mr. Do! (1983) (CBS Electronics - Individeo, Ed English) (4L4478) (PAL).bin to /usr/local/lib/python3.7/dist-packages/atari_py/atari_roms/mr_do.bin\n",
            "copying ms_pacman.bin from /content/drive/MyDrive/ReinforcementLearning/Roms/HC ROMS/BY ALPHABET/H-R/Ms. Pac-Man.bin to /usr/local/lib/python3.7/dist-packages/atari_py/atari_roms/ms_pacman.bin\n",
            "copying kung_fu_master.bin from /content/drive/MyDrive/ReinforcementLearning/Roms/HC ROMS/BY ALPHABET/H-R/Kung-Fu Master.bin to /usr/local/lib/python3.7/dist-packages/atari_py/atari_roms/kung_fu_master.bin\n",
            "copying pitfall.bin from /content/drive/MyDrive/ReinforcementLearning/Roms/HC ROMS/BY ALPHABET/H-R/Pitfall! - Pitfall Harry's Jungle Adventure.bin to /usr/local/lib/python3.7/dist-packages/atari_py/atari_roms/pitfall.bin\n",
            "copying ice_hockey.bin from /content/drive/MyDrive/ReinforcementLearning/Roms/HC ROMS/BY ALPHABET/H-R/Ice Hockey.bin to /usr/local/lib/python3.7/dist-packages/atari_py/atari_roms/ice_hockey.bin\n",
            "copying kaboom.bin from /content/drive/MyDrive/ReinforcementLearning/Roms/HC ROMS/BY ALPHABET/H-R/Kaboom!.bin to /usr/local/lib/python3.7/dist-packages/atari_py/atari_roms/kaboom.bin\n",
            "copying koolaid.bin from /content/drive/MyDrive/ReinforcementLearning/Roms/HC ROMS/BY ALPHABET/H-R/Kool-Aid Man.bin to /usr/local/lib/python3.7/dist-packages/atari_py/atari_roms/koolaid.bin\n",
            "copying robotank.bin from /content/drive/MyDrive/ReinforcementLearning/Roms/HC ROMS/BY ALPHABET/H-R/Robot Tank.bin to /usr/local/lib/python3.7/dist-packages/atari_py/atari_roms/robotank.bin\n",
            "copying hero.bin from /content/drive/MyDrive/ReinforcementLearning/Roms/HC ROMS/BY ALPHABET/H-R/H.E.R.O..bin to /usr/local/lib/python3.7/dist-packages/atari_py/atari_roms/hero.bin\n",
            "copying montezuma_revenge.bin from /content/drive/MyDrive/ReinforcementLearning/Roms/HC ROMS/BY ALPHABET/H-R/Montezuma's Revenge - Featuring Panama Joe.bin to /usr/local/lib/python3.7/dist-packages/atari_py/atari_roms/montezuma_revenge.bin\n",
            "copying krull.bin from /content/drive/MyDrive/ReinforcementLearning/Roms/HC ROMS/BY ALPHABET/H-R/Krull.bin to /usr/local/lib/python3.7/dist-packages/atari_py/atari_roms/krull.bin\n",
            "copying journey_escape.bin from /content/drive/MyDrive/ReinforcementLearning/Roms/HC ROMS/BY ALPHABET/H-R/Journey Escape.bin to /usr/local/lib/python3.7/dist-packages/atari_py/atari_roms/journey_escape.bin\n",
            "copying kangaroo.bin from /content/drive/MyDrive/ReinforcementLearning/Roms/HC ROMS/BY ALPHABET/H-R/Kangaroo.bin to /usr/local/lib/python3.7/dist-packages/atari_py/atari_roms/kangaroo.bin\n",
            "copying name_this_game.bin from /content/drive/MyDrive/ReinforcementLearning/Roms/HC ROMS/BY ALPHABET/H-R/Name This Game.bin to /usr/local/lib/python3.7/dist-packages/atari_py/atari_roms/name_this_game.bin\n",
            "copying private_eye.bin from /content/drive/MyDrive/ReinforcementLearning/Roms/HC ROMS/BY ALPHABET/H-R/Private Eye.bin to /usr/local/lib/python3.7/dist-packages/atari_py/atari_roms/private_eye.bin\n",
            "copying phoenix.bin from /content/drive/MyDrive/ReinforcementLearning/Roms/HC ROMS/BY ALPHABET/H-R/Phoenix.bin to /usr/local/lib/python3.7/dist-packages/atari_py/atari_roms/phoenix.bin\n",
            "copying qbert.bin from /content/drive/MyDrive/ReinforcementLearning/Roms/HC ROMS/BY ALPHABET/H-R/Q-bert.bin to /usr/local/lib/python3.7/dist-packages/atari_py/atari_roms/qbert.bin\n",
            "copying pooyan.bin from /content/drive/MyDrive/ReinforcementLearning/Roms/HC ROMS/BY ALPHABET/H-R/Pooyan.bin to /usr/local/lib/python3.7/dist-packages/atari_py/atari_roms/pooyan.bin\n",
            "copying jamesbond.bin from /content/drive/MyDrive/ReinforcementLearning/Roms/HC ROMS/BY ALPHABET/H-R/James Bond 007.bin to /usr/local/lib/python3.7/dist-packages/atari_py/atari_roms/jamesbond.bin\n",
            "copying lost_luggage.bin from /content/drive/MyDrive/ReinforcementLearning/Roms/HC ROMS/BY ALPHABET/H-R/Lost Luggage [no opening scene].bin to /usr/local/lib/python3.7/dist-packages/atari_py/atari_roms/lost_luggage.bin\n",
            "copying riverraid.bin from /content/drive/MyDrive/ReinforcementLearning/Roms/HC ROMS/BY ALPHABET/H-R/River Raid.bin to /usr/local/lib/python3.7/dist-packages/atari_py/atari_roms/riverraid.bin\n",
            "copying road_runner.bin from patched version of /content/drive/MyDrive/ReinforcementLearning/Roms/HC ROMS/BY ALPHABET/H-R/Road Runner.bin to /usr/local/lib/python3.7/dist-packages/atari_py/atari_roms/road_runner.bin\n",
            "copying up_n_down.bin from /content/drive/MyDrive/ReinforcementLearning/Roms/HC ROMS/BY ALPHABET/S-Z/Up 'n Down.bin to /usr/local/lib/python3.7/dist-packages/atari_py/atari_roms/up_n_down.bin\n",
            "copying skiing.bin from /content/drive/MyDrive/ReinforcementLearning/Roms/HC ROMS/BY ALPHABET/S-Z/Skiing.bin to /usr/local/lib/python3.7/dist-packages/atari_py/atari_roms/skiing.bin\n",
            "copying tennis.bin from /content/drive/MyDrive/ReinforcementLearning/Roms/HC ROMS/BY ALPHABET/S-Z/Tennis.bin to /usr/local/lib/python3.7/dist-packages/atari_py/atari_roms/tennis.bin\n",
            "copying star_gunner.bin from /content/drive/MyDrive/ReinforcementLearning/Roms/HC ROMS/BY ALPHABET/S-Z/Stargunner.bin to /usr/local/lib/python3.7/dist-packages/atari_py/atari_roms/star_gunner.bin\n",
            "copying trondead.bin from /content/drive/MyDrive/ReinforcementLearning/Roms/HC ROMS/BY ALPHABET/S-Z/TRON - Deadly Discs.bin to /usr/local/lib/python3.7/dist-packages/atari_py/atari_roms/trondead.bin\n",
            "copying space_invaders.bin from /content/drive/MyDrive/ReinforcementLearning/Roms/HC ROMS/BY ALPHABET/S-Z/Space Invaders.bin to /usr/local/lib/python3.7/dist-packages/atari_py/atari_roms/space_invaders.bin\n",
            "copying video_pinball.bin from /content/drive/MyDrive/ReinforcementLearning/Roms/HC ROMS/BY ALPHABET/S-Z/Video Pinball - Arcade Pinball.bin to /usr/local/lib/python3.7/dist-packages/atari_py/atari_roms/video_pinball.bin\n",
            "copying surround.bin from /content/drive/MyDrive/ReinforcementLearning/Roms/HC ROMS/BY ALPHABET/S-Z/Surround - Chase.bin to /usr/local/lib/python3.7/dist-packages/atari_py/atari_roms/surround.bin\n",
            "copying solaris.bin from /content/drive/MyDrive/ReinforcementLearning/Roms/HC ROMS/BY ALPHABET/S-Z/Solaris.bin to /usr/local/lib/python3.7/dist-packages/atari_py/atari_roms/solaris.bin\n",
            "copying seaquest.bin from /content/drive/MyDrive/ReinforcementLearning/Roms/HC ROMS/BY ALPHABET/S-Z/Seaquest.bin to /usr/local/lib/python3.7/dist-packages/atari_py/atari_roms/seaquest.bin\n",
            "copying venture.bin from /content/drive/MyDrive/ReinforcementLearning/Roms/HC ROMS/BY ALPHABET/S-Z/Venture.bin to /usr/local/lib/python3.7/dist-packages/atari_py/atari_roms/venture.bin\n",
            "copying yars_revenge.bin from /content/drive/MyDrive/ReinforcementLearning/Roms/HC ROMS/BY ALPHABET/S-Z/Yars' Revenge.bin to /usr/local/lib/python3.7/dist-packages/atari_py/atari_roms/yars_revenge.bin\n",
            "copying tutankham.bin from /content/drive/MyDrive/ReinforcementLearning/Roms/HC ROMS/BY ALPHABET/S-Z/Tutankham.bin to /usr/local/lib/python3.7/dist-packages/atari_py/atari_roms/tutankham.bin\n",
            "copying wizard_of_wor.bin from /content/drive/MyDrive/ReinforcementLearning/Roms/HC ROMS/BY ALPHABET/S-Z/Wizard of Wor.bin to /usr/local/lib/python3.7/dist-packages/atari_py/atari_roms/wizard_of_wor.bin\n",
            "copying zaxxon.bin from /content/drive/MyDrive/ReinforcementLearning/Roms/HC ROMS/BY ALPHABET/S-Z/Zaxxon.bin to /usr/local/lib/python3.7/dist-packages/atari_py/atari_roms/zaxxon.bin\n",
            "copying pong.bin from /content/drive/MyDrive/ReinforcementLearning/Roms/HC ROMS/BY ALPHABET/S-Z/Video Olympics - Pong Sports.bin to /usr/local/lib/python3.7/dist-packages/atari_py/atari_roms/pong.bin\n",
            "copying time_pilot.bin from /content/drive/MyDrive/ReinforcementLearning/Roms/HC ROMS/BY ALPHABET/S-Z/Time Pilot.bin to /usr/local/lib/python3.7/dist-packages/atari_py/atari_roms/time_pilot.bin\n",
            "copying atlantis.bin from /content/drive/MyDrive/ReinforcementLearning/Roms/HC ROMS/BY ALPHABET/A-G/Atlantis.bin to /usr/local/lib/python3.7/dist-packages/atari_py/atari_roms/atlantis.bin\n",
            "copying chopper_command.bin from /content/drive/MyDrive/ReinforcementLearning/Roms/HC ROMS/BY ALPHABET/A-G/Chopper Command.bin to /usr/local/lib/python3.7/dist-packages/atari_py/atari_roms/chopper_command.bin\n",
            "copying breakout.bin from /content/drive/MyDrive/ReinforcementLearning/Roms/HC ROMS/BY ALPHABET/A-G/Breakout - Breakaway IV.bin to /usr/local/lib/python3.7/dist-packages/atari_py/atari_roms/breakout.bin\n",
            "copying boxing.bin from /content/drive/MyDrive/ReinforcementLearning/Roms/HC ROMS/BY ALPHABET/A-G/Boxing.bin to /usr/local/lib/python3.7/dist-packages/atari_py/atari_roms/boxing.bin\n",
            "copying freeway.bin from /content/drive/MyDrive/ReinforcementLearning/Roms/HC ROMS/BY ALPHABET/A-G/Freeway.bin to /usr/local/lib/python3.7/dist-packages/atari_py/atari_roms/freeway.bin\n",
            "copying bank_heist.bin from /content/drive/MyDrive/ReinforcementLearning/Roms/HC ROMS/BY ALPHABET/A-G/Bank Heist.bin to /usr/local/lib/python3.7/dist-packages/atari_py/atari_roms/bank_heist.bin\n",
            "copying demon_attack.bin from /content/drive/MyDrive/ReinforcementLearning/Roms/HC ROMS/BY ALPHABET/A-G/Demon Attack.bin to /usr/local/lib/python3.7/dist-packages/atari_py/atari_roms/demon_attack.bin\n",
            "copying air_raid.bin from /content/drive/MyDrive/ReinforcementLearning/Roms/HC ROMS/BY ALPHABET/A-G/Air Raid (PAL).bin to /usr/local/lib/python3.7/dist-packages/atari_py/atari_roms/air_raid.bin\n",
            "copying amidar.bin from /content/drive/MyDrive/ReinforcementLearning/Roms/HC ROMS/BY ALPHABET/A-G/Amidar.bin to /usr/local/lib/python3.7/dist-packages/atari_py/atari_roms/amidar.bin\n",
            "copying alien.bin from /content/drive/MyDrive/ReinforcementLearning/Roms/HC ROMS/BY ALPHABET/A-G/Alien.bin to /usr/local/lib/python3.7/dist-packages/atari_py/atari_roms/alien.bin\n",
            "copying asteroids.bin from /content/drive/MyDrive/ReinforcementLearning/Roms/HC ROMS/BY ALPHABET/A-G/Asteroids [no copyright].bin to /usr/local/lib/python3.7/dist-packages/atari_py/atari_roms/asteroids.bin\n",
            "copying bowling.bin from /content/drive/MyDrive/ReinforcementLearning/Roms/HC ROMS/BY ALPHABET/A-G/Bowling.bin to /usr/local/lib/python3.7/dist-packages/atari_py/atari_roms/bowling.bin\n",
            "copying berzerk.bin from /content/drive/MyDrive/ReinforcementLearning/Roms/HC ROMS/BY ALPHABET/A-G/Berzerk.bin to /usr/local/lib/python3.7/dist-packages/atari_py/atari_roms/berzerk.bin\n",
            "copying beam_rider.bin from /content/drive/MyDrive/ReinforcementLearning/Roms/HC ROMS/BY ALPHABET/A-G/Beamrider.bin to /usr/local/lib/python3.7/dist-packages/atari_py/atari_roms/beam_rider.bin\n",
            "copying battle_zone.bin from /content/drive/MyDrive/ReinforcementLearning/Roms/HC ROMS/BY ALPHABET/A-G/Battlezone.bin to /usr/local/lib/python3.7/dist-packages/atari_py/atari_roms/battle_zone.bin\n",
            "copying centipede.bin from /content/drive/MyDrive/ReinforcementLearning/Roms/HC ROMS/BY ALPHABET/A-G/Centipede.bin to /usr/local/lib/python3.7/dist-packages/atari_py/atari_roms/centipede.bin\n",
            "copying carnival.bin from /content/drive/MyDrive/ReinforcementLearning/Roms/HC ROMS/BY ALPHABET/A-G/Carnival.bin to /usr/local/lib/python3.7/dist-packages/atari_py/atari_roms/carnival.bin\n",
            "copying crazy_climber.bin from /content/drive/MyDrive/ReinforcementLearning/Roms/HC ROMS/BY ALPHABET/A-G/Crazy Climber.bin to /usr/local/lib/python3.7/dist-packages/atari_py/atari_roms/crazy_climber.bin\n",
            "copying defender.bin from /content/drive/MyDrive/ReinforcementLearning/Roms/HC ROMS/BY ALPHABET/A-G/Defender.bin to /usr/local/lib/python3.7/dist-packages/atari_py/atari_roms/defender.bin\n",
            "copying double_dunk.bin from /content/drive/MyDrive/ReinforcementLearning/Roms/HC ROMS/BY ALPHABET/A-G/Double Dunk.bin to /usr/local/lib/python3.7/dist-packages/atari_py/atari_roms/double_dunk.bin\n",
            "copying donkey_kong.bin from /content/drive/MyDrive/ReinforcementLearning/Roms/HC ROMS/BY ALPHABET/A-G/Donkey Kong.bin to /usr/local/lib/python3.7/dist-packages/atari_py/atari_roms/donkey_kong.bin\n",
            "copying enduro.bin from /content/drive/MyDrive/ReinforcementLearning/Roms/HC ROMS/BY ALPHABET/A-G/Enduro.bin to /usr/local/lib/python3.7/dist-packages/atari_py/atari_roms/enduro.bin\n",
            "copying frogger.bin from /content/drive/MyDrive/ReinforcementLearning/Roms/HC ROMS/BY ALPHABET/A-G/Frogger.bin to /usr/local/lib/python3.7/dist-packages/atari_py/atari_roms/frogger.bin\n",
            "copying fishing_derby.bin from /content/drive/MyDrive/ReinforcementLearning/Roms/HC ROMS/BY ALPHABET/A-G/Fishing Derby.bin to /usr/local/lib/python3.7/dist-packages/atari_py/atari_roms/fishing_derby.bin\n",
            "copying frostbite.bin from /content/drive/MyDrive/ReinforcementLearning/Roms/HC ROMS/BY ALPHABET/A-G/Frostbite.bin to /usr/local/lib/python3.7/dist-packages/atari_py/atari_roms/frostbite.bin\n",
            "copying gopher.bin from /content/drive/MyDrive/ReinforcementLearning/Roms/HC ROMS/BY ALPHABET/A-G/Gopher.bin to /usr/local/lib/python3.7/dist-packages/atari_py/atari_roms/gopher.bin\n",
            "copying gravitar.bin from /content/drive/MyDrive/ReinforcementLearning/Roms/HC ROMS/BY ALPHABET/A-G/Gravitar.bin to /usr/local/lib/python3.7/dist-packages/atari_py/atari_roms/gravitar.bin\n",
            "copying galaxian.bin from /content/drive/MyDrive/ReinforcementLearning/Roms/HC ROMS/BY ALPHABET/A-G/Galaxian.bin to /usr/local/lib/python3.7/dist-packages/atari_py/atari_roms/galaxian.bin\n",
            "copying elevator_action.bin from /content/drive/MyDrive/ReinforcementLearning/Roms/HC ROMS/BY ALPHABET/A-G/Elevator Action (Prototype).bin to /usr/local/lib/python3.7/dist-packages/atari_py/atari_roms/elevator_action.bin\n",
            "copying assault.bin from /content/drive/MyDrive/ReinforcementLearning/Roms/HC ROMS/NTSC VERSIONS OF PAL ORIGINALS/Assault (AKA Sky Alien) (1983) (Bomb - Onbase) (CA281).bin to /usr/local/lib/python3.7/dist-packages/atari_py/atari_roms/assault.bin\n",
            "copying asterix.bin from /content/drive/MyDrive/ReinforcementLearning/Roms/ROMS/Asterix (AKA Taz) (1984) (Atari, Jerome Domurat, Steve Woita) (CX2696).bin to /usr/local/lib/python3.7/dist-packages/atari_py/atari_roms/asterix.bin\n"
          ]
        }
      ]
    },
    {
      "cell_type": "code",
      "source": [
        "env = gym.make(\"Pong-v0\")\n",
        "env.unwrapped.get_action_meanings() "
      ],
      "metadata": {
        "colab": {
          "base_uri": "https://localhost:8080/"
        },
        "id": "giU_13B94-cR",
        "outputId": "821a38cd-68c8-44e3-e265-3148c1b74a27"
      },
      "execution_count": null,
      "outputs": [
        {
          "output_type": "execute_result",
          "data": {
            "text/plain": [
              "['NOOP', 'FIRE', 'RIGHT', 'LEFT', 'RIGHTFIRE', 'LEFTFIRE']"
            ]
          },
          "metadata": {},
          "execution_count": 4
        }
      ]
    },
    {
      "cell_type": "code",
      "source": [
        "raw_pixels = env.reset()\n",
        "raw_pixels.shape"
      ],
      "metadata": {
        "colab": {
          "base_uri": "https://localhost:8080/"
        },
        "id": "hQ73ybks6qjW",
        "outputId": "bf3d25dd-2c17-4967-8188-cd0c80cf21a2"
      },
      "execution_count": null,
      "outputs": [
        {
          "output_type": "execute_result",
          "data": {
            "text/plain": [
              "(210, 160, 3)"
            ]
          },
          "metadata": {},
          "execution_count": 5
        }
      ]
    },
    {
      "cell_type": "code",
      "source": [
        "def prepro(I):\n",
        "  I = I[35:195,:,:].copy() \n",
        "  I = I[::2,::2,0].copy()\n",
        "  # I[I == 144] = 0 \n",
        "  # I[I == 109] = 0 \n",
        "  # I[I != 0] = 1 \n",
        "  return np.array(I.copy())\n",
        "plt.imshow(prepro(raw_pixels))\n"
      ],
      "metadata": {
        "colab": {
          "base_uri": "https://localhost:8080/",
          "height": 286
        },
        "id": "8XYHujhQ63T3",
        "outputId": "814d0b0a-993d-4ee2-d136-193266461f67"
      },
      "execution_count": null,
      "outputs": [
        {
          "output_type": "execute_result",
          "data": {
            "text/plain": [
              "<matplotlib.image.AxesImage at 0x7f3f0ee45a90>"
            ]
          },
          "metadata": {},
          "execution_count": 6
        },
        {
          "output_type": "display_data",
          "data": {
            "text/plain": [
              "<Figure size 432x288 with 1 Axes>"
            ],
            "image/png": "[encoded data removed]"
          },
          "metadata": {
            "needs_background": "light"
          }
        }
      ]
    },
    {
      "cell_type": "code",
      "source": [
        "def prepro(I):\n",
        "  I = I[35:195,:,:].copy() \n",
        "  I = I[::2,::2,0].copy()\n",
        "  I[I == 144] = 0 \n",
        "  I[I == 109] = 0 \n",
        "  I[I != 0] = 1 \n",
        "  return np.array(I.copy())\n",
        "plt.imshow(prepro(raw_pixels))"
      ],
      "metadata": {
        "colab": {
          "base_uri": "https://localhost:8080/",
          "height": 286
        },
        "id": "MU0O42cQ7OT0",
        "outputId": "21ececdf-4008-4f69-d4a9-4a71f052278e"
      },
      "execution_count": null,
      "outputs": [
        {
          "output_type": "execute_result",
          "data": {
            "text/plain": [
              "<matplotlib.image.AxesImage at 0x7f3f0e936610>"
            ]
          },
          "metadata": {},
          "execution_count": 7
        },
        {
          "output_type": "display_data",
          "data": {
            "text/plain": [
              "<Figure size 432x288 with 1 Axes>"
            ],
            "image/png": "[encoded data removed]"
          },
          "metadata": {
            "needs_background": "light"
          }
        }
      ]
    },
    {
      "cell_type": "code",
      "source": [
        "def strategise_action(temp_pixel):\n",
        "  yy,xx=np.where(temp_pixel==1)\n",
        "\n",
        "  idx_ball=np.where((xx<70) & (xx>10))\n",
        "  xx_ball=xx[idx_ball]\n",
        "  yy_ball=yy[idx_ball]\n",
        "\n",
        "  if len(idx_ball)==0:\n",
        "    return 0\n",
        "  \n",
        "  score_ball=np.mean(yy_ball)\n",
        "\n",
        "  idx_paddle=np.where(xx>=70)\n",
        "  xx_paddle=xx[idx_paddle]\n",
        "  yy_paddle=yy[idx_paddle]\n",
        "\n",
        "  score_paddle=np.mean(yy_paddle)\n",
        "\n",
        "  if score_ball>score_paddle:\n",
        "    return 3\n",
        "  elif score_ball<score_paddle:\n",
        "    return 2\n",
        "  else:\n",
        "    return 0\n",
        "# strategise_action(lt_pixels[20])"
      ],
      "metadata": {
        "id": "Dt54TGay8Lmn"
      },
      "execution_count": null,
      "outputs": []
    },
    {
      "cell_type": "code",
      "source": [
        "def cache_reward(env):\n",
        "  slow = True\n",
        "  score = 0\n",
        "  frame_history = []\n",
        "  action_history = []\n",
        "  reward_history = []\n",
        "  done = False # done gets returned from the environment to tell you if this game (first to 21 points) is over\n",
        "  raw_pixels = env.reset()\n",
        "  raw_pixels, reward, done, info = env.step(1)\n",
        "  pixels = prepro(raw_pixels)\n",
        "  while not done:\n",
        "      # action = np.random.choice([0,2,3]) # we'll eventually pick the action from a NN\n",
        "      action=strategise_action(pixels)\n",
        "      raw_pixels, reward, done, info = env.step(action)# Done is stop criterion based here any[score of participant] of difference of score magnitude \n",
        "      frame_history.append(pixels)\n",
        "      action_history.append(action) # these are the action and reward when you saw the last frame\n",
        "      reward_history.append(reward)\n",
        "      pixels = prepro(raw_pixels) # now this is the new frame\n",
        "      score += reward\n",
        "  return reward_history\n",
        "\n",
        "# cache_reward(env)\n",
        "\n",
        "\n",
        "def compute_reward_player(reward_history):\n",
        "  reward_history=np.array(reward_history)\n",
        "  return len(reward_history[reward_history>0])\n",
        "\n",
        "\n"
      ],
      "metadata": {
        "id": "9WuDoLqIF2GY"
      },
      "execution_count": null,
      "outputs": []
    },
    {
      "cell_type": "code",
      "source": [
        "from collections import defaultdict\n",
        "# dict_rewards=defaultdict(int)\n",
        "lt_score=[]\n",
        "for i in range(500):\n",
        "  if i%10==0:\n",
        "    print(i,end='-->')\n",
        "  temp_rewards=cache_reward(env)\n",
        "  temp_score=compute_reward_player(temp_rewards)\n",
        "  lt_score.append(temp_score)"
      ],
      "metadata": {
        "colab": {
          "base_uri": "https://localhost:8080/"
        },
        "id": "T_YsQ9ZPIyt4",
        "outputId": "a7b56a51-c19e-4ba3-9b67-c7a856bc8720"
      },
      "execution_count": null,
      "outputs": [
        {
          "output_type": "stream",
          "name": "stdout",
          "text": [
            "0-->"
          ]
        },
        {
          "output_type": "stream",
          "name": "stderr",
          "text": [
            "/usr/local/lib/python3.7/dist-packages/numpy/core/fromnumeric.py:3441: RuntimeWarning: Mean of empty slice.\n",
            "  out=out, **kwargs)\n",
            "/usr/local/lib/python3.7/dist-packages/numpy/core/_methods.py:189: RuntimeWarning: invalid value encountered in double_scalars\n",
            "  ret = ret.dtype.type(ret / rcount)\n"
          ]
        },
        {
          "output_type": "stream",
          "name": "stdout",
          "text": [
            "10-->20-->30-->40-->50-->60-->70-->80-->90-->100-->110-->120-->130-->140-->150-->160-->170-->180-->190-->200-->210-->220-->230-->240-->250-->260-->270-->280-->290-->300-->310-->320-->330-->340-->350-->360-->370-->380-->390-->400-->410-->420-->430-->440-->450-->460-->470-->480-->490-->"
          ]
        }
      ]
    },
    {
      "cell_type": "code",
      "source": [
        "lt_score\n",
        "print(np.mean(lt_score))\n",
        "plt.plot(lt_score)\n"
      ],
      "metadata": {
        "colab": {
          "base_uri": "https://localhost:8080/",
          "height": 301
        },
        "id": "AHz1MKtYJzyM",
        "outputId": "dcbd9cd6-f22d-4256-e4f6-d2a9bd913581"
      },
      "execution_count": null,
      "outputs": [
        {
          "output_type": "stream",
          "name": "stdout",
          "text": [
            "7.894\n"
          ]
        },
        {
          "output_type": "execute_result",
          "data": {
            "text/plain": [
              "[<matplotlib.lines.Line2D at 0x7f3f0e893610>]"
            ]
          },
          "metadata": {},
          "execution_count": 11
        },
        {
          "output_type": "display_data",
          "data": {
            "text/plain": [
              "<Figure size 432x288 with 1 Axes>"
            ],
            "image/png": "[encoded data removed]"
          },
          "metadata": {
            "needs_background": "light"
          }
        }
      ]
    },
    {
      "cell_type": "code",
      "source": [
        "reward_history=np.array(reward_history)\n",
        "len(reward_history[reward_history>0])"
      ],
      "metadata": {
        "colab": {
          "base_uri": "https://localhost:8080/",
          "height": 189
        },
        "id": "tH0swvtYG7QR",
        "outputId": "545f39d2-9236-4b2d-fa1f-0b40f9a63afa"
      },
      "execution_count": null,
      "outputs": [
        {
          "output_type": "error",
          "ename": "NameError",
          "evalue": "ignored",
          "traceback": [
            "\u001b[0;31m---------------------------------------------------------------------------\u001b[0m",
            "\u001b[0;31mNameError\u001b[0m                                 Traceback (most recent call last)",
            "\u001b[0;32m<ipython-input-12-e4bbdf71f3d8>\u001b[0m in \u001b[0;36m<module>\u001b[0;34m()\u001b[0m\n\u001b[0;32m----> 1\u001b[0;31m \u001b[0mreward_history\u001b[0m\u001b[0;34m=\u001b[0m\u001b[0mnp\u001b[0m\u001b[0;34m.\u001b[0m\u001b[0marray\u001b[0m\u001b[0;34m(\u001b[0m\u001b[0mreward_history\u001b[0m\u001b[0;34m)\u001b[0m\u001b[0;34m\u001b[0m\u001b[0;34m\u001b[0m\u001b[0m\n\u001b[0m\u001b[1;32m      2\u001b[0m \u001b[0mlen\u001b[0m\u001b[0;34m(\u001b[0m\u001b[0mreward_history\u001b[0m\u001b[0;34m[\u001b[0m\u001b[0mreward_history\u001b[0m\u001b[0;34m>\u001b[0m\u001b[0;36m0\u001b[0m\u001b[0;34m]\u001b[0m\u001b[0;34m)\u001b[0m\u001b[0;34m\u001b[0m\u001b[0;34m\u001b[0m\u001b[0m\n",
            "\u001b[0;31mNameError\u001b[0m: name 'reward_history' is not defined"
          ]
        }
      ]
    },
    {
      "cell_type": "markdown",
      "source": [
        "## ROUGH WORK"
      ],
      "metadata": {
        "id": "A673fukUF2zm"
      }
    },
    {
      "cell_type": "code",
      "source": [
        "# it takes roughly 20 frames at the beginning of a game, or after a point is scored for play to resume...\n",
        "# you should probably be careful about this...\n",
        "\n",
        "nf = 0\n",
        "done = False\n",
        "score = 0\n",
        "raw_pixels = env.reset()\n",
        "plt.figure(figsize=(50, 50))\n",
        "why = 1\n",
        "nextf = 0\n",
        "\n",
        "lt_pixels=[]\n",
        "while not done:\n",
        "    nf += 1\n",
        "    action = np.random.choice([0,2,3]) \n",
        "    # action=3#UP 2#DN\n",
        "    raw_pixels, reward, done, info = env.step(action)\n",
        "    pixels = prepro(raw_pixels)\n",
        "    \n",
        "    score += reward\n",
        "    \n",
        "    if reward != 0:\n",
        "      #This is performed becaus ethe screen/game is in off mode for intial few frames\n",
        "      #So the code waits till the first reward/point is scored\n",
        "        nextf = 1\n",
        "    \n",
        "    if (nextf == 1) & (why<26):\n",
        "        plt.subplot(5,5,why )\n",
        "        lt_pixels.append(pixels)\n",
        "        plt.pcolor(pixels);\n",
        "        why += 1\n",
        "        \n",
        "    "
      ],
      "metadata": {
        "colab": {
          "base_uri": "https://localhost:8080/",
          "height": 1000
        },
        "id": "v2M-S98H8M4X",
        "outputId": "20caad28-90bf-4f46-b149-1117b1dcfcdf"
      },
      "execution_count": null,
      "outputs": [
        {
          "output_type": "display_data",
          "data": {
            "text/plain": [
              "<Figure size 3600x3600 with 25 Axes>"
            ],
            "image/png": "[encoded data removed]"
          },
          "metadata": {
            "needs_background": "light"
          }
        }
      ]
    },
    {
      "cell_type": "code",
      "source": [
        "len(lt_pixels)"
      ],
      "metadata": {
        "colab": {
          "base_uri": "https://localhost:8080/"
        },
        "id": "_chaYDyR8OuN",
        "outputId": "986cafc0-6f18-4f37-d32c-b199c6563ebb"
      },
      "execution_count": null,
      "outputs": [
        {
          "output_type": "execute_result",
          "data": {
            "text/plain": [
              "25"
            ]
          },
          "metadata": {},
          "execution_count": 22
        }
      ]
    },
    {
      "cell_type": "code",
      "source": [
        "temp_pixel=lt_pixels[21]\n",
        "plt.figure(figsize=(30,10))\n",
        "plt.imshow(temp_pixel)#Right one is our paddle #Lets deteremine the location of two paddles"
      ],
      "metadata": {
        "colab": {
          "base_uri": "https://localhost:8080/",
          "height": 611
        },
        "id": "N0xlFg1x9NhB",
        "outputId": "3969fde6-91de-4ebc-d82a-4ac09498a2cd"
      },
      "execution_count": null,
      "outputs": [
        {
          "output_type": "execute_result",
          "data": {
            "text/plain": [
              "<matplotlib.image.AxesImage at 0x7f1d2aa34dd0>"
            ]
          },
          "metadata": {},
          "execution_count": 28
        },
        {
          "output_type": "display_data",
          "data": {
            "text/plain": [
              "<Figure size 2160x720 with 1 Axes>"
            ],
            "image/png": "[encoded data removed]"
          },
          "metadata": {
            "needs_background": "light"
          }
        }
      ]
    },
    {
      "cell_type": "code",
      "source": [
        "yy,xx=np.where(temp_pixel==1)\n",
        "\n",
        "idx_ball=np.where((xx<70) & (xx>10))\n",
        "xx_ball=xx[idx_ball]\n",
        "yy_ball=yy[idx_ball]\n",
        "\n",
        "# score_ball=np.mean(temp_pixel[yy_ball,xx_ball])\n",
        "score_ball=np.mean(yy_ball)\n",
        "\n",
        "\n",
        "idx_paddle=np.where(xx>=70)\n",
        "xx_paddle=xx[idx_paddle]\n",
        "yy_paddle=yy[idx_paddle]\n",
        "\n",
        "# score_paddle=np.mean(temp_pixel[yy_paddle,xx_paddle])\n",
        "score_paddle=np.mean(yy_paddle)\n",
        "\n",
        "\n",
        "\n",
        "\n",
        "score_ball,score_paddle"
      ],
      "metadata": {
        "colab": {
          "base_uri": "https://localhost:8080/"
        },
        "id": "80CHmaoU9aoT",
        "outputId": "6b1f0667-c094-4b04-90f5-d6f23b1f840c"
      },
      "execution_count": null,
      "outputs": [
        {
          "output_type": "execute_result",
          "data": {
            "text/plain": [
              "(42.5, 47.5)"
            ]
          },
          "metadata": {},
          "execution_count": 33
        }
      ]
    },
    {
      "cell_type": "code",
      "source": [
        ""
      ],
      "metadata": {
        "id": "alxlCo8BA3ju"
      },
      "execution_count": null,
      "outputs": []
    }
  ]
}