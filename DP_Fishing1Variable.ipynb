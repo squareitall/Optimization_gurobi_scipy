{
  "nbformat": 4,
  "nbformat_minor": 0,
  "metadata": {
    "colab": {
      "name": "DP_Fishing1Variable.ipynb",
      "provenance": []
    },
    "kernelspec": {
      "name": "python3",
      "display_name": "Python 3"
    },
    "language_info": {
      "name": "python"
    }
  },
  "cells": [
    {
      "cell_type": "markdown",
      "source": [
        "I will try to solve a fishing three year problem that is centered around taking a decision whther to go for fishing or not every year\n",
        "\n",
        "Objective is to maximize reward\n",
        "\n",
        "State variables are number of fishes in pond every year\n",
        "\n",
        "I will use the recursive method first to solve this dynamic problem"
      ],
      "metadata": {
        "id": "RvBuZYC24Kw0"
      }
    },
    {
      "cell_type": "code",
      "source": [
        "import numpy as np"
      ],
      "metadata": {
        "id": "hNRvDvga6tiH"
      },
      "execution_count": 3,
      "outputs": []
    },
    {
      "cell_type": "code",
      "execution_count": 23,
      "metadata": {
        "id": "rzJ6NpGI4G1R"
      },
      "outputs": [],
      "source": [
        "#let f_num be number of fishes in the pond\n",
        "\n",
        "#If we go fishing the number of fishes for next year will remain same (that is they will reproduce and attain same number) and we will get a reward of 0.7(70%) of the fish population\n",
        "# If we skip fishing the number of fishes double in size but the reward remains zero\n",
        "\n",
        "# We need to design this option based decision problem plus greedily select the maximum reward till date\n",
        "#Like knapsack we always select for max of the preious two combination\n",
        "#However in knapsack we have two levels of decision making (first constrain based that our wt > wt_object and then whether to include that object or not)\n",
        "\n",
        "#Here we just have to make one decision and thus have two choices to select from\n",
        "\n",
        "\n",
        "#STOP criterion is if we are left with no more years to do fishing\n",
        "total_years=3\n",
        "\n",
        "yr_cache=np.zeros(shape=(2,total_years+1))-1\n",
        "\n",
        "def fishing(f_num,year_left):\n",
        "  # if yr_cache[3-year_left]!=-1:\n",
        "  #   return yr_cache[3-year_left]\n",
        "  if year_left==0:\n",
        "    return 0\n",
        "  #We do fishing this year\n",
        "  reward_choice_1=0.7*f_num +fishing(f_num,year_left-1)\n",
        "  #we do not do fishing\n",
        "  reward_choice_0=0+fishing(2*f_num,year_left-1)\n",
        "  # if reward_choice_1>reward_choice_0:\n",
        "  #   yr_cache[1,3-year_left]=max(reward_choice_1,reward_choice_0)\n",
        "  # else:\n",
        "  #   yr_cache[0,3-year_left]=max(reward_choice_1,reward_choice_0)\n",
        "\n",
        "  # print(yr_cache)\n",
        "  return max(reward_choice_1,reward_choice_0)"
      ]
    },
    {
      "cell_type": "code",
      "source": [
        "fishing(10,3)#Need to learn how to cache this"
      ],
      "metadata": {
        "colab": {
          "base_uri": "https://localhost:8080/"
        },
        "id": "GxRlq7Es5Lei",
        "outputId": "5a45338a-672c-4f67-d3d5-d94f7a7aae69"
      },
      "execution_count": 24,
      "outputs": [
        {
          "output_type": "execute_result",
          "data": {
            "text/plain": [
              "28.0"
            ]
          },
          "metadata": {},
          "execution_count": 24
        }
      ]
    },
    {
      "cell_type": "code",
      "source": [
        "yr_cache"
      ],
      "metadata": {
        "colab": {
          "base_uri": "https://localhost:8080/"
        },
        "id": "bl6tnO6D6-hd",
        "outputId": "97ed450f-98b4-4711-f682-de3c7457e4e9"
      },
      "execution_count": 25,
      "outputs": [
        {
          "output_type": "execute_result",
          "data": {
            "text/plain": [
              "array([[-1., -1., -1., -1.],\n",
              "       [-1., -1., -1., -1.]])"
            ]
          },
          "metadata": {},
          "execution_count": 25
        }
      ]
    },
    {
      "cell_type": "code",
      "source": [
        ""
      ],
      "metadata": {
        "id": "uY1SJAc57BQE"
      },
      "execution_count": null,
      "outputs": []
    }
  ]
}