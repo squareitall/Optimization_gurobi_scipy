{
  "nbformat": 4,
  "nbformat_minor": 0,
  "metadata": {
    "colab": {
      "name": "NewsVendorProblem_WithExtension_LP.ipynb",
      "provenance": []
    },
    "kernelspec": {
      "name": "python3",
      "display_name": "Python 3"
    },
    "language_info": {
      "name": "python"
    }
  },
  "cells": [
    {
      "cell_type": "code",
      "execution_count": 1,
      "metadata": {
        "colab": {
          "base_uri": "https://localhost:8080/"
        },
        "id": "hix9JFQ-yBYA",
        "outputId": "0934ec2b-cfa4-408b-b8a6-c6f953d6532e"
      },
      "outputs": [
        {
          "output_type": "stream",
          "name": "stdout",
          "text": [
            "Collecting gurobipy\n",
            "  Downloading gurobipy-9.5.0-cp37-cp37m-manylinux2014_x86_64.whl (11.5 MB)\n",
            "\u001b[K     |████████████████████████████████| 11.5 MB 3.9 MB/s \n",
            "\u001b[?25hInstalling collected packages: gurobipy\n",
            "Successfully installed gurobipy-9.5.0\n"
          ]
        }
      ],
      "source": [
        "! pip install gurobipy"
      ]
    },
    {
      "cell_type": "code",
      "source": [
        "import numpy as np\n",
        "import pandas as pd\n",
        "import matplotlib.pyplot as plt\n",
        "\n",
        "import gurobipy as gp"
      ],
      "metadata": {
        "id": "d-U1r4JWyM1W"
      },
      "execution_count": 32,
      "outputs": []
    },
    {
      "cell_type": "code",
      "source": [
        "df=pd.read_csv('price_demand_data.csv')"
      ],
      "metadata": {
        "id": "Ks5qqYD6ySgy"
      },
      "execution_count": 3,
      "outputs": []
    },
    {
      "cell_type": "code",
      "source": [
        "from sklearn.linear_model import LinearRegression\n",
        "lr=LinearRegression()\n",
        "\n",
        "lr.fit(df[['price']],df['demand'])\n",
        "b0=lr.intercept_\n",
        "b1=lr.coef_\n",
        "\n",
        "plt.scatter(x=df['demand'],y=df['demand']-lr.predict(df[['price']]))\n",
        "\n",
        "residual_arr=df['demand']-lr.predict(df[['price']])"
      ],
      "metadata": {
        "colab": {
          "base_uri": "https://localhost:8080/",
          "height": 265
        },
        "id": "-_2zto5Uy5dR",
        "outputId": "7db2256d-320e-47f2-8526-4d6f8e37ad52"
      },
      "execution_count": 18,
      "outputs": [
        {
          "output_type": "display_data",
          "data": {
            "image/png": "[encoded data removed]",
            "text/plain": [
              "<Figure size 432x288 with 1 Axes>"
            ]
          },
          "metadata": {
            "needs_background": "light"
          }
        }
      ]
    },
    {
      "cell_type": "code",
      "source": [
        "estimated_demand_atPrice1=(b0+b1*1)+(residual_arr)\n"
      ],
      "metadata": {
        "id": "UxYVU6pcy6DU"
      },
      "execution_count": 22,
      "outputs": []
    },
    {
      "cell_type": "markdown",
      "source": [
        "The profit variable for the objective function is still piece wise in nature with quantity produced and demand based decisions\n",
        "\n",
        "With the introduction of rush hour printing price and the disposal cost only the cost prices of two partitions will change that will influence the profit variable in all the step functions.\n",
        "\n",
        "Suppose we have selling price as p, cost price of printing newspaper is c, Optimal priniting demand is q and demand for each day/instance is di\n",
        "\n",
        "1) When demand is less than the printed amount\n",
        "\n",
        "The newsvendor will have to dispose off the left over quantity at 't' rate\n",
        "This will increase the total cost price of generation\n",
        "\n",
        "**Cost PRICE**\n",
        "\n",
        "c*q+ t*(q-Di)\n",
        "\n",
        "**Selling Price**\n",
        "\n",
        "p*Di\n",
        "\n",
        "**profit**\n",
        "p*Di -c*q -t*(q-Di)\n",
        "\n",
        "\n",
        "2) When the demand is larger than the printed papers (q)\n",
        "Then the newsvendor can use rush hour priniting method priced at g>c to print the defict papers\n",
        "\n",
        "**Cost PRICE**\n",
        "\n",
        "c*q+ g*(Di-q)\n",
        "\n",
        "**Selling Price**\n",
        "\n",
        "p*Di (VEndor will get to sell as many newspaper as demanded\n",
        "\n",
        "**profit**\n",
        "p*Di -c*q- g*(Di-q)\n",
        "\n",
        "\n"
      ],
      "metadata": {
        "id": "p1Rj3RSU097_"
      }
    },
    {
      "cell_type": "code",
      "source": [
        "# Whatever be the optimal print value the profit will remain lower than these two piecewise bounds\n",
        "# We have formulated an equation that connects profit with optimal priniting quantity, this equation takes into consideration associated cost values and tries to estimate profit based on technique ceneterd around step functions\n",
        "\n",
        "# One can try to solve for this optimal print variable by framing a optimization problem around the profit variable.\n",
        "# We will try to maximise profit and from this optimization problem will detremine the decision variable associated with optimal number of prints per day\n",
        "\n",
        "#This optimal value will be our estimate of newpaper demand\n",
        "\n",
        "price = 1.0#Selling Price\n",
        "\n",
        "oridinary_hour_cost = 0.5\n",
        "rush_hour_cost=0.75\n",
        "disposal_cost=0.15\n",
        "\n",
        "#We have 99 sets of demand and thus we will have 99 profit values as decision variables plus one optimal printed quantity related decision variable\n",
        "\n",
        "#Thus total number of variables will be 99+1 =100\n",
        "#And total number of constraints will be 2*99 =198\n"
      ],
      "metadata": {
        "id": "vYxh8r2AzSlq"
      },
      "execution_count": 25,
      "outputs": []
    },
    {
      "cell_type": "code",
      "source": [
        "nd=estimated_demand_atPrice1.shape[0]\n",
        "\n",
        "obj = np.zeros(nd+1)\n",
        "obj[1:] = 1.0/nd\n",
        "lb = np.zeros(nd+1)\n",
        "lb[1:] = -np.inf # quantity printed needs to be non-negative, but profit on a given day could possibly be negative\n",
        "rhs = np.zeros(2*nd)\n",
        "direction = np.array(['<']*(2*nd))\n"
      ],
      "metadata": {
        "id": "7E1QDgDGAa-d"
      },
      "execution_count": 26,
      "outputs": []
    },
    {
      "cell_type": "code",
      "source": [
        "A = np.zeros((2*nd,nd+1))\n",
        "for r in range(nd):\n",
        "  #First series of profit value_stepfunction (Di>q)\n",
        "  A[2*r,[0,r+1]] = [oridinary_hour_cost-rush_hour_cost,1] # location 1 is q, location r+1 is this h\n",
        "  rhs[2*r] = price*estimated_demand_atPrice1[r]-oridinary_hour_cost*estimated_demand_atPrice1[r]\n",
        "\n",
        "  #Second series of profit step function (q>Di)\n",
        "  A[2*r+1,[0,r+1]] = [oridinary_hour_cost+disposal_cost,1]\n",
        "  rhs[2*r+1] =  price*estimated_demand_atPrice1[r]-disposal_cost*estimated_demand_atPrice1[r]"
      ],
      "metadata": {
        "id": "4ZFF4KXW0ufG"
      },
      "execution_count": 27,
      "outputs": []
    },
    {
      "cell_type": "code",
      "source": [
        "spMod = gp.Model()\n",
        "spMod_x = spMod.addMVar(len(obj),lb=lb) # tell the model how many variables there are\n",
        "# must define the variables before adding constraints because variables go into the constraints\n",
        "spMod_con = spMod.addMConstrs(A, spMod_x, direction, rhs) # NAME THE CONSTRAINTS!!! so we can get information about them later!\n",
        "spMod.setMObjective(None,obj,0,sense=gp.GRB.MAXIMIZE) # add the objective to the model...we'll talk about the None and the 0\n",
        "\n",
        "spMod.Params.OutputFlag = 0 # tell gurobi to shut up!!\n",
        "spMod.optimize()\n"
      ],
      "metadata": {
        "colab": {
          "base_uri": "https://localhost:8080/"
        },
        "id": "kf4L0FtNEOYf",
        "outputId": "fd4a8554-745c-4ae1-eb77-3db48155a56e"
      },
      "execution_count": 33,
      "outputs": [
        {
          "output_type": "stream",
          "name": "stdout",
          "text": [
            "Restricted license - for non-production use only - expires 2023-10-25\n"
          ]
        }
      ]
    },
    {
      "cell_type": "code",
      "source": [
        "spMod_x.x[0]"
      ],
      "metadata": {
        "colab": {
          "base_uri": "https://localhost:8080/"
        },
        "id": "Nj7KTlnGEPO4",
        "outputId": "2b3b4cc0-9673-4fd1-933c-1d4925e1150b"
      },
      "execution_count": 34,
      "outputs": [
        {
          "output_type": "execute_result",
          "data": {
            "text/plain": [
              "183.5032031742364"
            ]
          },
          "metadata": {},
          "execution_count": 34
        }
      ]
    },
    {
      "cell_type": "code",
      "source": [
        ""
      ],
      "metadata": {
        "id": "MBlb66N6EiRA"
      },
      "execution_count": null,
      "outputs": []
    }
  ]
}