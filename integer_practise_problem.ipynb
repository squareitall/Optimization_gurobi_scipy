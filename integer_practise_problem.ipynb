{
  "nbformat": 4,
  "nbformat_minor": 0,
  "metadata": {
    "colab": {
      "name": "integer_practise_problem.ipynb",
      "provenance": []
    },
    "kernelspec": {
      "name": "python3",
      "display_name": "Python 3"
    },
    "language_info": {
      "name": "python"
    },
    "accelerator": "GPU"
  },
  "cells": [
    {
      "cell_type": "code",
      "metadata": {
        "colab": {
          "base_uri": "https://localhost:8080/"
        },
        "id": "HQzmbuO-S4qZ",
        "outputId": "6a8f1101-1542-4d80-b8cd-78b6008d38a5"
      },
      "source": [
        "!pip install gurobipy"
      ],
      "execution_count": 1,
      "outputs": [
        {
          "output_type": "stream",
          "name": "stdout",
          "text": [
            "Collecting gurobipy\n",
            "  Downloading gurobipy-9.5.0-cp37-cp37m-manylinux2014_x86_64.whl (11.5 MB)\n",
            "\u001b[K     |████████████████████████████████| 11.5 MB 4.4 MB/s \n",
            "\u001b[?25hInstalling collected packages: gurobipy\n",
            "Successfully installed gurobipy-9.5.0\n"
          ]
        }
      ]
    },
    {
      "cell_type": "code",
      "metadata": {
        "id": "R7mP64iES2c8"
      },
      "source": [
        "import gurobipy as gp\n",
        "import numpy as np"
      ],
      "execution_count": 2,
      "outputs": []
    },
    {
      "cell_type": "code",
      "metadata": {
        "id": "pre-JQUkS7vU"
      },
      "source": [
        "#There are 3+2+2+2 decision variables, we are willing to minimize the cost\n",
        "obj=np.array([50,55,65,5,5,5,7,15,20])\n",
        "\n",
        "#We have figured out 9 associted constraints on 9 decision variables\n",
        "A=np.zeros((9,9))\n",
        "b=np.zeros((9,))\n",
        "sense=np.array(['<']*9)\n",
        "\n",
        "#Order- e1,e2,e3,te1,te2,b1,b2,i1,i2\n",
        "\n",
        "# 1) Horsepower associated\n",
        "A[0,0:5]=[450,600,750,200,150]\n",
        "b[0]=600\n",
        "sense[0]='>'\n",
        "\n",
        "# 2) Turbo engine and primary engines association\n",
        "A[1,[0,3]]=[1,-1]\n",
        "b[1]=0\n",
        "sense[1]='>'\n",
        "\n",
        "# 3) Turbo engine and primary engines association\n",
        "A[2,[1,4]]=[1,-1]\n",
        "b[2]=0\n",
        "sense[2]='>'\n",
        "\n",
        "\n",
        "# 4) Turbo engine and primary engines association\n",
        "A[3,[2,3,4]]=[1,1,1]\n",
        "b[3]=1\n",
        "sense[3]='<'\n",
        "\n",
        "# 5) Primary engine selection\n",
        "A[4,[0,1,2]]=[1,1,1]\n",
        "b[4]=1\n",
        "sense[4]='='\n",
        "\n",
        "# 6) Brakes selection\n",
        "A[5,[5,6]]=[1,1]\n",
        "b[5]=1\n",
        "sense[5]='='\n",
        "\n",
        "# 7) Turbo engines and brakes association \n",
        "A[6,[3,4,6]]=[-1,-1,2]\n",
        "b[6]=0\n",
        "sense[6]='>'\n",
        "\n",
        "\n",
        "# 8) Interior decisions\n",
        "A[7,[7,8]]=[1,1]\n",
        "b[7]=1\n",
        "sense[7]='='\n",
        "\n",
        "# 8) Interior decisions\n",
        "A[8,[2,3,4,7]]=[1,1,1,-1]\n",
        "b[8]=0\n",
        "sense[8]='>'\n"
      ],
      "execution_count": 18,
      "outputs": []
    },
    {
      "cell_type": "code",
      "metadata": {
        "id": "OzPWuM4Oa4Xp"
      },
      "source": [
        "mod = gp.Model()\n",
        "mod_x = mod.addMVar(len(obj),vtype=['B']*len(obj)) # 'C' or 'I' or 'B'\n",
        "mod_con = mod.addMConstrs(A, mod_x, sense, b)\n",
        "mod.setMObjective(None,obj,0,sense=gp.GRB.MINIMIZE)\n",
        "\n",
        "mod.Params.OutputFlag = 0 # tell gurobi to shut up!!\n",
        "mod.optimize()"
      ],
      "execution_count": 20,
      "outputs": []
    },
    {
      "cell_type": "code",
      "metadata": {
        "colab": {
          "base_uri": "https://localhost:8080/"
        },
        "id": "ETHsrSB8bUoz",
        "outputId": "fb2fb39a-846f-41a1-84d0-c358b6024e42"
      },
      "source": [
        "mod_x.x"
      ],
      "execution_count": 21,
      "outputs": [
        {
          "output_type": "execute_result",
          "data": {
            "text/plain": [
              "array([1., 0., 0., 1., 0., 0., 1., 1., 0.])"
            ]
          },
          "metadata": {},
          "execution_count": 21
        }
      ]
    },
    {
      "cell_type": "code",
      "metadata": {
        "colab": {
          "base_uri": "https://localhost:8080/"
        },
        "id": "V6ACeBCibaHM",
        "outputId": "bb19d2c1-8b11-423a-f884-8c85f6c56bdf"
      },
      "source": [
        "mod.objVal"
      ],
      "execution_count": 22,
      "outputs": [
        {
          "output_type": "execute_result",
          "data": {
            "text/plain": [
              "77.0"
            ]
          },
          "metadata": {},
          "execution_count": 22
        }
      ]
    },
    {
      "cell_type": "code",
      "metadata": {
        "colab": {
          "base_uri": "https://localhost:8080/"
        },
        "id": "XOz5jD17UngN",
        "outputId": "b7b2cbdd-5f0a-489a-ba48-52f28b34a682"
      },
      "source": [
        "# # A[[0,1],[2,5]]--> (0,2),(1,5)\n",
        "# # A[np.ix_()]\n",
        "# A[[1],[2,5]]#--> (0,2),(1,5)#broadcasting of indices\n",
        "# A[[1,2,3],[2,5]]#--> Will fail to give results\n",
        "\n",
        "# A[np.ix_([0,1],[2,5])]\n",
        "# A[np.ix_([0,1,2],[2,5])]\n",
        "\n",
        "np.concatenate([A,sense.reshape(-1,1),b.reshape(-1,1)],axis=1)"
      ],
      "execution_count": 16,
      "outputs": [
        {
          "output_type": "execute_result",
          "data": {
            "text/plain": [
              "array([['450.0', '600.0', '750.0', '200.0', '150.0', '0.0', '0.0', '0.0',\n",
              "        '0.0', '>', '600.0'],\n",
              "       ['1.0', '0.0', '0.0', '-1.0', '0.0', '0.0', '0.0', '0.0', '0.0',\n",
              "        '>', '0.0'],\n",
              "       ['0.0', '1.0', '0.0', '0.0', '-1.0', '0.0', '0.0', '0.0', '0.0',\n",
              "        '>', '0.0'],\n",
              "       ['0.0', '0.0', '1.0', '1.0', '1.0', '0.0', '0.0', '0.0', '0.0',\n",
              "        '<', '1.0'],\n",
              "       ['1.0', '1.0', '1.0', '0.0', '0.0', '0.0', '0.0', '0.0', '0.0',\n",
              "        '=', '1.0'],\n",
              "       ['0.0', '0.0', '0.0', '0.0', '0.0', '1.0', '1.0', '0.0', '0.0',\n",
              "        '=', '1.0'],\n",
              "       ['0.0', '0.0', '0.0', '-1.0', '-1.0', '0.0', '2.0', '0.0', '0.0',\n",
              "        '>', '0.0'],\n",
              "       ['0.0', '0.0', '0.0', '0.0', '0.0', '0.0', '0.0', '1.0', '1.0',\n",
              "        '=', '1.0'],\n",
              "       ['0.0', '0.0', '1.0', '1.0', '1.0', '0.0', '0.0', '-1.0', '0.0',\n",
              "        '>', '0.0']], dtype='<U32')"
            ]
          },
          "metadata": {},
          "execution_count": 16
        }
      ]
    },
    {
      "cell_type": "code",
      "metadata": {
        "id": "GWu53l9GUsr4"
      },
      "source": [
        ""
      ],
      "execution_count": null,
      "outputs": []
    }
  ]
}