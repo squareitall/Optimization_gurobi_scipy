{
  "nbformat": 4,
  "nbformat_minor": 0,
  "metadata": {
    "colab": {
      "name": "Opti_HW2.ipynb",
      "provenance": [],
      "collapsed_sections": []
    },
    "kernelspec": {
      "name": "python3",
      "display_name": "Python 3"
    },
    "language_info": {
      "name": "python"
    }
  },
  "cells": [
    {
      "cell_type": "code",
      "source": [
        "! pip install gurobipy"
      ],
      "metadata": {
        "colab": {
          "base_uri": "https://localhost:8080/"
        },
        "id": "zH3ygzytpGnw",
        "outputId": "f76279b8-c7a0-4f14-f7bc-44f6f15b7012"
      },
      "execution_count": null,
      "outputs": [
        {
          "output_type": "stream",
          "name": "stdout",
          "text": [
            "Collecting gurobipy\n",
            "  Downloading gurobipy-9.5.1-cp37-cp37m-manylinux2014_x86_64.whl (11.5 MB)\n",
            "\u001b[K     |████████████████████████████████| 11.5 MB 31.9 MB/s \n",
            "\u001b[?25hInstalling collected packages: gurobipy\n",
            "Successfully installed gurobipy-9.5.1\n"
          ]
        }
      ]
    },
    {
      "cell_type": "code",
      "source": [
        "import numpy as np\n",
        "import gurobipy as gp\n",
        "import pandas as pd"
      ],
      "metadata": {
        "id": "rCBQOlRWpGF0"
      },
      "execution_count": null,
      "outputs": []
    },
    {
      "cell_type": "markdown",
      "source": [
        "# Ans 1"
      ],
      "metadata": {
        "id": "X8XAhgS_MoWo"
      }
    },
    {
      "cell_type": "code",
      "source": [
        "df=pd.read_csv('stocks2019.csv',index_col='X')\n",
        "df.head(3)"
      ],
      "metadata": {
        "colab": {
          "base_uri": "https://localhost:8080/",
          "height": 320
        },
        "id": "Fox-LcRoMoF8",
        "outputId": "fddcd0f5-a636-4168-a82f-4d4f80c0e39e"
      },
      "execution_count": null,
      "outputs": [
        {
          "output_type": "execute_result",
          "data": {
            "text/html": [
              "\n",
              "  <div id=\"df-e5609518-014b-4117-80bc-803e35c2c669\">\n",
              "    <div class=\"colab-df-container\">\n",
              "      <div>\n",
              "<style scoped>\n",
              "    .dataframe tbody tr th:only-of-type {\n",
              "        vertical-align: middle;\n",
              "    }\n",
              "\n",
              "    .dataframe tbody tr th {\n",
              "        vertical-align: top;\n",
              "    }\n",
              "\n",
              "    .dataframe thead th {\n",
              "        text-align: right;\n",
              "    }\n",
              "</style>\n",
              "<table border=\"1\" class=\"dataframe\">\n",
              "  <thead>\n",
              "    <tr style=\"text-align: right;\">\n",
              "      <th></th>\n",
              "      <th>NDX</th>\n",
              "      <th>ATVI</th>\n",
              "      <th>ADBE</th>\n",
              "      <th>AMD</th>\n",
              "      <th>ALXN</th>\n",
              "      <th>ALGN</th>\n",
              "      <th>GOOGL</th>\n",
              "      <th>GOOG</th>\n",
              "      <th>AMZN</th>\n",
              "      <th>AMGN</th>\n",
              "      <th>ADI</th>\n",
              "      <th>ANSS</th>\n",
              "      <th>AAPL</th>\n",
              "      <th>AMAT</th>\n",
              "      <th>ASML</th>\n",
              "      <th>ADSK</th>\n",
              "      <th>ADP</th>\n",
              "      <th>BIDU</th>\n",
              "      <th>BIIB</th>\n",
              "      <th>BMRN</th>\n",
              "      <th>BKNG</th>\n",
              "      <th>AVGO</th>\n",
              "      <th>CDNS</th>\n",
              "      <th>CDW</th>\n",
              "      <th>CERN</th>\n",
              "      <th>CHTR</th>\n",
              "      <th>CHKP</th>\n",
              "      <th>CTAS</th>\n",
              "      <th>CSCO</th>\n",
              "      <th>CTXS</th>\n",
              "      <th>CTSH</th>\n",
              "      <th>CMCSA</th>\n",
              "      <th>CPRT</th>\n",
              "      <th>COST</th>\n",
              "      <th>CSX</th>\n",
              "      <th>DXCM</th>\n",
              "      <th>DOCU</th>\n",
              "      <th>DLTR</th>\n",
              "      <th>EBAY</th>\n",
              "      <th>EA</th>\n",
              "      <th>...</th>\n",
              "      <th>MELI</th>\n",
              "      <th>MCHP</th>\n",
              "      <th>MU</th>\n",
              "      <th>MSFT</th>\n",
              "      <th>MRNA</th>\n",
              "      <th>MDLZ</th>\n",
              "      <th>MNST</th>\n",
              "      <th>NTES</th>\n",
              "      <th>NFLX</th>\n",
              "      <th>NVDA</th>\n",
              "      <th>NXPI</th>\n",
              "      <th>ORLY</th>\n",
              "      <th>PCAR</th>\n",
              "      <th>PAYX</th>\n",
              "      <th>PYPL</th>\n",
              "      <th>PEP</th>\n",
              "      <th>PDD</th>\n",
              "      <th>QCOM</th>\n",
              "      <th>REGN</th>\n",
              "      <th>ROST</th>\n",
              "      <th>SGEN</th>\n",
              "      <th>SIRI</th>\n",
              "      <th>SWKS</th>\n",
              "      <th>SPLK</th>\n",
              "      <th>SBUX</th>\n",
              "      <th>SNPS</th>\n",
              "      <th>TMUS</th>\n",
              "      <th>TTWO</th>\n",
              "      <th>TSLA</th>\n",
              "      <th>TXN</th>\n",
              "      <th>TCOM</th>\n",
              "      <th>ULTA</th>\n",
              "      <th>VRSN</th>\n",
              "      <th>VRSK</th>\n",
              "      <th>VRTX</th>\n",
              "      <th>WBA</th>\n",
              "      <th>WDAY</th>\n",
              "      <th>WDC</th>\n",
              "      <th>XEL</th>\n",
              "      <th>XLNX</th>\n",
              "    </tr>\n",
              "    <tr>\n",
              "      <th>X</th>\n",
              "      <th></th>\n",
              "      <th></th>\n",
              "      <th></th>\n",
              "      <th></th>\n",
              "      <th></th>\n",
              "      <th></th>\n",
              "      <th></th>\n",
              "      <th></th>\n",
              "      <th></th>\n",
              "      <th></th>\n",
              "      <th></th>\n",
              "      <th></th>\n",
              "      <th></th>\n",
              "      <th></th>\n",
              "      <th></th>\n",
              "      <th></th>\n",
              "      <th></th>\n",
              "      <th></th>\n",
              "      <th></th>\n",
              "      <th></th>\n",
              "      <th></th>\n",
              "      <th></th>\n",
              "      <th></th>\n",
              "      <th></th>\n",
              "      <th></th>\n",
              "      <th></th>\n",
              "      <th></th>\n",
              "      <th></th>\n",
              "      <th></th>\n",
              "      <th></th>\n",
              "      <th></th>\n",
              "      <th></th>\n",
              "      <th></th>\n",
              "      <th></th>\n",
              "      <th></th>\n",
              "      <th></th>\n",
              "      <th></th>\n",
              "      <th></th>\n",
              "      <th></th>\n",
              "      <th></th>\n",
              "      <th></th>\n",
              "      <th></th>\n",
              "      <th></th>\n",
              "      <th></th>\n",
              "      <th></th>\n",
              "      <th></th>\n",
              "      <th></th>\n",
              "      <th></th>\n",
              "      <th></th>\n",
              "      <th></th>\n",
              "      <th></th>\n",
              "      <th></th>\n",
              "      <th></th>\n",
              "      <th></th>\n",
              "      <th></th>\n",
              "      <th></th>\n",
              "      <th></th>\n",
              "      <th></th>\n",
              "      <th></th>\n",
              "      <th></th>\n",
              "      <th></th>\n",
              "      <th></th>\n",
              "      <th></th>\n",
              "      <th></th>\n",
              "      <th></th>\n",
              "      <th></th>\n",
              "      <th></th>\n",
              "      <th></th>\n",
              "      <th></th>\n",
              "      <th></th>\n",
              "      <th></th>\n",
              "      <th></th>\n",
              "      <th></th>\n",
              "      <th></th>\n",
              "      <th></th>\n",
              "      <th></th>\n",
              "      <th></th>\n",
              "      <th></th>\n",
              "      <th></th>\n",
              "      <th></th>\n",
              "      <th></th>\n",
              "    </tr>\n",
              "  </thead>\n",
              "  <tbody>\n",
              "    <tr>\n",
              "      <th>2019-01-02</th>\n",
              "      <td>6360.870117</td>\n",
              "      <td>46.350380</td>\n",
              "      <td>224.570007</td>\n",
              "      <td>18.830000</td>\n",
              "      <td>98.050003</td>\n",
              "      <td>202.119995</td>\n",
              "      <td>1054.680054</td>\n",
              "      <td>1045.849976</td>\n",
              "      <td>1539.130005</td>\n",
              "      <td>182.458298</td>\n",
              "      <td>82.851608</td>\n",
              "      <td>143.009995</td>\n",
              "      <td>38.629097</td>\n",
              "      <td>32.536137</td>\n",
              "      <td>153.048553</td>\n",
              "      <td>128.960007</td>\n",
              "      <td>125.159172</td>\n",
              "      <td>162.250000</td>\n",
              "      <td>304.690002</td>\n",
              "      <td>84.959999</td>\n",
              "      <td>1721.699951</td>\n",
              "      <td>235.462082</td>\n",
              "      <td>43.230000</td>\n",
              "      <td>77.528900</td>\n",
              "      <td>51.063816</td>\n",
              "      <td>287.98999</td>\n",
              "      <td>103.500000</td>\n",
              "      <td>165.878006</td>\n",
              "      <td>40.382099</td>\n",
              "      <td>99.968712</td>\n",
              "      <td>61.649429</td>\n",
              "      <td>33.121780</td>\n",
              "      <td>47.680000</td>\n",
              "      <td>201.447266</td>\n",
              "      <td>60.481594</td>\n",
              "      <td>115.180000</td>\n",
              "      <td>40.820000</td>\n",
              "      <td>91.199997</td>\n",
              "      <td>28.105513</td>\n",
              "      <td>80.370003</td>\n",
              "      <td>...</td>\n",
              "      <td>298.010010</td>\n",
              "      <td>69.420082</td>\n",
              "      <td>32.750000</td>\n",
              "      <td>98.860214</td>\n",
              "      <td>15.330000</td>\n",
              "      <td>38.419731</td>\n",
              "      <td>48.759998</td>\n",
              "      <td>44.063419</td>\n",
              "      <td>267.660004</td>\n",
              "      <td>135.506561</td>\n",
              "      <td>73.355392</td>\n",
              "      <td>341.149994</td>\n",
              "      <td>54.536522</td>\n",
              "      <td>61.546516</td>\n",
              "      <td>85.750000</td>\n",
              "      <td>103.860535</td>\n",
              "      <td>22.209999</td>\n",
              "      <td>54.205219</td>\n",
              "      <td>372.440002</td>\n",
              "      <td>82.688972</td>\n",
              "      <td>57.490002</td>\n",
              "      <td>5.816079</td>\n",
              "      <td>65.834534</td>\n",
              "      <td>103.320000</td>\n",
              "      <td>62.150398</td>\n",
              "      <td>84.050003</td>\n",
              "      <td>65.260002</td>\n",
              "      <td>104.010002</td>\n",
              "      <td>62.023998</td>\n",
              "      <td>89.888748</td>\n",
              "      <td>27.590000</td>\n",
              "      <td>247.970001</td>\n",
              "      <td>147.759995</td>\n",
              "      <td>107.364159</td>\n",
              "      <td>164.080002</td>\n",
              "      <td>63.920757</td>\n",
              "      <td>159.740005</td>\n",
              "      <td>36.312473</td>\n",
              "      <td>46.041862</td>\n",
              "      <td>84.600266</td>\n",
              "    </tr>\n",
              "    <tr>\n",
              "      <th>2019-01-03</th>\n",
              "      <td>6147.129883</td>\n",
              "      <td>44.704514</td>\n",
              "      <td>215.699997</td>\n",
              "      <td>17.049999</td>\n",
              "      <td>100.209999</td>\n",
              "      <td>184.779999</td>\n",
              "      <td>1025.469971</td>\n",
              "      <td>1016.059998</td>\n",
              "      <td>1500.280029</td>\n",
              "      <td>179.681961</td>\n",
              "      <td>77.846962</td>\n",
              "      <td>137.639999</td>\n",
              "      <td>34.781353</td>\n",
              "      <td>30.650827</td>\n",
              "      <td>144.607849</td>\n",
              "      <td>121.849998</td>\n",
              "      <td>121.379601</td>\n",
              "      <td>154.710007</td>\n",
              "      <td>307.000000</td>\n",
              "      <td>84.199997</td>\n",
              "      <td>1663.119995</td>\n",
              "      <td>214.517471</td>\n",
              "      <td>41.529999</td>\n",
              "      <td>75.531197</td>\n",
              "      <td>49.911999</td>\n",
              "      <td>287.50000</td>\n",
              "      <td>102.349998</td>\n",
              "      <td>163.223785</td>\n",
              "      <td>38.913486</td>\n",
              "      <td>98.530945</td>\n",
              "      <td>59.704865</td>\n",
              "      <td>33.381977</td>\n",
              "      <td>46.889999</td>\n",
              "      <td>197.177475</td>\n",
              "      <td>59.534588</td>\n",
              "      <td>112.260002</td>\n",
              "      <td>38.830002</td>\n",
              "      <td>90.760002</td>\n",
              "      <td>27.589191</td>\n",
              "      <td>78.709999</td>\n",
              "      <td>...</td>\n",
              "      <td>296.589996</td>\n",
              "      <td>64.526123</td>\n",
              "      <td>31.000000</td>\n",
              "      <td>95.223351</td>\n",
              "      <td>15.500000</td>\n",
              "      <td>38.275265</td>\n",
              "      <td>48.000000</td>\n",
              "      <td>42.367931</td>\n",
              "      <td>271.200012</td>\n",
              "      <td>127.319656</td>\n",
              "      <td>70.363708</td>\n",
              "      <td>346.130005</td>\n",
              "      <td>53.273495</td>\n",
              "      <td>60.506081</td>\n",
              "      <td>82.089996</td>\n",
              "      <td>102.891121</td>\n",
              "      <td>21.520000</td>\n",
              "      <td>52.599842</td>\n",
              "      <td>372.079987</td>\n",
              "      <td>81.998093</td>\n",
              "      <td>56.369999</td>\n",
              "      <td>5.855510</td>\n",
              "      <td>58.820972</td>\n",
              "      <td>100.809998</td>\n",
              "      <td>59.454502</td>\n",
              "      <td>81.110001</td>\n",
              "      <td>65.019997</td>\n",
              "      <td>99.150002</td>\n",
              "      <td>60.071999</td>\n",
              "      <td>84.587738</td>\n",
              "      <td>26.959999</td>\n",
              "      <td>243.360001</td>\n",
              "      <td>142.589996</td>\n",
              "      <td>104.083450</td>\n",
              "      <td>163.729996</td>\n",
              "      <td>63.253742</td>\n",
              "      <td>154.020004</td>\n",
              "      <td>33.835327</td>\n",
              "      <td>45.860447</td>\n",
              "      <td>81.414970</td>\n",
              "    </tr>\n",
              "    <tr>\n",
              "      <th>2019-01-04</th>\n",
              "      <td>6422.669922</td>\n",
              "      <td>46.488358</td>\n",
              "      <td>226.190002</td>\n",
              "      <td>19.000000</td>\n",
              "      <td>106.000000</td>\n",
              "      <td>186.710007</td>\n",
              "      <td>1078.069946</td>\n",
              "      <td>1070.709961</td>\n",
              "      <td>1575.390015</td>\n",
              "      <td>185.824142</td>\n",
              "      <td>79.736969</td>\n",
              "      <td>143.660004</td>\n",
              "      <td>36.266144</td>\n",
              "      <td>32.749928</td>\n",
              "      <td>150.864944</td>\n",
              "      <td>128.279999</td>\n",
              "      <td>126.217102</td>\n",
              "      <td>160.949997</td>\n",
              "      <td>318.329987</td>\n",
              "      <td>87.099998</td>\n",
              "      <td>1717.550049</td>\n",
              "      <td>216.625854</td>\n",
              "      <td>43.259998</td>\n",
              "      <td>76.265640</td>\n",
              "      <td>51.418221</td>\n",
              "      <td>302.73999</td>\n",
              "      <td>105.349998</td>\n",
              "      <td>170.899200</td>\n",
              "      <td>40.666344</td>\n",
              "      <td>100.389267</td>\n",
              "      <td>62.245499</td>\n",
              "      <td>34.509483</td>\n",
              "      <td>48.560001</td>\n",
              "      <td>202.903336</td>\n",
              "      <td>61.301678</td>\n",
              "      <td>116.239998</td>\n",
              "      <td>40.900002</td>\n",
              "      <td>92.889999</td>\n",
              "      <td>28.222414</td>\n",
              "      <td>84.419998</td>\n",
              "      <td>...</td>\n",
              "      <td>315.329987</td>\n",
              "      <td>67.143379</td>\n",
              "      <td>32.700001</td>\n",
              "      <td>99.652115</td>\n",
              "      <td>16.959999</td>\n",
              "      <td>39.334717</td>\n",
              "      <td>49.790001</td>\n",
              "      <td>44.065342</td>\n",
              "      <td>297.570007</td>\n",
              "      <td>135.476715</td>\n",
              "      <td>73.766022</td>\n",
              "      <td>341.820007</td>\n",
              "      <td>55.639317</td>\n",
              "      <td>62.615330</td>\n",
              "      <td>86.269997</td>\n",
              "      <td>105.001030</td>\n",
              "      <td>22.690001</td>\n",
              "      <td>53.449738</td>\n",
              "      <td>397.549988</td>\n",
              "      <td>84.228653</td>\n",
              "      <td>59.540001</td>\n",
              "      <td>6.082238</td>\n",
              "      <td>61.639961</td>\n",
              "      <td>108.040001</td>\n",
              "      <td>61.425697</td>\n",
              "      <td>83.900002</td>\n",
              "      <td>67.489998</td>\n",
              "      <td>101.699997</td>\n",
              "      <td>63.537998</td>\n",
              "      <td>88.413605</td>\n",
              "      <td>28.549999</td>\n",
              "      <td>255.029999</td>\n",
              "      <td>148.970001</td>\n",
              "      <td>108.678413</td>\n",
              "      <td>172.699997</td>\n",
              "      <td>65.358139</td>\n",
              "      <td>163.350006</td>\n",
              "      <td>35.268467</td>\n",
              "      <td>46.309223</td>\n",
              "      <td>85.184715</td>\n",
              "    </tr>\n",
              "  </tbody>\n",
              "</table>\n",
              "<p>3 rows × 101 columns</p>\n",
              "</div>\n",
              "      <button class=\"colab-df-convert\" onclick=\"convertToInteractive('df-e5609518-014b-4117-80bc-803e35c2c669')\"\n",
              "              title=\"Convert this dataframe to an interactive table.\"\n",
              "              style=\"display:none;\">\n",
              "        \n",
              "  <svg xmlns=\"http://www.w3.org/2000/svg\" height=\"24px\"viewBox=\"0 0 24 24\"\n",
              "       width=\"24px\">\n",
              "    <path d=\"M0 0h24v24H0V0z\" fill=\"none\"/>\n",
              "    <path d=\"M18.56 5.44l.94 2.06.94-2.06 2.06-.94-2.06-.94-.94-2.06-.94 2.06-2.06.94zm-11 1L8.5 8.5l.94-2.06 2.06-.94-2.06-.94L8.5 2.5l-.94 2.06-2.06.94zm10 10l.94 2.06.94-2.06 2.06-.94-2.06-.94-.94-2.06-.94 2.06-2.06.94z\"/><path d=\"M17.41 7.96l-1.37-1.37c-.4-.4-.92-.59-1.43-.59-.52 0-1.04.2-1.43.59L10.3 9.45l-7.72 7.72c-.78.78-.78 2.05 0 2.83L4 21.41c.39.39.9.59 1.41.59.51 0 1.02-.2 1.41-.59l7.78-7.78 2.81-2.81c.8-.78.8-2.07 0-2.86zM5.41 20L4 18.59l7.72-7.72 1.47 1.35L5.41 20z\"/>\n",
              "  </svg>\n",
              "      </button>\n",
              "      \n",
              "  <style>\n",
              "    .colab-df-container {\n",
              "      display:flex;\n",
              "      flex-wrap:wrap;\n",
              "      gap: 12px;\n",
              "    }\n",
              "\n",
              "    .colab-df-convert {\n",
              "      background-color: #E8F0FE;\n",
              "      border: none;\n",
              "      border-radius: 50%;\n",
              "      cursor: pointer;\n",
              "      display: none;\n",
              "      fill: #1967D2;\n",
              "      height: 32px;\n",
              "      padding: 0 0 0 0;\n",
              "      width: 32px;\n",
              "    }\n",
              "\n",
              "    .colab-df-convert:hover {\n",
              "      background-color: #E2EBFA;\n",
              "      box-shadow: 0px 1px 2px rgba(60, 64, 67, 0.3), 0px 1px 3px 1px rgba(60, 64, 67, 0.15);\n",
              "      fill: #174EA6;\n",
              "    }\n",
              "\n",
              "    [theme=dark] .colab-df-convert {\n",
              "      background-color: #3B4455;\n",
              "      fill: #D2E3FC;\n",
              "    }\n",
              "\n",
              "    [theme=dark] .colab-df-convert:hover {\n",
              "      background-color: #434B5C;\n",
              "      box-shadow: 0px 1px 3px 1px rgba(0, 0, 0, 0.15);\n",
              "      filter: drop-shadow(0px 1px 2px rgba(0, 0, 0, 0.3));\n",
              "      fill: #FFFFFF;\n",
              "    }\n",
              "  </style>\n",
              "\n",
              "      <script>\n",
              "        const buttonEl =\n",
              "          document.querySelector('#df-e5609518-014b-4117-80bc-803e35c2c669 button.colab-df-convert');\n",
              "        buttonEl.style.display =\n",
              "          google.colab.kernel.accessAllowed ? 'block' : 'none';\n",
              "\n",
              "        async function convertToInteractive(key) {\n",
              "          const element = document.querySelector('#df-e5609518-014b-4117-80bc-803e35c2c669');\n",
              "          const dataTable =\n",
              "            await google.colab.kernel.invokeFunction('convertToInteractive',\n",
              "                                                     [key], {});\n",
              "          if (!dataTable) return;\n",
              "\n",
              "          const docLinkHtml = 'Like what you see? Visit the ' +\n",
              "            '<a target=\"_blank\" href=https://colab.research.google.com/notebooks/data_table.ipynb>data table notebook</a>'\n",
              "            + ' to learn more about interactive tables.';\n",
              "          element.innerHTML = '';\n",
              "          dataTable['output_type'] = 'display_data';\n",
              "          await google.colab.output.renderOutput(dataTable, element);\n",
              "          const docLink = document.createElement('div');\n",
              "          docLink.innerHTML = docLinkHtml;\n",
              "          element.appendChild(docLink);\n",
              "        }\n",
              "      </script>\n",
              "    </div>\n",
              "  </div>\n",
              "  "
            ],
            "text/plain": [
              "                    NDX       ATVI        ADBE  ...        WDC        XEL       XLNX\n",
              "X                                               ...                                 \n",
              "2019-01-02  6360.870117  46.350380  224.570007  ...  36.312473  46.041862  84.600266\n",
              "2019-01-03  6147.129883  44.704514  215.699997  ...  33.835327  45.860447  81.414970\n",
              "2019-01-04  6422.669922  46.488358  226.190002  ...  35.268467  46.309223  85.184715\n",
              "\n",
              "[3 rows x 101 columns]"
            ]
          },
          "metadata": {},
          "execution_count": 4
        }
      ]
    },
    {
      "cell_type": "code",
      "source": [
        "df=pd.read_csv('stocks2019.csv',index_col='X')\n",
        "df=df.pct_change(1)\n",
        "df=df.dropna()\n",
        "\n",
        "\n",
        "exp_ret=df.mean().values\n",
        "\n",
        "\n",
        "ret_dayWise=df.values\n",
        "\n",
        "ret_dayWise.shape\n",
        "\n",
        "# We need to optimize weights such that the return on stocks is maximized\n",
        "# the coefficient of weights are the respective previous expected values of returns of stock\n",
        "\n",
        "# We need to assure that the number of negative returns must be less than 100\n",
        "# We need to bind this constraint with every day return \n",
        "#We can use concepts of Big M to perform thsi \n",
        "\n",
        "#Lets say for each day we have a binary variable, the variable shoots/triggers when the return is neagtive, else remains flat\n",
        "# The summated return across all stocks for each day can be bounded by this binary \n",
        "\n",
        "# sum_day >0 if binary==0; sum_day is allowed to go below zero but can be positive too if binary is 1\n",
        "# **LEARNING --> sum_day > -inf if binary is 1 or sum_day > -M\n",
        "\n",
        "# Thus we can introduce concept of big M and bind these two conditions together \n",
        "# sum_day >= -M*binary\n",
        "\n",
        "\n"
      ],
      "metadata": {
        "colab": {
          "base_uri": "https://localhost:8080/"
        },
        "id": "vsf91pnWjnwU",
        "outputId": "9d538188-ec30-4e6b-ce52-0d6fe7b9960e"
      },
      "execution_count": null,
      "outputs": [
        {
          "output_type": "execute_result",
          "data": {
            "text/plain": [
              "(250, 101)"
            ]
          },
          "metadata": {},
          "execution_count": 15
        }
      ]
    },
    {
      "cell_type": "code",
      "source": [
        "obj= np.ones(shape=(exp_ret.shape[0]+ret_dayWise.shape[0],))\n",
        "obj[:exp_ret.shape[0]]=exp_ret\n",
        "obj[exp_ret.shape[0]:]=0\n",
        "\n",
        "# We will have 250 that is number of days based binding constraints then, one contraint summing the weights as 1, and another constraint that contricts maximum number of negative return days as 100\n",
        "# Number of decision variables will be number of stocks plus one binary indicator variable for each day\n",
        "\n",
        "numNeg_returnDays=100\n",
        "\n",
        "M=10\n",
        "\n",
        "A=np.zeros(shape=(ret_dayWise.shape[0]+2,exp_ret.shape[0]+ret_dayWise.shape[0]))\n",
        "b=np.zeros(shape=(ret_dayWise.shape[0]+2))\n",
        "\n",
        "sense=np.array(['']*(ret_dayWise.shape[0]+2))\n",
        "\n",
        "\n",
        "A[:ret_dayWise.shape[0],:exp_ret.shape[0]]=ret_dayWise\n",
        "\n",
        "for c in  range(ret_dayWise.shape[0]):\n",
        "  A[c,exp_ret.shape[0]+c]=M\n",
        "  sense[c]='>'\n",
        "\n",
        "A[ret_dayWise.shape[0],:exp_ret.shape[0]]=np.ones(exp_ret.shape[0])\n",
        "b[ret_dayWise.shape[0]]=1\n",
        "sense[ret_dayWise.shape[0]]='='\n",
        "\n",
        "\n",
        "A[ret_dayWise.shape[0]+1,exp_ret.shape[0]:]=np.ones(ret_dayWise.shape[0])\n",
        "b[ret_dayWise.shape[0]+1]=numNeg_returnDays\n",
        "sense[ret_dayWise.shape[0]+1]='<'\n",
        "\n",
        "# A,b"
      ],
      "metadata": {
        "id": "TtPz5WbIMl4Y"
      },
      "execution_count": null,
      "outputs": []
    },
    {
      "cell_type": "code",
      "source": [
        "spMod = gp.Model()\n",
        "spMod_x = spMod.addMVar(len(obj),vtype=['C']*(exp_ret.shape[0]) +['B']*(ret_dayWise.shape[0])) # tell the model how many variables there are\n",
        "# must define the variables before adding constraints because variables go into the constraints\n",
        "spMod_con = spMod.addMConstrs(A, spMod_x, sense, b) # NAME THE CONSTRAINTS!!! so we can get information about them later!\n",
        "spMod.setMObjective(None,obj,0,sense=gp.GRB.MAXIMIZE) # add the objective to the model...we'll talk about the None and the 0\n",
        "\n",
        "spMod.Params.OutputFlag = 0 # tell gurobi to shut up!!\n",
        "spMod.optimize()\n"
      ],
      "metadata": {
        "id": "UI5IXLAMKGhM"
      },
      "execution_count": null,
      "outputs": []
    },
    {
      "cell_type": "code",
      "source": [
        "np.round(spMod_x.x[:exp_ret.shape[0]],2)\n",
        "np.sum(spMod_x.x[exp_ret.shape[0]:])\n",
        "\n",
        "optimal_wts=spMod_x.x[:exp_ret.shape[0]]\n"
      ],
      "metadata": {
        "id": "CHsozMwDTosq"
      },
      "execution_count": null,
      "outputs": []
    },
    {
      "cell_type": "code",
      "source": [
        "df=pd.read_csv('stocks2020-1.csv')#,index_col='Unamed: 0')\n",
        "df.columns=['X'] +list(df.columns[1:])\n",
        "df=df.set_index(['X'],drop=True)\n",
        "df.head(3)\n",
        "\n",
        "ret_twotwo=df.pct_change(1).dropna().values\n",
        "((ret_twotwo@optimal_wts)<0).sum()"
      ],
      "metadata": {
        "colab": {
          "base_uri": "https://localhost:8080/"
        },
        "id": "8JMUK7EKMn97",
        "outputId": "83939119-3db8-49e0-8760-d6406aaeba03"
      },
      "execution_count": null,
      "outputs": [
        {
          "output_type": "execute_result",
          "data": {
            "text/plain": [
              "115"
            ]
          },
          "metadata": {},
          "execution_count": 68
        }
      ]
    },
    {
      "cell_type": "markdown",
      "source": [
        "# Ans 2"
      ],
      "metadata": {
        "id": "7OiHQgWUMlLD"
      }
    },
    {
      "cell_type": "code",
      "source": [
        "df=pd.read_csv('hw2_demand.csv')\n",
        "demand_values=df.values\n",
        "df.head()\n"
      ],
      "metadata": {
        "colab": {
          "base_uri": "https://localhost:8080/",
          "height": 206
        },
        "id": "BJXD8ge4pGC7",
        "outputId": "9b44184b-7369-4c2b-b664-9d65151978d5"
      },
      "execution_count": null,
      "outputs": [
        {
          "output_type": "execute_result",
          "data": {
            "text/html": [
              "\n",
              "  <div id=\"df-da9da584-ffa8-427f-a122-86dc9e9031d0\">\n",
              "    <div class=\"colab-df-container\">\n",
              "      <div>\n",
              "<style scoped>\n",
              "    .dataframe tbody tr th:only-of-type {\n",
              "        vertical-align: middle;\n",
              "    }\n",
              "\n",
              "    .dataframe tbody tr th {\n",
              "        vertical-align: top;\n",
              "    }\n",
              "\n",
              "    .dataframe thead th {\n",
              "        text-align: right;\n",
              "    }\n",
              "</style>\n",
              "<table border=\"1\" class=\"dataframe\">\n",
              "  <thead>\n",
              "    <tr style=\"text-align: right;\">\n",
              "      <th></th>\n",
              "      <th>X1</th>\n",
              "      <th>X2</th>\n",
              "      <th>X3</th>\n",
              "      <th>X4</th>\n",
              "      <th>X5</th>\n",
              "    </tr>\n",
              "  </thead>\n",
              "  <tbody>\n",
              "    <tr>\n",
              "      <th>0</th>\n",
              "      <td>19</td>\n",
              "      <td>1358</td>\n",
              "      <td>95</td>\n",
              "      <td>65</td>\n",
              "      <td>4994</td>\n",
              "    </tr>\n",
              "    <tr>\n",
              "      <th>1</th>\n",
              "      <td>31</td>\n",
              "      <td>734</td>\n",
              "      <td>153</td>\n",
              "      <td>106</td>\n",
              "      <td>1711</td>\n",
              "    </tr>\n",
              "    <tr>\n",
              "      <th>2</th>\n",
              "      <td>45</td>\n",
              "      <td>732</td>\n",
              "      <td>198</td>\n",
              "      <td>348</td>\n",
              "      <td>205</td>\n",
              "    </tr>\n",
              "    <tr>\n",
              "      <th>3</th>\n",
              "      <td>1</td>\n",
              "      <td>57</td>\n",
              "      <td>64</td>\n",
              "      <td>89</td>\n",
              "      <td>278</td>\n",
              "    </tr>\n",
              "    <tr>\n",
              "      <th>4</th>\n",
              "      <td>180</td>\n",
              "      <td>316</td>\n",
              "      <td>277</td>\n",
              "      <td>176</td>\n",
              "      <td>46</td>\n",
              "    </tr>\n",
              "  </tbody>\n",
              "</table>\n",
              "</div>\n",
              "      <button class=\"colab-df-convert\" onclick=\"convertToInteractive('df-da9da584-ffa8-427f-a122-86dc9e9031d0')\"\n",
              "              title=\"Convert this dataframe to an interactive table.\"\n",
              "              style=\"display:none;\">\n",
              "        \n",
              "  <svg xmlns=\"http://www.w3.org/2000/svg\" height=\"24px\"viewBox=\"0 0 24 24\"\n",
              "       width=\"24px\">\n",
              "    <path d=\"M0 0h24v24H0V0z\" fill=\"none\"/>\n",
              "    <path d=\"M18.56 5.44l.94 2.06.94-2.06 2.06-.94-2.06-.94-.94-2.06-.94 2.06-2.06.94zm-11 1L8.5 8.5l.94-2.06 2.06-.94-2.06-.94L8.5 2.5l-.94 2.06-2.06.94zm10 10l.94 2.06.94-2.06 2.06-.94-2.06-.94-.94-2.06-.94 2.06-2.06.94z\"/><path d=\"M17.41 7.96l-1.37-1.37c-.4-.4-.92-.59-1.43-.59-.52 0-1.04.2-1.43.59L10.3 9.45l-7.72 7.72c-.78.78-.78 2.05 0 2.83L4 21.41c.39.39.9.59 1.41.59.51 0 1.02-.2 1.41-.59l7.78-7.78 2.81-2.81c.8-.78.8-2.07 0-2.86zM5.41 20L4 18.59l7.72-7.72 1.47 1.35L5.41 20z\"/>\n",
              "  </svg>\n",
              "      </button>\n",
              "      \n",
              "  <style>\n",
              "    .colab-df-container {\n",
              "      display:flex;\n",
              "      flex-wrap:wrap;\n",
              "      gap: 12px;\n",
              "    }\n",
              "\n",
              "    .colab-df-convert {\n",
              "      background-color: #E8F0FE;\n",
              "      border: none;\n",
              "      border-radius: 50%;\n",
              "      cursor: pointer;\n",
              "      display: none;\n",
              "      fill: #1967D2;\n",
              "      height: 32px;\n",
              "      padding: 0 0 0 0;\n",
              "      width: 32px;\n",
              "    }\n",
              "\n",
              "    .colab-df-convert:hover {\n",
              "      background-color: #E2EBFA;\n",
              "      box-shadow: 0px 1px 2px rgba(60, 64, 67, 0.3), 0px 1px 3px 1px rgba(60, 64, 67, 0.15);\n",
              "      fill: #174EA6;\n",
              "    }\n",
              "\n",
              "    [theme=dark] .colab-df-convert {\n",
              "      background-color: #3B4455;\n",
              "      fill: #D2E3FC;\n",
              "    }\n",
              "\n",
              "    [theme=dark] .colab-df-convert:hover {\n",
              "      background-color: #434B5C;\n",
              "      box-shadow: 0px 1px 3px 1px rgba(0, 0, 0, 0.15);\n",
              "      filter: drop-shadow(0px 1px 2px rgba(0, 0, 0, 0.3));\n",
              "      fill: #FFFFFF;\n",
              "    }\n",
              "  </style>\n",
              "\n",
              "      <script>\n",
              "        const buttonEl =\n",
              "          document.querySelector('#df-da9da584-ffa8-427f-a122-86dc9e9031d0 button.colab-df-convert');\n",
              "        buttonEl.style.display =\n",
              "          google.colab.kernel.accessAllowed ? 'block' : 'none';\n",
              "\n",
              "        async function convertToInteractive(key) {\n",
              "          const element = document.querySelector('#df-da9da584-ffa8-427f-a122-86dc9e9031d0');\n",
              "          const dataTable =\n",
              "            await google.colab.kernel.invokeFunction('convertToInteractive',\n",
              "                                                     [key], {});\n",
              "          if (!dataTable) return;\n",
              "\n",
              "          const docLinkHtml = 'Like what you see? Visit the ' +\n",
              "            '<a target=\"_blank\" href=https://colab.research.google.com/notebooks/data_table.ipynb>data table notebook</a>'\n",
              "            + ' to learn more about interactive tables.';\n",
              "          element.innerHTML = '';\n",
              "          dataTable['output_type'] = 'display_data';\n",
              "          await google.colab.output.renderOutput(dataTable, element);\n",
              "          const docLink = document.createElement('div');\n",
              "          docLink.innerHTML = docLinkHtml;\n",
              "          element.appendChild(docLink);\n",
              "        }\n",
              "      </script>\n",
              "    </div>\n",
              "  </div>\n",
              "  "
            ],
            "text/plain": [
              "    X1    X2   X3   X4    X5\n",
              "0   19  1358   95   65  4994\n",
              "1   31   734  153  106  1711\n",
              "2   45   732  198  348   205\n",
              "3    1    57   64   89   278\n",
              "4  180   316  277  176    46"
            ]
          },
          "metadata": {},
          "execution_count": 3
        }
      ]
    },
    {
      "cell_type": "code",
      "source": [
        "n_h_vars=demand_values.ravel().shape[0]\n",
        "n_days=df.shape[0]\n"
      ],
      "metadata": {
        "id": "keTOOimrvwCN"
      },
      "execution_count": null,
      "outputs": []
    },
    {
      "cell_type": "markdown",
      "source": [
        "We will have 5 sets of printing based decision variables additionally we will have 5 sets of profits for each day\n",
        "Thus in totatlity we will have 5 +5*50 decision variables that we can run our optimization on\n",
        "\n",
        "\n",
        "Previosuly we have solved problem for 1 news vendor \n",
        "We can use the same desin flow with a 5 unit based slider to solve this 5 newsvendor problem\n",
        "\n",
        "Let five newspapers be A,B,C,D and E\n",
        "I propose \n",
        "\"\"\"\n",
        "h1A, h1B,h1C,h1D,h1E\n",
        "h2A,h2B....\n",
        "\n",
        "\n",
        "\n",
        "h100A,h100B,h100C,h100D,h100E\n",
        "qa,qb,qc,qd,qe\n",
        "\"\"\"\n",
        "\n",
        "\n",
        "\n",
        "The number of days will change from 25 to 50 \n",
        "Also 5 consecutive variables will be updated each time\n"
      ],
      "metadata": {
        "id": "J2i0kge3t6Hz"
      }
    },
    {
      "cell_type": "markdown",
      "source": [
        "# Formulation of objective"
      ],
      "metadata": {
        "id": "mGx7UN2axSL5"
      }
    },
    {
      "cell_type": "code",
      "source": [
        "obj = np.zeros(n_h_vars+5)\n",
        "obj[:-5] = 1.0/n_days"
      ],
      "metadata": {
        "id": "IgnAezebpF9z"
      },
      "execution_count": null,
      "outputs": []
    },
    {
      "cell_type": "markdown",
      "source": [
        "# Lower Bounds"
      ],
      "metadata": {
        "id": "A4OxTujtxUvQ"
      }
    },
    {
      "cell_type": "code",
      "source": [
        "lb = np.zeros(n_h_vars+5)\n",
        "lb[:-5] = -np.inf "
      ],
      "metadata": {
        "id": "TmNfZKqipF7b"
      },
      "execution_count": null,
      "outputs": []
    },
    {
      "cell_type": "markdown",
      "source": [
        "# Constraint Design Matrix\n",
        "\n",
        "We will have 2 bounding constraint for each of the 5 profit values and these cosntraints will be applied for every 50 days\n",
        "\n",
        "Therefore we will have 2*5*50=500 constraints applied across all the 50*5 +5 decision variables "
      ],
      "metadata": {
        "id": "j5X5xv7fxZuy"
      }
    },
    {
      "cell_type": "code",
      "source": [
        "A=np.zeros((2*n_h_vars,n_h_vars+5))\n",
        "# A.shape\n",
        "\n",
        "cp_arr=[0.50, 0.50, 0.25, 0.75, 0.25]\n",
        "sp_arr=[1.25,1.20,0.50,1.50,0.60]\n",
        "\n",
        "rhs = np.zeros(2*n_h_vars)\n",
        "direction = np.array(['<']*(2*n_h_vars))\n"
      ],
      "metadata": {
        "id": "uIjnShtmpF4_"
      },
      "execution_count": null,
      "outputs": []
    },
    {
      "cell_type": "markdown",
      "source": [
        "hi<s_P*demand_i-c_p*I_will_print_i if I_will_print_i>demand_i\n",
        "hi<s_p*I_will_print_i -c_P*I_will_print_i if I_will_print_i<=demand_i\n",
        "\n",
        "1st Constraint\n",
        "hi + c_P*I_will_print_i <=s_P*demand_i\n",
        "\n",
        "2nd Constraint\n",
        "hi +  c_P*I_will_print_i -  s_P*I_will_print_i <=0\n"
      ],
      "metadata": {
        "id": "7SKSifBl1Dvt"
      }
    },
    {
      "cell_type": "markdown",
      "source": [
        "# Thought process\n"
      ],
      "metadata": {
        "id": "ifUSQrIE12dY"
      }
    },
    {
      "cell_type": "code",
      "source": [
        "# But here we will have to update 5 constraints at a times as the design of the matrix is so that 5 d_vars associated with profit are assembeled together\n",
        "\n",
        "r=0#Lets just update the first five*2 =10 constraints out of 500 ones\n",
        "#This will only require 1st day demand and repsective cost_prices and selling prices\n",
        "\n",
        "# A[2*r,[0,r+1]] = [cost,1] # location 1 is q, location r+1 is this h\n",
        "# rhs[2*r] = price*demand_df.demand[r]\n",
        "\n",
        "# A[2*r+1,[0,r+1]] = [cost-price,1]\n",
        "# rhs[2*r+1] = 0"
      ],
      "metadata": {
        "id": "tyJP0EfWpF2u"
      },
      "execution_count": null,
      "outputs": []
    },
    {
      "cell_type": "code",
      "source": [
        "A=np.zeros((2*n_h_vars,n_h_vars+5))\n",
        "\n",
        "for r in range(50):\n",
        "  odd=2*r+1\n",
        "  even=2*r\n",
        "  \n",
        "  day_even=even*5\n",
        "\n",
        "  for first_i in range(5):\n",
        "    #1st series of constraints\n",
        "    A[day_even+first_i,[5*r+first_i,250+first_i]] = [1,cp_arr[first_i]] \n",
        "    rhs[day_even+first_i] = sp_arr[first_i]*demand_values[r,first_i]\n",
        "  day_odd=odd*5\n",
        "  for second_i in range(5):\n",
        "    #1st series of constraints\n",
        "    A[day_odd+second_i,[5*r+second_i,250+second_i]] = [1,cp_arr[second_i]-sp_arr[second_i]]\n",
        "    rhs[day_odd+second_i] = 0\n",
        "  print(day_even,day_odd,r*5,sep='-->',end='\\n')\n"
      ],
      "metadata": {
        "id": "jg5Wff_P1wC4",
        "colab": {
          "base_uri": "https://localhost:8080/"
        },
        "outputId": "eed19a4e-5565-4184-981c-1d9de264b8e5"
      },
      "execution_count": null,
      "outputs": [
        {
          "output_type": "stream",
          "name": "stdout",
          "text": [
            "0-->5-->0\n",
            "10-->15-->5\n",
            "20-->25-->10\n",
            "30-->35-->15\n",
            "40-->45-->20\n",
            "50-->55-->25\n",
            "60-->65-->30\n",
            "70-->75-->35\n",
            "80-->85-->40\n",
            "90-->95-->45\n",
            "100-->105-->50\n",
            "110-->115-->55\n",
            "120-->125-->60\n",
            "130-->135-->65\n",
            "140-->145-->70\n",
            "150-->155-->75\n",
            "160-->165-->80\n",
            "170-->175-->85\n",
            "180-->185-->90\n",
            "190-->195-->95\n",
            "200-->205-->100\n",
            "210-->215-->105\n",
            "220-->225-->110\n",
            "230-->235-->115\n",
            "240-->245-->120\n",
            "250-->255-->125\n",
            "260-->265-->130\n",
            "270-->275-->135\n",
            "280-->285-->140\n",
            "290-->295-->145\n",
            "300-->305-->150\n",
            "310-->315-->155\n",
            "320-->325-->160\n",
            "330-->335-->165\n",
            "340-->345-->170\n",
            "350-->355-->175\n",
            "360-->365-->180\n",
            "370-->375-->185\n",
            "380-->385-->190\n",
            "390-->395-->195\n",
            "400-->405-->200\n",
            "410-->415-->205\n",
            "420-->425-->210\n",
            "430-->435-->215\n",
            "440-->445-->220\n",
            "450-->455-->225\n",
            "460-->465-->230\n",
            "470-->475-->235\n",
            "480-->485-->240\n",
            "490-->495-->245\n"
          ]
        }
      ]
    },
    {
      "cell_type": "code",
      "source": [
        "row_indices=np.arange(20)\n",
        "col_idx=np.array([250+i for i in range(5)])#+list(range(10)))\n",
        "A[row_indices.reshape(-1,1),col_idx]"
      ],
      "metadata": {
        "colab": {
          "base_uri": "https://localhost:8080/"
        },
        "id": "y6pm6YGDpFz-",
        "outputId": "775306bb-2459-4d57-b1dd-6c473e1d1e7b"
      },
      "execution_count": null,
      "outputs": [
        {
          "output_type": "execute_result",
          "data": {
            "text/plain": [
              "array([[ 0.5 ,  0.  ,  0.  ,  0.  ,  0.  ],\n",
              "       [ 0.  ,  0.5 ,  0.  ,  0.  ,  0.  ],\n",
              "       [ 0.  ,  0.  ,  0.25,  0.  ,  0.  ],\n",
              "       [ 0.  ,  0.  ,  0.  ,  0.75,  0.  ],\n",
              "       [ 0.  ,  0.  ,  0.  ,  0.  ,  0.25],\n",
              "       [-0.75,  0.  ,  0.  ,  0.  ,  0.  ],\n",
              "       [ 0.  , -0.7 ,  0.  ,  0.  ,  0.  ],\n",
              "       [ 0.  ,  0.  , -0.25,  0.  ,  0.  ],\n",
              "       [ 0.  ,  0.  ,  0.  , -0.75,  0.  ],\n",
              "       [ 0.  ,  0.  ,  0.  ,  0.  , -0.35],\n",
              "       [ 0.5 ,  0.  ,  0.  ,  0.  ,  0.  ],\n",
              "       [ 0.  ,  0.5 ,  0.  ,  0.  ,  0.  ],\n",
              "       [ 0.  ,  0.  ,  0.25,  0.  ,  0.  ],\n",
              "       [ 0.  ,  0.  ,  0.  ,  0.75,  0.  ],\n",
              "       [ 0.  ,  0.  ,  0.  ,  0.  ,  0.25],\n",
              "       [-0.75,  0.  ,  0.  ,  0.  ,  0.  ],\n",
              "       [ 0.  , -0.7 ,  0.  ,  0.  ,  0.  ],\n",
              "       [ 0.  ,  0.  , -0.25,  0.  ,  0.  ],\n",
              "       [ 0.  ,  0.  ,  0.  , -0.75,  0.  ],\n",
              "       [ 0.  ,  0.  ,  0.  ,  0.  , -0.35]])"
            ]
          },
          "metadata": {},
          "execution_count": 10
        }
      ]
    },
    {
      "cell_type": "code",
      "source": [
        "A"
      ],
      "metadata": {
        "colab": {
          "base_uri": "https://localhost:8080/"
        },
        "id": "DBUVAJkHEHof",
        "outputId": "afbb92dd-7a33-43d8-91eb-e3be599bc83c"
      },
      "execution_count": null,
      "outputs": [
        {
          "output_type": "execute_result",
          "data": {
            "text/plain": [
              "array([[ 1.  ,  0.  ,  0.  , ...,  0.  ,  0.  ,  0.  ],\n",
              "       [ 0.  ,  1.  ,  0.  , ...,  0.  ,  0.  ,  0.  ],\n",
              "       [ 0.  ,  0.  ,  1.  , ...,  0.25,  0.  ,  0.  ],\n",
              "       ...,\n",
              "       [ 0.  ,  0.  ,  0.  , ..., -0.25,  0.  ,  0.  ],\n",
              "       [ 0.  ,  0.  ,  0.  , ...,  0.  , -0.75,  0.  ],\n",
              "       [ 0.  ,  0.  ,  0.  , ...,  0.  ,  0.  , -0.35]])"
            ]
          },
          "metadata": {},
          "execution_count": 11
        }
      ]
    },
    {
      "cell_type": "code",
      "source": [
        "spMod = gp.Model()\n",
        "spMod_x = spMod.addMVar(len(obj),lb=lb) # tell the model how many variables there are\n",
        "# must define the variables before adding constraints because variables go into the constraints\n",
        "spMod_con = spMod.addMConstrs(A, spMod_x, direction, rhs) # NAME THE CONSTRAINTS!!! so we can get information about them later!\n",
        "spMod.setMObjective(None,obj,0,sense=gp.GRB.MAXIMIZE) # add the objective to the model...we'll talk about the None and the 0\n",
        "\n",
        "spMod.Params.OutputFlag = 0 # tell gurobi to shut up!!\n",
        "spMod.optimize()\n"
      ],
      "metadata": {
        "id": "sWS9ipwkpFdt",
        "colab": {
          "base_uri": "https://localhost:8080/"
        },
        "outputId": "b7450367-8521-46b9-89bd-ff8da914452c"
      },
      "execution_count": null,
      "outputs": [
        {
          "output_type": "stream",
          "name": "stdout",
          "text": [
            "Restricted license - for non-production use only - expires 2023-10-25\n"
          ]
        }
      ]
    },
    {
      "cell_type": "code",
      "source": [
        "spMod_x.x[-5:]"
      ],
      "metadata": {
        "colab": {
          "base_uri": "https://localhost:8080/"
        },
        "id": "66c6klebDR2X",
        "outputId": "5dee61a4-2ccc-4beb-8800-45c276caee4b"
      },
      "execution_count": null,
      "outputs": [
        {
          "output_type": "execute_result",
          "data": {
            "text/plain": [
              "array([ 76., 462., 205., 123., 422.])"
            ]
          },
          "metadata": {},
          "execution_count": 13
        }
      ]
    },
    {
      "cell_type": "code",
      "source": [
        "spMod.objval"
      ],
      "metadata": {
        "colab": {
          "base_uri": "https://localhost:8080/"
        },
        "id": "Xg9J4dPUDR-p",
        "outputId": "e9fee9fa-f333-43b6-d6da-1589ef9a7627"
      },
      "execution_count": null,
      "outputs": [
        {
          "output_type": "execute_result",
          "data": {
            "text/plain": [
              "336.9889999999998"
            ]
          },
          "metadata": {},
          "execution_count": 14
        }
      ]
    },
    {
      "cell_type": "code",
      "source": [
        ""
      ],
      "metadata": {
        "id": "YcotoWecIZ1z"
      },
      "execution_count": null,
      "outputs": []
    },
    {
      "cell_type": "code",
      "source": [
        "q=spMod_x.x[-5:]\n",
        "optimal_demand_each_day=np.minimum(demand_values,q)\n",
        "\n",
        "np.mean(np.sum(optimal_demand_each_day*sp_arr-cp_arr*q,axis=1))"
      ],
      "metadata": {
        "colab": {
          "base_uri": "https://localhost:8080/"
        },
        "id": "2uE2RjqNICIM",
        "outputId": "69b7a654-bed0-498d-b6d1-0d365353bc55"
      },
      "execution_count": null,
      "outputs": [
        {
          "output_type": "execute_result",
          "data": {
            "text/plain": [
              "336.9889999999999"
            ]
          },
          "metadata": {},
          "execution_count": 15
        }
      ]
    },
    {
      "cell_type": "markdown",
      "source": [
        "# Ans 3"
      ],
      "metadata": {
        "id": "WU-Sgfh3HzhF"
      }
    },
    {
      "cell_type": "code",
      "source": [
        "import numpy.random as npr\n",
        "from collections import defaultdict"
      ],
      "metadata": {
        "id": "u-VCdp_sH1ch"
      },
      "execution_count": null,
      "outputs": []
    },
    {
      "cell_type": "code",
      "source": [
        "\n",
        "def mean_default_10000_sims(num_years_work,nsim = 10000):\n",
        "  def_vec = np.array([False]*nsim)\n",
        "  port_val_vec = np.zeros(nsim)\n",
        "  for sim in range(nsim):\n",
        "      value = 2000000\n",
        "      init_sal=400000\n",
        "      sal_raise=0.025\n",
        "      for year in range(35):\n",
        "          port_return = np.random.normal(size = 1, loc = 0.07, scale = 0.1)\n",
        "          value = value*(1+port_return)\n",
        "\n",
        "          if year<=(num_years_work-1):\n",
        "            value = value + init_sal\n",
        "            init_sal=init_sal*(1+sal_raise)\n",
        "\n",
        "          value = value - 150000\n",
        "          if (value <= 0):\n",
        "              value = 0\n",
        "              break\n",
        "      if value <= 0:\n",
        "          def_vec[sim] = True\n",
        "      port_val_vec[sim] = value\n",
        "  return np.mean(def_vec)"
      ],
      "metadata": {
        "id": "GyP1JCSGHy8e"
      },
      "execution_count": null,
      "outputs": []
    },
    {
      "cell_type": "code",
      "source": [
        "dt_default_mean={}\n",
        "for yr in range(35):\n",
        "  dt_default_mean[yr]=mean_default_10000_sims(yr)"
      ],
      "metadata": {
        "colab": {
          "base_uri": "https://localhost:8080/",
          "height": 335
        },
        "id": "1LxY8nQ8MRO-",
        "outputId": "5e71342c-5ae9-4b16-8617-9ea8ca27d71d"
      },
      "execution_count": null,
      "outputs": [
        {
          "output_type": "error",
          "ename": "KeyboardInterrupt",
          "evalue": "ignored",
          "traceback": [
            "\u001b[0;31m---------------------------------------------------------------------------\u001b[0m",
            "\u001b[0;31mKeyboardInterrupt\u001b[0m                         Traceback (most recent call last)",
            "\u001b[0;32m<ipython-input-71-ff177c9be135>\u001b[0m in \u001b[0;36m<module>\u001b[0;34m()\u001b[0m\n\u001b[1;32m      1\u001b[0m \u001b[0mdt_default_mean\u001b[0m\u001b[0;34m=\u001b[0m\u001b[0;34m{\u001b[0m\u001b[0;34m}\u001b[0m\u001b[0;34m\u001b[0m\u001b[0;34m\u001b[0m\u001b[0m\n\u001b[1;32m      2\u001b[0m \u001b[0;32mfor\u001b[0m \u001b[0myr\u001b[0m \u001b[0;32min\u001b[0m \u001b[0mrange\u001b[0m\u001b[0;34m(\u001b[0m\u001b[0;36m35\u001b[0m\u001b[0;34m)\u001b[0m\u001b[0;34m:\u001b[0m\u001b[0;34m\u001b[0m\u001b[0;34m\u001b[0m\u001b[0m\n\u001b[0;32m----> 3\u001b[0;31m   \u001b[0mdt_default_mean\u001b[0m\u001b[0;34m[\u001b[0m\u001b[0myr\u001b[0m\u001b[0;34m]\u001b[0m\u001b[0;34m=\u001b[0m\u001b[0mmean_default_10000_sims\u001b[0m\u001b[0;34m(\u001b[0m\u001b[0myr\u001b[0m\u001b[0;34m)\u001b[0m\u001b[0;34m\u001b[0m\u001b[0;34m\u001b[0m\u001b[0m\n\u001b[0m",
            "\u001b[0;32m<ipython-input-69-037376e4804e>\u001b[0m in \u001b[0;36mmean_default_10000_sims\u001b[0;34m(num_years_work, nsim)\u001b[0m\n\u001b[1;32m     15\u001b[0m             \u001b[0minit_sal\u001b[0m\u001b[0;34m=\u001b[0m\u001b[0minit_sal\u001b[0m\u001b[0;34m*\u001b[0m\u001b[0;34m(\u001b[0m\u001b[0;36m1\u001b[0m\u001b[0;34m+\u001b[0m\u001b[0msal_raise\u001b[0m\u001b[0;34m)\u001b[0m\u001b[0;34m\u001b[0m\u001b[0;34m\u001b[0m\u001b[0m\n\u001b[1;32m     16\u001b[0m \u001b[0;34m\u001b[0m\u001b[0m\n\u001b[0;32m---> 17\u001b[0;31m           \u001b[0mvalue\u001b[0m \u001b[0;34m=\u001b[0m \u001b[0mvalue\u001b[0m \u001b[0;34m-\u001b[0m \u001b[0;36m150000\u001b[0m\u001b[0;34m\u001b[0m\u001b[0;34m\u001b[0m\u001b[0m\n\u001b[0m\u001b[1;32m     18\u001b[0m           \u001b[0;32mif\u001b[0m \u001b[0;34m(\u001b[0m\u001b[0mvalue\u001b[0m \u001b[0;34m<=\u001b[0m \u001b[0;36m0\u001b[0m\u001b[0;34m)\u001b[0m\u001b[0;34m:\u001b[0m\u001b[0;34m\u001b[0m\u001b[0;34m\u001b[0m\u001b[0m\n\u001b[1;32m     19\u001b[0m               \u001b[0mvalue\u001b[0m \u001b[0;34m=\u001b[0m \u001b[0;36m0\u001b[0m\u001b[0;34m\u001b[0m\u001b[0;34m\u001b[0m\u001b[0m\n",
            "\u001b[0;31mKeyboardInterrupt\u001b[0m: "
          ]
        }
      ]
    },
    {
      "cell_type": "code",
      "source": [
        "import pandas as pd\n",
        "pd.Series(dt_default_mean).plot(figsize=(20,8))"
      ],
      "metadata": {
        "colab": {
          "base_uri": "https://localhost:8080/",
          "height": 501
        },
        "id": "Li1UgaYaNDyl",
        "outputId": "386c0936-c8f6-4363-9ea8-d3bfb228423f"
      },
      "execution_count": null,
      "outputs": [
        {
          "output_type": "execute_result",
          "data": {
            "text/plain": [
              "<matplotlib.axes._subplots.AxesSubplot at 0x7f17f9aaee10>"
            ]
          },
          "metadata": {},
          "execution_count": 72
        },
        {
          "output_type": "display_data",
          "data": {
            "image/png": "[encoded data removed]",
            "text/plain": [
              "<Figure size 1440x576 with 1 Axes>"
            ]
          },
          "metadata": {
            "needs_background": "light"
          }
        }
      ]
    },
    {
      "cell_type": "code",
      "source": [
        "dt_default_mean"
      ],
      "metadata": {
        "id": "VuuWT7oDNnOI",
        "outputId": "24eb152e-5484-44cd-867b-38e86ebe190f",
        "colab": {
          "base_uri": "https://localhost:8080/"
        }
      },
      "execution_count": null,
      "outputs": [
        {
          "output_type": "execute_result",
          "data": {
            "text/plain": [
              "{0: 0.5589,\n",
              " 1: 0.2954,\n",
              " 2: 0.1305,\n",
              " 3: 0.0546,\n",
              " 4: 0.0204,\n",
              " 5: 0.0068,\n",
              " 6: 0.0021,\n",
              " 7: 0.0004,\n",
              " 8: 0.0,\n",
              " 9: 0.0,\n",
              " 10: 0.0002,\n",
              " 11: 0.0,\n",
              " 12: 0.0,\n",
              " 13: 0.0,\n",
              " 14: 0.0,\n",
              " 15: 0.0,\n",
              " 16: 0.0,\n",
              " 17: 0.0,\n",
              " 18: 0.0,\n",
              " 19: 0.0,\n",
              " 20: 0.0,\n",
              " 21: 0.0,\n",
              " 22: 0.0,\n",
              " 23: 0.0,\n",
              " 24: 0.0,\n",
              " 25: 0.0,\n",
              " 26: 0.0,\n",
              " 27: 0.0}"
            ]
          },
          "metadata": {},
          "execution_count": 73
        }
      ]
    },
    {
      "cell_type": "code",
      "source": [
        "np.mean(def_vec)"
      ],
      "metadata": {
        "colab": {
          "base_uri": "https://localhost:8080/"
        },
        "id": "ZW1lu1hYJXUl",
        "outputId": "22911dc7-80e9-4514-dda0-dae6cb9baaa1"
      },
      "execution_count": null,
      "outputs": [
        {
          "output_type": "execute_result",
          "data": {
            "text/plain": [
              "0.2988"
            ]
          },
          "metadata": {},
          "execution_count": 68
        }
      ]
    },
    {
      "cell_type": "markdown",
      "source": [
        "# ANS 4)"
      ],
      "metadata": {
        "id": "GSWgOH3_pDc_"
      }
    },
    {
      "cell_type": "code",
      "execution_count": null,
      "metadata": {
        "id": "K6OKJVGjtB9j"
      },
      "outputs": [],
      "source": [
        "import numpy as np\n",
        "import numpy.random as npr\n",
        "\n"
      ]
    },
    {
      "cell_type": "code",
      "source": [
        "def calculate_profit():\n",
        "  process_1=npr.normal(loc=10,scale=3,size=100)\n",
        "  process_2=npr.normal(loc=5,scale=2,size=200)\n",
        "\n",
        "  cost_price=100*10+200*5\n",
        "\n",
        "  total_chips=np.concatenate([process_1,process_2])\n",
        "\n",
        "  S_P=np.where(total_chips>=7,15,8)\n",
        "  selling_price=np.sum(S_P)\n",
        "\n",
        "  profit=selling_price-cost_price\n",
        "  return profit\n",
        "p_lt=[]\n",
        "for _ in range(10000):\n",
        "  p_instance=calculate_profit()\n",
        "  p_lt.append(p_instance)\n",
        "\n"
      ],
      "metadata": {
        "id": "13wtujDstFik"
      },
      "execution_count": null,
      "outputs": []
    },
    {
      "cell_type": "code",
      "source": [
        "import matplotlib.pyplot as plt\n",
        "plt.hist(p_lt,bins=100)"
      ],
      "metadata": {
        "colab": {
          "base_uri": "https://localhost:8080/",
          "height": 740
        },
        "id": "nYybX7LMtM-1",
        "outputId": "cd241f3d-0d70-4aeb-ad00-554ac42de652"
      },
      "execution_count": null,
      "outputs": [
        {
          "output_type": "execute_result",
          "data": {
            "text/plain": [
              "(array([  1.,   0.,   2.,   0.,   1.,   0.,   0.,   0.,   6.,   0.,   7.,\n",
              "          0.,   0.,  17.,   0.,  33.,   0.,  38.,   0.,  58.,   0.,  82.,\n",
              "          0., 113.,   0.,   0., 134.,   0., 203.,   0., 273.,   0., 328.,\n",
              "          0., 369.,   0., 432.,   0.,   0., 446.,   0., 519.,   0., 573.,\n",
              "          0., 610.,   0., 650.,   0.,   0., 615.,   0., 598.,   0., 606.,\n",
              "          0., 536.,   0., 484.,   0., 443.,   0.,   0., 371.,   0., 318.,\n",
              "          0., 257.,   0., 206.,   0., 177.,   0., 159.,   0.,   0., 102.,\n",
              "          0.,  62.,   0.,  54.,   0.,  31.,   0.,  38.,   0.,  14.,   0.,\n",
              "          0.,  12.,   0.,   8.,   0.,   5.,   0.,   5.,   0.,   3.,   0.,\n",
              "          1.]),\n",
              " array([1051.  , 1054.22, 1057.44, 1060.66, 1063.88, 1067.1 , 1070.32,\n",
              "        1073.54, 1076.76, 1079.98, 1083.2 , 1086.42, 1089.64, 1092.86,\n",
              "        1096.08, 1099.3 , 1102.52, 1105.74, 1108.96, 1112.18, 1115.4 ,\n",
              "        1118.62, 1121.84, 1125.06, 1128.28, 1131.5 , 1134.72, 1137.94,\n",
              "        1141.16, 1144.38, 1147.6 , 1150.82, 1154.04, 1157.26, 1160.48,\n",
              "        1163.7 , 1166.92, 1170.14, 1173.36, 1176.58, 1179.8 , 1183.02,\n",
              "        1186.24, 1189.46, 1192.68, 1195.9 , 1199.12, 1202.34, 1205.56,\n",
              "        1208.78, 1212.  , 1215.22, 1218.44, 1221.66, 1224.88, 1228.1 ,\n",
              "        1231.32, 1234.54, 1237.76, 1240.98, 1244.2 , 1247.42, 1250.64,\n",
              "        1253.86, 1257.08, 1260.3 , 1263.52, 1266.74, 1269.96, 1273.18,\n",
              "        1276.4 , 1279.62, 1282.84, 1286.06, 1289.28, 1292.5 , 1295.72,\n",
              "        1298.94, 1302.16, 1305.38, 1308.6 , 1311.82, 1315.04, 1318.26,\n",
              "        1321.48, 1324.7 , 1327.92, 1331.14, 1334.36, 1337.58, 1340.8 ,\n",
              "        1344.02, 1347.24, 1350.46, 1353.68, 1356.9 , 1360.12, 1363.34,\n",
              "        1366.56, 1369.78, 1373.  ]),\n",
              " <a list of 100 Patch objects>)"
            ]
          },
          "metadata": {},
          "execution_count": 19
        },
        {
          "output_type": "display_data",
          "data": {
            "image/png": "[encoded data removed]",
            "text/plain": [
              "<Figure size 432x288 with 1 Axes>"
            ]
          },
          "metadata": {
            "needs_background": "light"
          }
        }
      ]
    },
    {
      "cell_type": "code",
      "source": [
        "np.std(p_lt),np.mean(p_lt)"
      ],
      "metadata": {
        "colab": {
          "base_uri": "https://localhost:8080/"
        },
        "id": "rNz3dD6UtVFj",
        "outputId": "a6626b8b-1d3e-4461-b277-8b47698667b7"
      },
      "execution_count": null,
      "outputs": [
        {
          "output_type": "execute_result",
          "data": {
            "text/plain": [
              "(44.564080241266055, 1210.3235)"
            ]
          },
          "metadata": {},
          "execution_count": 20
        }
      ]
    },
    {
      "cell_type": "markdown",
      "source": [
        "# ROUGH WORK"
      ],
      "metadata": {
        "id": "Xzyqjw9C4rCB"
      }
    },
    {
      "cell_type": "code",
      "source": [
        "temp=np.arange(500)\n",
        "for r in range(n_days):\n",
        "  even=2*r\n",
        "  odd=2*r+1\n",
        "  print('even',temp[5*even:5*even+5])\n",
        "  print('odd_',odd,temp[5*odd:5*odd+5])\n",
        "  if r==2:\n",
        "    break"
      ],
      "metadata": {
        "id": "-KUqeWkRunbP",
        "colab": {
          "base_uri": "https://localhost:8080/"
        },
        "outputId": "645ab980-5c7d-4f45-9033-6069d450fa35"
      },
      "execution_count": null,
      "outputs": [
        {
          "output_type": "stream",
          "name": "stdout",
          "text": [
            "even [0 1 2 3 4]\n",
            "odd_ 1 [5 6 7 8 9]\n",
            "even [10 11 12 13 14]\n",
            "odd_ 3 [15 16 17 18 19]\n",
            "even [20 21 22 23 24]\n",
            "odd_ 5 [25 26 27 28 29]\n"
          ]
        }
      ]
    },
    {
      "cell_type": "code",
      "source": [
        "  # # hi_to_deal_with=5*r\n",
        "\n",
        "  # # first_five=A[5*even:5*even+5,:]\n",
        "  # # second_five=A[5*odd:5*odd+5,:]\n",
        "  # break\n",
        "\n",
        "\n",
        "  # # print('even',temp[5*even:5*even+5])\n",
        "  # # print('odd_',odd,temp[5*odd:5*odd+5])\n",
        "  # # if r==2:\n",
        "  # #   break"
      ],
      "metadata": {
        "id": "C2M2XzWp8c1y"
      },
      "execution_count": null,
      "outputs": []
    },
    {
      "cell_type": "code",
      "source": [
        "# temp[np.index()]"
      ],
      "metadata": {
        "id": "r80pwQzi8hKk"
      },
      "execution_count": null,
      "outputs": []
    }
  ]
}